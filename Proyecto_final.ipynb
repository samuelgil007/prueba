{
  "nbformat": 4,
  "nbformat_minor": 0,
  "metadata": {
    "colab": {
      "name": "Proyecto final.ipynb",
      "provenance": [],
      "collapsed_sections": [],
      "toc_visible": true
    },
    "kernelspec": {
      "display_name": "Python 3",
      "name": "python3"
    }
  },
  "cells": [
    {
      "cell_type": "code",
      "metadata": {
        "id": "d69FAFCBCCda",
        "colab": {
          "base_uri": "https://localhost:8080/"
        },
        "outputId": "07e22600-9425-4d2a-8e5c-3d1b7ece1ddc"
      },
      "source": [
        "import numpy as np\n",
        "from scipy.io import arff\n",
        "import pandas as pd\n",
        "import matplotlib.pyplot as plt\n",
        "import seaborn as sns\n",
        "from sklearn.datasets import load_digits\n",
        "from sklearn.ensemble import GradientBoostingClassifier\n",
        "from sklearn.model_selection import KFold\n",
        "from sklearn import metrics\n",
        "from sklearn.metrics import confusion_matrix\n",
        "import seaborn as sns\n",
        "import matplotlib.pyplot as plt\n",
        "from sklearn.preprocessing import StandardScaler\n",
        "from scipy.spatial.distance import euclidean\n",
        "import itertools\n",
        "from sklearn.svm import SVC\n",
        "from sklearn.metrics import mean_absolute_error, accuracy_score, mean_squared_error\n",
        "from sklearn.neural_network import MLPClassifier\n",
        "from sklearn import metrics\n",
        "from sklearn.ensemble import RandomForestClassifier\n",
        "from sklearn.metrics import classification_report\n",
        "from sklearn.metrics import recall_score\n",
        "from sklearn.metrics import precision_score\n",
        "from sklearn.metrics import f1_score\n",
        "from sklearn.discriminant_analysis import QuadraticDiscriminantAnalysis\n",
        "from IPython.display import clear_output\n",
        "from sklearn.neighbors import KernelDensity\n",
        "from tabulate import tabulate\n",
        "from mlxtend.feature_selection import SequentialFeatureSelector as SFS\n"
      ],
      "execution_count": null,
      "outputs": [
        {
          "output_type": "stream",
          "text": [
            "/usr/local/lib/python3.6/dist-packages/sklearn/externals/joblib/__init__.py:15: FutureWarning: sklearn.externals.joblib is deprecated in 0.21 and will be removed in 0.23. Please import this functionality directly from joblib, which can be installed with: pip install joblib. If this warning is raised when loading pickled models, you may need to re-serialize those models with scikit-learn 0.21+.\n",
            "  warnings.warn(msg, category=FutureWarning)\n"
          ],
          "name": "stderr"
        }
      ]
    },
    {
      "cell_type": "code",
      "metadata": {
        "colab": {
          "base_uri": "https://localhost:8080/"
        },
        "id": "L12q2UeBRZcN",
        "outputId": "cf2b836b-eb35-49a3-bc22-93e71123de24"
      },
      "source": [
        "from google.colab import drive\n",
        "drive.mount('/content/drive')"
      ],
      "execution_count": null,
      "outputs": [
        {
          "output_type": "stream",
          "text": [
            "Mounted at /content/drive\n"
          ],
          "name": "stdout"
        }
      ]
    },
    {
      "cell_type": "markdown",
      "metadata": {
        "id": "yHDbrGhxJK8S"
      },
      "source": [
        "# ANALISIS DE LOS DATOS"
      ]
    },
    {
      "cell_type": "code",
      "metadata": {
        "colab": {
          "base_uri": "https://localhost:8080/",
          "height": 224
        },
        "id": "bN_YXfiFHcci",
        "outputId": "8f3f57b3-f643-41a6-b1ca-753026ba99fa"
      },
      "source": [
        "url = '/content/drive/Shareddrives/Simulacion datos/PhishingDB.csv'\r\n",
        "data = pd.read_csv(url)\r\n",
        "del data[\"id\"]\r\n",
        "data.head()"
      ],
      "execution_count": null,
      "outputs": [
        {
          "output_type": "execute_result",
          "data": {
            "text/html": [
              "<div>\n",
              "<style scoped>\n",
              "    .dataframe tbody tr th:only-of-type {\n",
              "        vertical-align: middle;\n",
              "    }\n",
              "\n",
              "    .dataframe tbody tr th {\n",
              "        vertical-align: top;\n",
              "    }\n",
              "\n",
              "    .dataframe thead th {\n",
              "        text-align: right;\n",
              "    }\n",
              "</style>\n",
              "<table border=\"1\" class=\"dataframe\">\n",
              "  <thead>\n",
              "    <tr style=\"text-align: right;\">\n",
              "      <th></th>\n",
              "      <th>having_IP_Address</th>\n",
              "      <th>URL_Length</th>\n",
              "      <th>Shortining_Service</th>\n",
              "      <th>having_At_Symbol</th>\n",
              "      <th>double_slash_redirecting</th>\n",
              "      <th>Prefix_Suffix</th>\n",
              "      <th>having_Sub_Domain</th>\n",
              "      <th>SSLfinal_State</th>\n",
              "      <th>Domain_registeration_length</th>\n",
              "      <th>Favicon</th>\n",
              "      <th>port</th>\n",
              "      <th>HTTPS_token</th>\n",
              "      <th>Request_URL</th>\n",
              "      <th>URL_of_Anchor</th>\n",
              "      <th>Links_in_tags</th>\n",
              "      <th>SFH</th>\n",
              "      <th>Submitting_to_email</th>\n",
              "      <th>Abnormal_URL</th>\n",
              "      <th>Redirect</th>\n",
              "      <th>on_mouseover</th>\n",
              "      <th>RightClick</th>\n",
              "      <th>popUpWidnow</th>\n",
              "      <th>Iframe</th>\n",
              "      <th>age_of_domain</th>\n",
              "      <th>DNSRecord</th>\n",
              "      <th>web_traffic</th>\n",
              "      <th>Page_Rank</th>\n",
              "      <th>Google_Index</th>\n",
              "      <th>Links_pointing_to_page</th>\n",
              "      <th>Statistical_report</th>\n",
              "      <th>Result</th>\n",
              "    </tr>\n",
              "  </thead>\n",
              "  <tbody>\n",
              "    <tr>\n",
              "      <th>0</th>\n",
              "      <td>-1</td>\n",
              "      <td>1</td>\n",
              "      <td>1</td>\n",
              "      <td>1</td>\n",
              "      <td>-1</td>\n",
              "      <td>-1</td>\n",
              "      <td>-1</td>\n",
              "      <td>-1</td>\n",
              "      <td>-1</td>\n",
              "      <td>1</td>\n",
              "      <td>1</td>\n",
              "      <td>-1</td>\n",
              "      <td>1</td>\n",
              "      <td>-1</td>\n",
              "      <td>1</td>\n",
              "      <td>-1</td>\n",
              "      <td>-1</td>\n",
              "      <td>-1</td>\n",
              "      <td>0</td>\n",
              "      <td>1</td>\n",
              "      <td>1</td>\n",
              "      <td>1</td>\n",
              "      <td>1</td>\n",
              "      <td>-1</td>\n",
              "      <td>-1</td>\n",
              "      <td>-1</td>\n",
              "      <td>-1</td>\n",
              "      <td>1</td>\n",
              "      <td>1</td>\n",
              "      <td>-1</td>\n",
              "      <td>-1</td>\n",
              "    </tr>\n",
              "    <tr>\n",
              "      <th>1</th>\n",
              "      <td>1</td>\n",
              "      <td>1</td>\n",
              "      <td>1</td>\n",
              "      <td>1</td>\n",
              "      <td>1</td>\n",
              "      <td>-1</td>\n",
              "      <td>0</td>\n",
              "      <td>1</td>\n",
              "      <td>-1</td>\n",
              "      <td>1</td>\n",
              "      <td>1</td>\n",
              "      <td>-1</td>\n",
              "      <td>1</td>\n",
              "      <td>0</td>\n",
              "      <td>-1</td>\n",
              "      <td>-1</td>\n",
              "      <td>1</td>\n",
              "      <td>1</td>\n",
              "      <td>0</td>\n",
              "      <td>1</td>\n",
              "      <td>1</td>\n",
              "      <td>1</td>\n",
              "      <td>1</td>\n",
              "      <td>-1</td>\n",
              "      <td>-1</td>\n",
              "      <td>0</td>\n",
              "      <td>-1</td>\n",
              "      <td>1</td>\n",
              "      <td>1</td>\n",
              "      <td>1</td>\n",
              "      <td>-1</td>\n",
              "    </tr>\n",
              "    <tr>\n",
              "      <th>2</th>\n",
              "      <td>1</td>\n",
              "      <td>0</td>\n",
              "      <td>1</td>\n",
              "      <td>1</td>\n",
              "      <td>1</td>\n",
              "      <td>-1</td>\n",
              "      <td>-1</td>\n",
              "      <td>-1</td>\n",
              "      <td>-1</td>\n",
              "      <td>1</td>\n",
              "      <td>1</td>\n",
              "      <td>-1</td>\n",
              "      <td>1</td>\n",
              "      <td>0</td>\n",
              "      <td>-1</td>\n",
              "      <td>-1</td>\n",
              "      <td>-1</td>\n",
              "      <td>-1</td>\n",
              "      <td>0</td>\n",
              "      <td>1</td>\n",
              "      <td>1</td>\n",
              "      <td>1</td>\n",
              "      <td>1</td>\n",
              "      <td>1</td>\n",
              "      <td>-1</td>\n",
              "      <td>1</td>\n",
              "      <td>-1</td>\n",
              "      <td>1</td>\n",
              "      <td>0</td>\n",
              "      <td>-1</td>\n",
              "      <td>-1</td>\n",
              "    </tr>\n",
              "    <tr>\n",
              "      <th>3</th>\n",
              "      <td>1</td>\n",
              "      <td>0</td>\n",
              "      <td>1</td>\n",
              "      <td>1</td>\n",
              "      <td>1</td>\n",
              "      <td>-1</td>\n",
              "      <td>-1</td>\n",
              "      <td>-1</td>\n",
              "      <td>1</td>\n",
              "      <td>1</td>\n",
              "      <td>1</td>\n",
              "      <td>-1</td>\n",
              "      <td>-1</td>\n",
              "      <td>0</td>\n",
              "      <td>0</td>\n",
              "      <td>-1</td>\n",
              "      <td>1</td>\n",
              "      <td>1</td>\n",
              "      <td>0</td>\n",
              "      <td>1</td>\n",
              "      <td>1</td>\n",
              "      <td>1</td>\n",
              "      <td>1</td>\n",
              "      <td>-1</td>\n",
              "      <td>-1</td>\n",
              "      <td>1</td>\n",
              "      <td>-1</td>\n",
              "      <td>1</td>\n",
              "      <td>-1</td>\n",
              "      <td>1</td>\n",
              "      <td>-1</td>\n",
              "    </tr>\n",
              "    <tr>\n",
              "      <th>4</th>\n",
              "      <td>1</td>\n",
              "      <td>0</td>\n",
              "      <td>-1</td>\n",
              "      <td>1</td>\n",
              "      <td>1</td>\n",
              "      <td>-1</td>\n",
              "      <td>1</td>\n",
              "      <td>1</td>\n",
              "      <td>-1</td>\n",
              "      <td>1</td>\n",
              "      <td>1</td>\n",
              "      <td>1</td>\n",
              "      <td>1</td>\n",
              "      <td>0</td>\n",
              "      <td>0</td>\n",
              "      <td>-1</td>\n",
              "      <td>1</td>\n",
              "      <td>1</td>\n",
              "      <td>0</td>\n",
              "      <td>-1</td>\n",
              "      <td>1</td>\n",
              "      <td>-1</td>\n",
              "      <td>1</td>\n",
              "      <td>-1</td>\n",
              "      <td>-1</td>\n",
              "      <td>0</td>\n",
              "      <td>-1</td>\n",
              "      <td>1</td>\n",
              "      <td>1</td>\n",
              "      <td>1</td>\n",
              "      <td>1</td>\n",
              "    </tr>\n",
              "  </tbody>\n",
              "</table>\n",
              "</div>"
            ],
            "text/plain": [
              "   having_IP_Address  URL_Length  ...  Statistical_report  Result\n",
              "0                 -1           1  ...                  -1      -1\n",
              "1                  1           1  ...                   1      -1\n",
              "2                  1           0  ...                  -1      -1\n",
              "3                  1           0  ...                   1      -1\n",
              "4                  1           0  ...                   1       1\n",
              "\n",
              "[5 rows x 31 columns]"
            ]
          },
          "metadata": {
            "tags": []
          },
          "execution_count": 5
        }
      ]
    },
    {
      "cell_type": "code",
      "metadata": {
        "colab": {
          "base_uri": "https://localhost:8080/"
        },
        "id": "ruDRa5F1hX1X",
        "outputId": "65cdeae9-6fdf-41dc-84d1-618c3f9aeca4"
      },
      "source": [
        "data.shape"
      ],
      "execution_count": null,
      "outputs": [
        {
          "output_type": "execute_result",
          "data": {
            "text/plain": [
              "(11055, 31)"
            ]
          },
          "metadata": {
            "tags": []
          },
          "execution_count": 4
        }
      ]
    },
    {
      "cell_type": "code",
      "metadata": {
        "colab": {
          "base_uri": "https://localhost:8080/"
        },
        "id": "BcK6Y-Ichhd1",
        "outputId": "095588db-ec6c-49d2-dcf8-d8f39e07e650"
      },
      "source": [
        "data.shape"
      ],
      "execution_count": null,
      "outputs": [
        {
          "output_type": "execute_result",
          "data": {
            "text/plain": [
              "(11055, 31)"
            ]
          },
          "metadata": {
            "tags": []
          },
          "execution_count": 4
        }
      ]
    },
    {
      "cell_type": "code",
      "metadata": {
        "colab": {
          "base_uri": "https://localhost:8080/"
        },
        "id": "SLKi8bmiOjvO",
        "outputId": "8aa90c0c-bcd9-475c-c051-c570d2568712"
      },
      "source": [
        "data.info()"
      ],
      "execution_count": null,
      "outputs": [
        {
          "output_type": "stream",
          "text": [
            "<class 'pandas.core.frame.DataFrame'>\n",
            "RangeIndex: 11055 entries, 0 to 11054\n",
            "Data columns (total 31 columns):\n",
            " #   Column                       Non-Null Count  Dtype\n",
            "---  ------                       --------------  -----\n",
            " 0   having_IP_Address            11055 non-null  int64\n",
            " 1   URL_Length                   11055 non-null  int64\n",
            " 2   Shortining_Service           11055 non-null  int64\n",
            " 3   having_At_Symbol             11055 non-null  int64\n",
            " 4   double_slash_redirecting     11055 non-null  int64\n",
            " 5   Prefix_Suffix                11055 non-null  int64\n",
            " 6   having_Sub_Domain            11055 non-null  int64\n",
            " 7   SSLfinal_State               11055 non-null  int64\n",
            " 8   Domain_registeration_length  11055 non-null  int64\n",
            " 9   Favicon                      11055 non-null  int64\n",
            " 10  port                         11055 non-null  int64\n",
            " 11  HTTPS_token                  11055 non-null  int64\n",
            " 12  Request_URL                  11055 non-null  int64\n",
            " 13  URL_of_Anchor                11055 non-null  int64\n",
            " 14  Links_in_tags                11055 non-null  int64\n",
            " 15  SFH                          11055 non-null  int64\n",
            " 16  Submitting_to_email          11055 non-null  int64\n",
            " 17  Abnormal_URL                 11055 non-null  int64\n",
            " 18  Redirect                     11055 non-null  int64\n",
            " 19  on_mouseover                 11055 non-null  int64\n",
            " 20  RightClick                   11055 non-null  int64\n",
            " 21  popUpWidnow                  11055 non-null  int64\n",
            " 22  Iframe                       11055 non-null  int64\n",
            " 23  age_of_domain                11055 non-null  int64\n",
            " 24  DNSRecord                    11055 non-null  int64\n",
            " 25  web_traffic                  11055 non-null  int64\n",
            " 26  Page_Rank                    11055 non-null  int64\n",
            " 27  Google_Index                 11055 non-null  int64\n",
            " 28  Links_pointing_to_page       11055 non-null  int64\n",
            " 29  Statistical_report           11055 non-null  int64\n",
            " 30  Result                       11055 non-null  int64\n",
            "dtypes: int64(31)\n",
            "memory usage: 2.6 MB\n"
          ],
          "name": "stdout"
        }
      ]
    },
    {
      "cell_type": "code",
      "metadata": {
        "colab": {
          "base_uri": "https://localhost:8080/"
        },
        "id": "OoSbhNJTOmJ-",
        "outputId": "22b5bc34-1b77-4ba3-c4fc-25caf55ee75f"
      },
      "source": [
        "data.columns"
      ],
      "execution_count": null,
      "outputs": [
        {
          "output_type": "execute_result",
          "data": {
            "text/plain": [
              "Index(['having_IP_Address', 'URL_Length', 'Shortining_Service',\n",
              "       'having_At_Symbol', 'double_slash_redirecting', 'Prefix_Suffix',\n",
              "       'having_Sub_Domain', 'SSLfinal_State', 'Domain_registeration_length',\n",
              "       'Favicon', 'port', 'HTTPS_token', 'Request_URL', 'URL_of_Anchor',\n",
              "       'Links_in_tags', 'SFH', 'Submitting_to_email', 'Abnormal_URL',\n",
              "       'Redirect', 'on_mouseover', 'RightClick', 'popUpWidnow', 'Iframe',\n",
              "       'age_of_domain', 'DNSRecord', 'web_traffic', 'Page_Rank',\n",
              "       'Google_Index', 'Links_pointing_to_page', 'Statistical_report',\n",
              "       'Result'],\n",
              "      dtype='object')"
            ]
          },
          "metadata": {
            "tags": []
          },
          "execution_count": 9
        }
      ]
    },
    {
      "cell_type": "code",
      "metadata": {
        "colab": {
          "base_uri": "https://localhost:8080/"
        },
        "id": "AEczZsxAOmZ9",
        "outputId": "c77dbf57-8312-46d0-fd34-b92e40b29c67"
      },
      "source": [
        "data.isnull().sum()"
      ],
      "execution_count": null,
      "outputs": [
        {
          "output_type": "execute_result",
          "data": {
            "text/plain": [
              "having_IP_Address              0\n",
              "URL_Length                     0\n",
              "Shortining_Service             0\n",
              "having_At_Symbol               0\n",
              "double_slash_redirecting       0\n",
              "Prefix_Suffix                  0\n",
              "having_Sub_Domain              0\n",
              "SSLfinal_State                 0\n",
              "Domain_registeration_length    0\n",
              "Favicon                        0\n",
              "port                           0\n",
              "HTTPS_token                    0\n",
              "Request_URL                    0\n",
              "URL_of_Anchor                  0\n",
              "Links_in_tags                  0\n",
              "SFH                            0\n",
              "Submitting_to_email            0\n",
              "Abnormal_URL                   0\n",
              "Redirect                       0\n",
              "on_mouseover                   0\n",
              "RightClick                     0\n",
              "popUpWidnow                    0\n",
              "Iframe                         0\n",
              "age_of_domain                  0\n",
              "DNSRecord                      0\n",
              "web_traffic                    0\n",
              "Page_Rank                      0\n",
              "Google_Index                   0\n",
              "Links_pointing_to_page         0\n",
              "Statistical_report             0\n",
              "Result                         0\n",
              "dtype: int64"
            ]
          },
          "metadata": {
            "tags": []
          },
          "execution_count": 22
        }
      ]
    },
    {
      "cell_type": "markdown",
      "metadata": {
        "id": "zS_K623pfQx5"
      },
      "source": [
        "Distribución de las clases:"
      ]
    },
    {
      "cell_type": "code",
      "metadata": {
        "colab": {
          "base_uri": "https://localhost:8080/",
          "height": 401
        },
        "id": "1_zp37SMbQnV",
        "outputId": "3b20f4b0-0e94-4b0a-bae6-cc7c0668233b"
      },
      "source": [
        "print(data['Result'].value_counts())\n",
        "sns.countplot(data['Result'])"
      ],
      "execution_count": null,
      "outputs": [
        {
          "output_type": "stream",
          "text": [
            " 1    6157\n",
            "-1    4898\n",
            "Name: Result, dtype: int64\n"
          ],
          "name": "stdout"
        },
        {
          "output_type": "stream",
          "text": [
            "/usr/local/lib/python3.6/dist-packages/seaborn/_decorators.py:43: FutureWarning: Pass the following variable as a keyword arg: x. From version 0.12, the only valid positional argument will be `data`, and passing other arguments without an explicit keyword will result in an error or misinterpretation.\n",
            "  FutureWarning\n"
          ],
          "name": "stderr"
        },
        {
          "output_type": "execute_result",
          "data": {
            "text/plain": [
              "<matplotlib.axes._subplots.AxesSubplot at 0x7fe86f8dfa20>"
            ]
          },
          "metadata": {
            "tags": []
          },
          "execution_count": 4
        },
        {
          "output_type": "display_data",
          "data": {
            "image/png": "[encoded data removed]",
            "text/plain": [
              "<Figure size 432x288 with 1 Axes>"
            ]
          },
          "metadata": {
            "tags": [],
            "needs_background": "light"
          }
        }
      ]
    },
    {
      "cell_type": "markdown",
      "metadata": {
        "id": "8gY89wN8JYGp"
      },
      "source": [
        "Separacion de X y Y:"
      ]
    },
    {
      "cell_type": "code",
      "metadata": {
        "colab": {
          "base_uri": "https://localhost:8080/"
        },
        "id": "hTIJFHUo4e4L",
        "outputId": "65e2d415-db0f-4c83-9792-8bc0efa7be11"
      },
      "source": [
        "X = data.drop('Result', axis=1).values\n",
        "Y = data['Result'].values\n",
        "print (X.shape , Y.shape)\n",
        "#1"
      ],
      "execution_count": null,
      "outputs": [
        {
          "output_type": "stream",
          "text": [
            "(11055, 30) (11055,)\n"
          ],
          "name": "stdout"
        }
      ]
    },
    {
      "cell_type": "markdown",
      "metadata": {
        "id": "xivJRqiiy14l"
      },
      "source": [
        "Separacion de test y train: (BORRAR ?)\r\n",
        "\r\n"
      ]
    },
    {
      "cell_type": "code",
      "metadata": {
        "colab": {
          "base_uri": "https://localhost:8080/"
        },
        "id": "YAXYW5wBAVh-",
        "outputId": "2870ec3e-d467-4b2f-bbda-97c9137f80e6"
      },
      "source": [
        "#Para pruebas con modelos complicados\n",
        "from sklearn.model_selection import train_test_split\n",
        "X_train, X_test, Y_train, Y_test = train_test_split(X, Y, test_size=0.01, random_state=0)\n",
        "print (X_test.shape , Y_test.shape)"
      ],
      "execution_count": null,
      "outputs": [
        {
          "output_type": "stream",
          "text": [
            "(111, 30) (111,)\n"
          ],
          "name": "stdout"
        }
      ]
    },
    {
      "cell_type": "markdown",
      "metadata": {
        "id": "0V57nkzBJ7MW"
      },
      "source": [
        "Funcion para graficar matriz de confusion:\r\n",
        "\r\n"
      ]
    },
    {
      "cell_type": "code",
      "metadata": {
        "id": "-TMwkTnAVHDM"
      },
      "source": [
        "  #NORMALIZAR\n",
        "  def calcularMatrizCF(matris,titulo):\n",
        "      a = (matris[0,0] +  matris[0,1])\n",
        "      b = (matris[1,0] +  matris[1,1])\n",
        "      matris[0,0] =  matris[0,0] / a\n",
        "      matris[0,1] =  matris[0,1] / a\n",
        "      matris[1,0] =  matris[1,0] / b\n",
        "      matris[1,1] =  matris[1,1] / b\n",
        "      #MATRIZ DE CONFUSION\n",
        "      sns.heatmap(matris,annot=True)\n",
        "      plt.xlabel('Label Predicha')\n",
        "      plt.ylabel('Label Verdadera')\n",
        "      plt.title(titulo)\n",
        "      print(matris)"
      ],
      "execution_count": null,
      "outputs": []
    },
    {
      "cell_type": "markdown",
      "metadata": {
        "id": "NbPtf7BA3wcR"
      },
      "source": [
        "# GBT (Gradient Boosting Tree)\n",
        "\n"
      ]
    },
    {
      "cell_type": "code",
      "metadata": {
        "id": "hUo13Epo4K5V"
      },
      "source": [
        "def experimentar_gbt(num_trees, X, Y):\n",
        "    folds = 10\n",
        "    skf = KFold(n_splits=folds)\n",
        "    resultados = pd.DataFrame()\n",
        "    idx = 0\n",
        "    conf_matrix_list_of_arrays = np.zeros(2)\n",
        "    for trees in num_trees:\n",
        "        ## para almacenar los errores intermedios\n",
        "        EficienciaTrain = []\n",
        "        EficienciaVal = []\n",
        "        accuracy = []\n",
        "        Macc = []\n",
        "        Mpre = []\n",
        "        Mrec = []\n",
        "        Mf1 = []\n",
        "        j = 0\n",
        "        for train, test in skf.split(X, Y):\n",
        "            Xtrain = X[train,:]\n",
        "            Ytrain = Y[train]\n",
        "            Xtest = X[test,:]\n",
        "            Ytest = Y[test]\n",
        "            #Haga el llamado a la función para crear y entrenar el modelo usando los datos de entrenamiento\n",
        "            modelo= GradientBoostingClassifier(n_estimators=trees)\n",
        "            modelo.fit(Xtrain,Ytrain)\n",
        "            conf_matrix = confusion_matrix(Ytest, modelo.predict(Xtest))\n",
        "            conf_matrix_list_of_arrays = conf_matrix_list_of_arrays + conf_matrix\n",
        "            #predecir muestras de entrenamiento\n",
        "            Ytrain_pred =  modelo.predict(Xtrain)\n",
        "            #predecir muestras de pruebas\n",
        "            Yest = modelo.predict(Xtest)\n",
        "            #Evaluamos las predicciones del modelo con los datos de test\n",
        "            EficienciaTrain.append(np.mean(Ytrain_pred.ravel() == Ytrain.ravel()))\n",
        "            EficienciaVal.append(np.mean(Yest.ravel() == Ytest.ravel()))\n",
        "            accuracy.append(modelo.score(Xtest, Ytest))\n",
        "            Macc.append(accuracy_score(Ytest, Yest))\n",
        "            Mpre.append(precision_score(Ytest, Yest))\n",
        "            Mrec.append(recall_score(Ytest, Yest))\n",
        "            Mf1.append(f1_score(Ytest, Yest))\n",
        "\n",
        "        resultados.loc[idx,'número de arboles'] = trees\n",
        "        resultados.loc[idx,'eficiencia de entrenamiento'] = np.mean(EficienciaTrain)\n",
        "        resultados.loc[idx,'desviacion estandar entrenamiento'] = np.std(EficienciaTrain)\n",
        "        resultados.loc[idx,'eficiencia de prueba'] = np.mean(EficienciaVal)\n",
        "        resultados.loc[idx,'Intervalo de confianza (prueba)'] = np.std(EficienciaVal)\n",
        "        resultados.loc[idx,'accuracy real'] = np.mean(Macc)\n",
        "        resultados.loc[idx,'precision_score'] = np.mean(Mpre)\n",
        "        resultados.loc[idx,'recall_score'] = np.mean(Mrec)\n",
        "        resultados.loc[idx,'f1_score'] = np.mean(Mf1)\n",
        "        idx= idx +1\n",
        "        \n",
        "    return (resultados, conf_matrix_list_of_arrays)"
      ],
      "execution_count": null,
      "outputs": []
    },
    {
      "cell_type": "code",
      "metadata": {
        "colab": {
          "base_uri": "https://localhost:8080/",
          "height": 287
        },
        "id": "AB_2OuCH2pwA",
        "outputId": "9a2a6637-e842-4968-f931-f5bf6640f879"
      },
      "source": [
        "arboles = [5,10,20,50,100, 150, 200, 250]\n",
        "resultados_gbt, matris = experimentar_gbt(arboles, X, Y)\n",
        "resultados_gbt"
      ],
      "execution_count": null,
      "outputs": [
        {
          "output_type": "execute_result",
          "data": {
            "text/html": [
              "<div>\n",
              "<style scoped>\n",
              "    .dataframe tbody tr th:only-of-type {\n",
              "        vertical-align: middle;\n",
              "    }\n",
              "\n",
              "    .dataframe tbody tr th {\n",
              "        vertical-align: top;\n",
              "    }\n",
              "\n",
              "    .dataframe thead th {\n",
              "        text-align: right;\n",
              "    }\n",
              "</style>\n",
              "<table border=\"1\" class=\"dataframe\">\n",
              "  <thead>\n",
              "    <tr style=\"text-align: right;\">\n",
              "      <th></th>\n",
              "      <th>número de arboles</th>\n",
              "      <th>eficiencia de entrenamiento</th>\n",
              "      <th>desviacion estandar entrenamiento</th>\n",
              "      <th>eficiencia de prueba</th>\n",
              "      <th>Intervalo de confianza (prueba)</th>\n",
              "      <th>accuracy real</th>\n",
              "      <th>precision_score</th>\n",
              "      <th>recall_score</th>\n",
              "      <th>f1_score</th>\n",
              "    </tr>\n",
              "  </thead>\n",
              "  <tbody>\n",
              "    <tr>\n",
              "      <th>0</th>\n",
              "      <td>5.0</td>\n",
              "      <td>0.917142</td>\n",
              "      <td>0.000882</td>\n",
              "      <td>0.917144</td>\n",
              "      <td>0.007938</td>\n",
              "      <td>0.917144</td>\n",
              "      <td>0.923757</td>\n",
              "      <td>0.928126</td>\n",
              "      <td>0.925860</td>\n",
              "    </tr>\n",
              "    <tr>\n",
              "      <th>1</th>\n",
              "      <td>10.0</td>\n",
              "      <td>0.917845</td>\n",
              "      <td>0.001978</td>\n",
              "      <td>0.917415</td>\n",
              "      <td>0.008091</td>\n",
              "      <td>0.917415</td>\n",
              "      <td>0.922428</td>\n",
              "      <td>0.930163</td>\n",
              "      <td>0.926221</td>\n",
              "    </tr>\n",
              "    <tr>\n",
              "      <th>2</th>\n",
              "      <td>20.0</td>\n",
              "      <td>0.923524</td>\n",
              "      <td>0.000975</td>\n",
              "      <td>0.921666</td>\n",
              "      <td>0.006519</td>\n",
              "      <td>0.921666</td>\n",
              "      <td>0.920521</td>\n",
              "      <td>0.940926</td>\n",
              "      <td>0.930514</td>\n",
              "    </tr>\n",
              "    <tr>\n",
              "      <th>3</th>\n",
              "      <td>50.0</td>\n",
              "      <td>0.938871</td>\n",
              "      <td>0.000756</td>\n",
              "      <td>0.936320</td>\n",
              "      <td>0.007357</td>\n",
              "      <td>0.936320</td>\n",
              "      <td>0.933683</td>\n",
              "      <td>0.953583</td>\n",
              "      <td>0.943473</td>\n",
              "    </tr>\n",
              "    <tr>\n",
              "      <th>4</th>\n",
              "      <td>100.0</td>\n",
              "      <td>0.952490</td>\n",
              "      <td>0.001077</td>\n",
              "      <td>0.947627</td>\n",
              "      <td>0.006331</td>\n",
              "      <td>0.947627</td>\n",
              "      <td>0.945081</td>\n",
              "      <td>0.962060</td>\n",
              "      <td>0.953454</td>\n",
              "    </tr>\n",
              "    <tr>\n",
              "      <th>5</th>\n",
              "      <td>150.0</td>\n",
              "      <td>0.956219</td>\n",
              "      <td>0.000937</td>\n",
              "      <td>0.950250</td>\n",
              "      <td>0.006087</td>\n",
              "      <td>0.950250</td>\n",
              "      <td>0.946736</td>\n",
              "      <td>0.965139</td>\n",
              "      <td>0.955813</td>\n",
              "    </tr>\n",
              "    <tr>\n",
              "      <th>6</th>\n",
              "      <td>200.0</td>\n",
              "      <td>0.959918</td>\n",
              "      <td>0.000609</td>\n",
              "      <td>0.951335</td>\n",
              "      <td>0.005570</td>\n",
              "      <td>0.951335</td>\n",
              "      <td>0.947553</td>\n",
              "      <td>0.966241</td>\n",
              "      <td>0.956776</td>\n",
              "    </tr>\n",
              "    <tr>\n",
              "      <th>7</th>\n",
              "      <td>250.0</td>\n",
              "      <td>0.962219</td>\n",
              "      <td>0.000877</td>\n",
              "      <td>0.953958</td>\n",
              "      <td>0.004726</td>\n",
              "      <td>0.953958</td>\n",
              "      <td>0.950742</td>\n",
              "      <td>0.967486</td>\n",
              "      <td>0.959013</td>\n",
              "    </tr>\n",
              "  </tbody>\n",
              "</table>\n",
              "</div>"
            ],
            "text/plain": [
              "   número de arboles  eficiencia de entrenamiento  ...  recall_score  f1_score\n",
              "0                5.0                     0.917142  ...      0.928126  0.925860\n",
              "1               10.0                     0.917845  ...      0.930163  0.926221\n",
              "2               20.0                     0.923524  ...      0.940926  0.930514\n",
              "3               50.0                     0.938871  ...      0.953583  0.943473\n",
              "4              100.0                     0.952490  ...      0.962060  0.953454\n",
              "5              150.0                     0.956219  ...      0.965139  0.955813\n",
              "6              200.0                     0.959918  ...      0.966241  0.956776\n",
              "7              250.0                     0.962219  ...      0.967486  0.959013\n",
              "\n",
              "[8 rows x 9 columns]"
            ]
          },
          "metadata": {
            "tags": []
          },
          "execution_count": 25
        }
      ]
    },
    {
      "cell_type": "code",
      "metadata": {
        "colab": {
          "base_uri": "https://localhost:8080/",
          "height": 77
        },
        "id": "PfmUm5L14Nhb",
        "outputId": "227b1104-8900-4367-fb68-d651ee6a40ab"
      },
      "source": [
        "arboles = [150]\n",
        "resultados_gbt, matrisGBT = experimentar_gbt(arboles, X, Y)\n",
        "resultados_gbt"
      ],
      "execution_count": null,
      "outputs": [
        {
          "output_type": "execute_result",
          "data": {
            "text/html": [
              "<div>\n",
              "<style scoped>\n",
              "    .dataframe tbody tr th:only-of-type {\n",
              "        vertical-align: middle;\n",
              "    }\n",
              "\n",
              "    .dataframe tbody tr th {\n",
              "        vertical-align: top;\n",
              "    }\n",
              "\n",
              "    .dataframe thead th {\n",
              "        text-align: right;\n",
              "    }\n",
              "</style>\n",
              "<table border=\"1\" class=\"dataframe\">\n",
              "  <thead>\n",
              "    <tr style=\"text-align: right;\">\n",
              "      <th></th>\n",
              "      <th>número de arboles</th>\n",
              "      <th>eficiencia de entrenamiento</th>\n",
              "      <th>desviacion estandar entrenamiento</th>\n",
              "      <th>eficiencia de prueba</th>\n",
              "      <th>Intervalo de confianza (prueba)</th>\n",
              "      <th>accuracy real</th>\n",
              "      <th>precision_score</th>\n",
              "      <th>recall_score</th>\n",
              "      <th>f1_score</th>\n",
              "    </tr>\n",
              "  </thead>\n",
              "  <tbody>\n",
              "    <tr>\n",
              "      <th>0</th>\n",
              "      <td>150.0</td>\n",
              "      <td>0.956219</td>\n",
              "      <td>0.000937</td>\n",
              "      <td>0.95025</td>\n",
              "      <td>0.006087</td>\n",
              "      <td>0.95025</td>\n",
              "      <td>0.946736</td>\n",
              "      <td>0.965139</td>\n",
              "      <td>0.955813</td>\n",
              "    </tr>\n",
              "  </tbody>\n",
              "</table>\n",
              "</div>"
            ],
            "text/plain": [
              "   número de arboles  eficiencia de entrenamiento  ...  recall_score  f1_score\n",
              "0              150.0                     0.956219  ...      0.965139  0.955813\n",
              "\n",
              "[1 rows x 9 columns]"
            ]
          },
          "metadata": {
            "tags": []
          },
          "execution_count": 30
        }
      ]
    },
    {
      "cell_type": "code",
      "metadata": {
        "colab": {
          "base_uri": "https://localhost:8080/",
          "height": 330
        },
        "id": "ihLZV4XJEWhx",
        "outputId": "f8f75c10-6e92-4a2c-ea6b-39efb54ea438"
      },
      "source": [
        "calcularMatrizCF(matrisGBT, \"Matriz de confusión GBT\")"
      ],
      "execution_count": null,
      "outputs": [
        {
          "output_type": "stream",
          "text": [
            "[[0.93160474 0.06839526]\n",
            " [0.0349196  0.9650804 ]]\n"
          ],
          "name": "stdout"
        },
        {
          "output_type": "display_data",
          "data": {
            "image/png": "[encoded data removed]",
            "text/plain": [
              "<Figure size 432x288 with 2 Axes>"
            ]
          },
          "metadata": {
            "tags": []
          }
        }
      ]
    },
    {
      "cell_type": "markdown",
      "metadata": {
        "id": "ejmeqNjS4Hel"
      },
      "source": [
        "# VENTANA DE PARZEN\n"
      ]
    },
    {
      "cell_type": "code",
      "metadata": {
        "id": "POYIKg7z4M8e"
      },
      "source": [
        "import scipy as sc\n",
        "def kernel_gaussiano(x):\n",
        "    return np.exp((-0.5)*x**2)\n",
        "\n",
        "def ParzenWindow(x,Data,h):\n",
        "    h = h\n",
        "    Ns = Data.shape[0]\n",
        "    suma = 0\n",
        "    for k in range(Ns):\n",
        "        u = sc.spatial.distance.euclidean(x,Data[k,:])\n",
        "        suma += kernel_gaussiano(u/h)\n",
        "    return suma\n",
        "\n",
        "def parzenClass(X_train, Y_train, X_val, ancho_h):\n",
        "    h = ancho_h\n",
        "    Nv = len(X_val)\n",
        "    Y_est = np.array([])\n",
        "    \n",
        "    X_clases = []\n",
        "    \n",
        "    for clase in np.unique(Y_train):\n",
        "        X_clases.append(X_train[np.where(Y_train == clase )])    \n",
        "\n",
        "    probabilidades = []\n",
        "    j = 0\n",
        "    for x_clase in X_clases: \n",
        "        distances = sc.spatial.distance_matrix(X_val, x_clase) / h\n",
        "        \n",
        "        for i in range(Nv):\n",
        "            k = kernel_gaussiano(distances[i])\n",
        "            P = np.sum(k)\n",
        "            if(j == 0):\n",
        "                probabilidades.append([P, 0.0, 0.0])\n",
        "            else:\n",
        "                probabilidades[i][j] = P\n",
        "        j += 1   \n",
        "    \n",
        "    for p in probabilidades:\n",
        "        Y_est = np.append(Y_est,p.index(max(p)))\n",
        "    return Y_est#Debe retornar un vector que contenga las predicciones para cada una de las muestras en X_val, en el mismo orden.  \n",
        "\n",
        "#ejercicio de codigo\n",
        "def experimentarParzen (X, Y, hs):\n",
        "    # se usa la función para implementar la estrategia de validación.\n",
        "    skf = KFold(n_splits=10)\n",
        "    resultados = pd.DataFrame()\n",
        "    idx = 0\n",
        "    conf_matrix_list_of_arrays = np.zeros(2)\n",
        "    # iteramos sobre los valores de hs\n",
        "    for h in hs:\n",
        "        # lista para almacenar los errores de cada iteración\n",
        "        # de la validación\n",
        "        error_temp = []\n",
        "        Macc = []\n",
        "        EficienciaVal = []\n",
        "        Macc = []\n",
        "        Mpre = []\n",
        "        Mrec = []\n",
        "        Mf1 = []\n",
        "        for train, test in skf.split(X, Y):\n",
        "\n",
        "            Xtrain = X[train,:]\n",
        "            Ytrain = Y[train]\n",
        "            Xtest = X[test,:]\n",
        "            Ytest = Y[test]\n",
        "            #normalizamos los datos\n",
        "            scaler = StandardScaler()\n",
        "            scaler.fit(Xtrain)\n",
        "            Xtrain = scaler.transform(Xtrain)\n",
        "            Xtest = scaler.transform(Xtest)\n",
        "            Yest = parzenClass(Xtrain,Ytrain,Xtest,h)\n",
        "            #conf_matrix = confusion_matrix(Ytest, Yest)\n",
        "            #conf_matrix_list_of_arrays = conf_matrix_list_of_arrays + conf_matrix\n",
        "            Macc.append(accuracy_score(Ytest, Yest))\n",
        "            Mpre.append(precision_score(Ytest, Yest, average='micro'))\n",
        "            Mrec.append(recall_score(Ytest, Yest, average='micro'))\n",
        "            Mf1.append(f1_score(Ytest, Yest, average='micro'))\n",
        "            EficienciaVal.append(np.mean(Yest.ravel() == Ytest.ravel()))\n",
        "    \n",
        "        resultados.loc[idx,'ancho de ventana'] = h \n",
        "        resultados.loc[idx,'accuracy real'] = np.mean(Macc)\n",
        "        resultados.loc[idx,'Intervalo de confianza (prueba)'] = np.std(EficienciaVal)\n",
        "        resultados.loc[idx,'precision_score'] = np.mean(Mpre)\n",
        "        resultados.loc[idx,'recall_score'] = np.mean(Mrec)\n",
        "        resultados.loc[idx,'f1_score'] = np.mean(Mf1)\n",
        "        idx+=1\n",
        "    return (resultados, conf_matrix_list_of_arrays)"
      ],
      "execution_count": null,
      "outputs": []
    },
    {
      "cell_type": "code",
      "metadata": {
        "colab": {
          "base_uri": "https://localhost:8080/",
          "height": 266
        },
        "id": "dNr3HXIg4q9P",
        "outputId": "8b8280c4-d396-4ed9-ae47-311c002016ee"
      },
      "source": [
        "hs = [0.05, 0.1, 0.5, 1, 2, 5, 10]\n",
        "experimentos_parzen, matrisPARZEN = experimentarParzen(X,Y, hs)\n",
        "experimentos_parzen"
      ],
      "execution_count": null,
      "outputs": [
        {
          "output_type": "execute_result",
          "data": {
            "text/html": [
              "<div>\n",
              "<style scoped>\n",
              "    .dataframe tbody tr th:only-of-type {\n",
              "        vertical-align: middle;\n",
              "    }\n",
              "\n",
              "    .dataframe tbody tr th {\n",
              "        vertical-align: top;\n",
              "    }\n",
              "\n",
              "    .dataframe thead th {\n",
              "        text-align: right;\n",
              "    }\n",
              "</style>\n",
              "<table border=\"1\" class=\"dataframe\">\n",
              "  <thead>\n",
              "    <tr style=\"text-align: right;\">\n",
              "      <th></th>\n",
              "      <th>ancho de ventana</th>\n",
              "      <th>accuracy real</th>\n",
              "      <th>Intervalo de confianza (prueba)</th>\n",
              "      <th>precision_score</th>\n",
              "      <th>recall_score</th>\n",
              "      <th>f1_score</th>\n",
              "    </tr>\n",
              "  </thead>\n",
              "  <tbody>\n",
              "    <tr>\n",
              "      <th>0</th>\n",
              "      <td>0.05</td>\n",
              "      <td>0.469085</td>\n",
              "      <td>0.059855</td>\n",
              "      <td>0.469085</td>\n",
              "      <td>0.469085</td>\n",
              "      <td>0.469085</td>\n",
              "    </tr>\n",
              "    <tr>\n",
              "      <th>1</th>\n",
              "      <td>0.10</td>\n",
              "      <td>0.536674</td>\n",
              "      <td>0.018483</td>\n",
              "      <td>0.536674</td>\n",
              "      <td>0.536674</td>\n",
              "      <td>0.536674</td>\n",
              "    </tr>\n",
              "    <tr>\n",
              "      <th>2</th>\n",
              "      <td>0.50</td>\n",
              "      <td>0.543099</td>\n",
              "      <td>0.015997</td>\n",
              "      <td>0.543099</td>\n",
              "      <td>0.543099</td>\n",
              "      <td>0.543099</td>\n",
              "    </tr>\n",
              "    <tr>\n",
              "      <th>3</th>\n",
              "      <td>1.00</td>\n",
              "      <td>0.543643</td>\n",
              "      <td>0.013248</td>\n",
              "      <td>0.543643</td>\n",
              "      <td>0.543643</td>\n",
              "      <td>0.543643</td>\n",
              "    </tr>\n",
              "    <tr>\n",
              "      <th>4</th>\n",
              "      <td>2.00</td>\n",
              "      <td>0.535595</td>\n",
              "      <td>0.009221</td>\n",
              "      <td>0.535595</td>\n",
              "      <td>0.535595</td>\n",
              "      <td>0.535595</td>\n",
              "    </tr>\n",
              "    <tr>\n",
              "      <th>5</th>\n",
              "      <td>5.00</td>\n",
              "      <td>0.556489</td>\n",
              "      <td>0.011398</td>\n",
              "      <td>0.556489</td>\n",
              "      <td>0.556489</td>\n",
              "      <td>0.556489</td>\n",
              "    </tr>\n",
              "    <tr>\n",
              "      <th>6</th>\n",
              "      <td>10.00</td>\n",
              "      <td>0.556941</td>\n",
              "      <td>0.011719</td>\n",
              "      <td>0.556941</td>\n",
              "      <td>0.556941</td>\n",
              "      <td>0.556941</td>\n",
              "    </tr>\n",
              "  </tbody>\n",
              "</table>\n",
              "</div>"
            ],
            "text/plain": [
              "   ancho de ventana  accuracy real  ...  recall_score  f1_score\n",
              "0              0.05       0.469085  ...      0.469085  0.469085\n",
              "1              0.10       0.536674  ...      0.536674  0.536674\n",
              "2              0.50       0.543099  ...      0.543099  0.543099\n",
              "3              1.00       0.543643  ...      0.543643  0.543643\n",
              "4              2.00       0.535595  ...      0.535595  0.535595\n",
              "5              5.00       0.556489  ...      0.556489  0.556489\n",
              "6             10.00       0.556941  ...      0.556941  0.556941\n",
              "\n",
              "[7 rows x 6 columns]"
            ]
          },
          "metadata": {
            "tags": []
          },
          "execution_count": 44
        }
      ]
    },
    {
      "cell_type": "code",
      "metadata": {
        "colab": {
          "base_uri": "https://localhost:8080/",
          "height": 80
        },
        "id": "NZyUo80UkZjy",
        "outputId": "17d1683a-5398-487c-b195-f16ef100d469"
      },
      "source": [
        "hs = [10]\r\n",
        "experimentos_parzen, matrisPARZEN = experimentarParzen(X,Y, hs)\r\n",
        "experimentos_parzen"
      ],
      "execution_count": null,
      "outputs": [
        {
          "output_type": "execute_result",
          "data": {
            "text/html": [
              "<div>\n",
              "<style scoped>\n",
              "    .dataframe tbody tr th:only-of-type {\n",
              "        vertical-align: middle;\n",
              "    }\n",
              "\n",
              "    .dataframe tbody tr th {\n",
              "        vertical-align: top;\n",
              "    }\n",
              "\n",
              "    .dataframe thead th {\n",
              "        text-align: right;\n",
              "    }\n",
              "</style>\n",
              "<table border=\"1\" class=\"dataframe\">\n",
              "  <thead>\n",
              "    <tr style=\"text-align: right;\">\n",
              "      <th></th>\n",
              "      <th>ancho de ventana</th>\n",
              "      <th>accuracy real</th>\n",
              "      <th>Intervalo de confianza (prueba)</th>\n",
              "      <th>precision_score</th>\n",
              "      <th>recall_score</th>\n",
              "      <th>f1_score</th>\n",
              "    </tr>\n",
              "  </thead>\n",
              "  <tbody>\n",
              "    <tr>\n",
              "      <th>0</th>\n",
              "      <td>10.0</td>\n",
              "      <td>0.556941</td>\n",
              "      <td>0.011719</td>\n",
              "      <td>0.556941</td>\n",
              "      <td>0.556941</td>\n",
              "      <td>0.556941</td>\n",
              "    </tr>\n",
              "  </tbody>\n",
              "</table>\n",
              "</div>"
            ],
            "text/plain": [
              "   ancho de ventana  accuracy real  ...  recall_score  f1_score\n",
              "0              10.0       0.556941  ...      0.556941  0.556941\n",
              "\n",
              "[1 rows x 6 columns]"
            ]
          },
          "metadata": {
            "tags": []
          },
          "execution_count": 19
        }
      ]
    },
    {
      "cell_type": "markdown",
      "metadata": {
        "id": "L8eOH1mu_DXL"
      },
      "source": [
        "# SVM (Support Vector Machine)"
      ]
    },
    {
      "cell_type": "code",
      "metadata": {
        "id": "J8f80m5__F-y"
      },
      "source": [
        "#ejercicio de código\n",
        "def experiementarSVC(x, y, kernels, gammas,params_reg):\n",
        "    idx = 0\n",
        "    kf = KFold(n_splits=10) \n",
        "    # crear una lista con la combinaciones de los elementos de cada list\n",
        "    kernels_gammas_regs = list(itertools.product(kernels, gammas, params_reg))\n",
        "    resultados = pd.DataFrame()\n",
        "    conf_matrix_list_of_arrays = np.zeros(2)\n",
        "    for params in kernels_gammas_regs:\n",
        "        kernel, gamma, param_reg = params\n",
        "        ''' print(\"parametros usados\", params) # puede usar para ver los params '''\n",
        "        errores_train = []\n",
        "        errores_test = []\n",
        "        EficienciaVal = []\n",
        "        pct_support_vectors = []\n",
        "        Macc = []\n",
        "        Mpre = []\n",
        "        Mrec = []\n",
        "        Mf1 = []\n",
        "        for train_index, test_index in kf.split(x,y):\n",
        "            X_train, X_test = x[train_index], x[test_index]\n",
        "            y_train, y_test = y[train_index], y[test_index]  \n",
        "            # normalizar los datos\n",
        "            scaler = StandardScaler().fit(X= X_train)  \n",
        "            X_train = scaler.fit_transform(X_train)\n",
        "            X_test = scaler.transform(X_test)\n",
        "            svm = SVC(kernel=kernel, gamma=gamma, C= param_reg)\n",
        "            # Entrenar el modelo\n",
        "            svm.fit(X=X_train, y=y_train)\n",
        "            # calculo de errores\n",
        "            y_train_pred = svm.predict(X=X_train)\n",
        "            y_test_pred = svm.predict(X=X_test)\n",
        "            conf_matrix = confusion_matrix(y_test, svm.predict(X_test))\n",
        "            conf_matrix_list_of_arrays = conf_matrix_list_of_arrays + conf_matrix\n",
        "            # error y pct de vectores de soporte\n",
        "            errores_train.append(accuracy_score(y_true = y_train, y_pred = y_train_pred))\n",
        "            errores_test.append(accuracy_score(y_true = y_test, y_pred = y_test_pred))\n",
        "            # contar muestras de entrenamiento\n",
        "            n_train = X_train.shape[0]\n",
        "            pct_vs = ( svm.support_vectors_.shape[0] /n_train)\n",
        "            pct_support_vectors.append(pct_vs)\n",
        "            #ypredict.append((y_test_pred))\n",
        "            #ytesetes.append((y_test))\n",
        "            Macc.append(accuracy_score(y_test, y_test_pred))\n",
        "            Mpre.append(precision_score(y_test, y_test_pred))\n",
        "            Mrec.append(recall_score(y_test, y_test_pred))\n",
        "            Mf1.append(f1_score(y_test, y_test_pred))\n",
        "            EficienciaVal.append(np.mean(y_test_pred.ravel() == y_test.ravel()))\n",
        "\n",
        "    \n",
        "        resultados.loc[idx,'kernel'] = kernel\n",
        "        resultados.loc[idx,'gamma'] = gamma\n",
        "        resultados.loc[idx,'param_reg'] = param_reg\n",
        "        resultados.loc[idx,'error de entrenamiento'] = np.mean(errores_train)\n",
        "        resultados.loc[idx,'error de prueba'] = np.mean(errores_test)\n",
        "        resultados.loc[idx,'% de vectores de soporte'] = np.mean(pct_support_vectors)*100\n",
        "        resultados.loc[idx,'accuracy real'] = np.mean(Macc)\n",
        "        resultados.loc[idx,'Intervalo de confianza (prueba)'] = np.std(EficienciaVal)\n",
        "        resultados.loc[idx,'precision_score'] = np.mean(Mpre)\n",
        "        resultados.loc[idx,'recall_score'] = np.mean(Mrec)\n",
        "        resultados.loc[idx,'f1_score'] = np.mean(Mf1)\n",
        "        \n",
        "        idx+=1\n",
        "    return (resultados, conf_matrix_list_of_arrays)"
      ],
      "execution_count": null,
      "outputs": []
    },
    {
      "cell_type": "code",
      "metadata": {
        "colab": {
          "base_uri": "https://localhost:8080/",
          "height": 647
        },
        "id": "UiDizg6__ISQ",
        "outputId": "824116d0-eae0-4cbb-e43e-84bfa4f7a2c7"
      },
      "source": [
        "# vamos a realizar los experimentos\n",
        "resultadosSVC, matrisSVM = experiementarSVC(x =X ,y=Y,\n",
        "                                 kernels=['linear', 'rbf'],\n",
        "                                 gammas = [0.01,0.1],\n",
        "                                 params_reg = [0.001, 0.01,0.1, 1,10]\n",
        "                                )\n",
        "\n",
        "resultadosSVC\n"
      ],
      "execution_count": null,
      "outputs": [
        {
          "output_type": "execute_result",
          "data": {
            "text/html": [
              "<div>\n",
              "<style scoped>\n",
              "    .dataframe tbody tr th:only-of-type {\n",
              "        vertical-align: middle;\n",
              "    }\n",
              "\n",
              "    .dataframe tbody tr th {\n",
              "        vertical-align: top;\n",
              "    }\n",
              "\n",
              "    .dataframe thead th {\n",
              "        text-align: right;\n",
              "    }\n",
              "</style>\n",
              "<table border=\"1\" class=\"dataframe\">\n",
              "  <thead>\n",
              "    <tr style=\"text-align: right;\">\n",
              "      <th></th>\n",
              "      <th>kernel</th>\n",
              "      <th>gamma</th>\n",
              "      <th>param_reg</th>\n",
              "      <th>error de entrenamiento</th>\n",
              "      <th>error de prueba</th>\n",
              "      <th>% de vectores de soporte</th>\n",
              "      <th>accuracy real</th>\n",
              "      <th>Intervalo de confianza (prueba)</th>\n",
              "      <th>precision_score</th>\n",
              "      <th>recall_score</th>\n",
              "      <th>f1_score</th>\n",
              "    </tr>\n",
              "  </thead>\n",
              "  <tbody>\n",
              "    <tr>\n",
              "      <th>0</th>\n",
              "      <td>linear</td>\n",
              "      <td>0.01</td>\n",
              "      <td>0.001</td>\n",
              "      <td>0.921363</td>\n",
              "      <td>0.920489</td>\n",
              "      <td>32.218705</td>\n",
              "      <td>0.920489</td>\n",
              "      <td>0.008488</td>\n",
              "      <td>0.913842</td>\n",
              "      <td>0.946836</td>\n",
              "      <td>0.929987</td>\n",
              "    </tr>\n",
              "    <tr>\n",
              "      <th>1</th>\n",
              "      <td>linear</td>\n",
              "      <td>0.01</td>\n",
              "      <td>0.010</td>\n",
              "      <td>0.926097</td>\n",
              "      <td>0.924921</td>\n",
              "      <td>20.756820</td>\n",
              "      <td>0.924921</td>\n",
              "      <td>0.007334</td>\n",
              "      <td>0.918782</td>\n",
              "      <td>0.949391</td>\n",
              "      <td>0.933785</td>\n",
              "    </tr>\n",
              "    <tr>\n",
              "      <th>2</th>\n",
              "      <td>linear</td>\n",
              "      <td>0.01</td>\n",
              "      <td>0.100</td>\n",
              "      <td>0.928388</td>\n",
              "      <td>0.927001</td>\n",
              "      <td>18.101412</td>\n",
              "      <td>0.927001</td>\n",
              "      <td>0.006759</td>\n",
              "      <td>0.924212</td>\n",
              "      <td>0.946793</td>\n",
              "      <td>0.935324</td>\n",
              "    </tr>\n",
              "    <tr>\n",
              "      <th>3</th>\n",
              "      <td>linear</td>\n",
              "      <td>0.01</td>\n",
              "      <td>1.000</td>\n",
              "      <td>0.928690</td>\n",
              "      <td>0.927001</td>\n",
              "      <td>17.752649</td>\n",
              "      <td>0.927001</td>\n",
              "      <td>0.006541</td>\n",
              "      <td>0.924343</td>\n",
              "      <td>0.946621</td>\n",
              "      <td>0.935304</td>\n",
              "    </tr>\n",
              "    <tr>\n",
              "      <th>4</th>\n",
              "      <td>linear</td>\n",
              "      <td>0.01</td>\n",
              "      <td>10.000</td>\n",
              "      <td>0.928609</td>\n",
              "      <td>0.927001</td>\n",
              "      <td>17.704405</td>\n",
              "      <td>0.927001</td>\n",
              "      <td>0.006126</td>\n",
              "      <td>0.924593</td>\n",
              "      <td>0.946294</td>\n",
              "      <td>0.935277</td>\n",
              "    </tr>\n",
              "    <tr>\n",
              "      <th>5</th>\n",
              "      <td>linear</td>\n",
              "      <td>0.10</td>\n",
              "      <td>0.001</td>\n",
              "      <td>0.921363</td>\n",
              "      <td>0.920489</td>\n",
              "      <td>32.218705</td>\n",
              "      <td>0.920489</td>\n",
              "      <td>0.008488</td>\n",
              "      <td>0.913842</td>\n",
              "      <td>0.946836</td>\n",
              "      <td>0.929987</td>\n",
              "    </tr>\n",
              "    <tr>\n",
              "      <th>6</th>\n",
              "      <td>linear</td>\n",
              "      <td>0.10</td>\n",
              "      <td>0.010</td>\n",
              "      <td>0.926097</td>\n",
              "      <td>0.924921</td>\n",
              "      <td>20.756820</td>\n",
              "      <td>0.924921</td>\n",
              "      <td>0.007334</td>\n",
              "      <td>0.918782</td>\n",
              "      <td>0.949391</td>\n",
              "      <td>0.933785</td>\n",
              "    </tr>\n",
              "    <tr>\n",
              "      <th>7</th>\n",
              "      <td>linear</td>\n",
              "      <td>0.10</td>\n",
              "      <td>0.100</td>\n",
              "      <td>0.928388</td>\n",
              "      <td>0.927001</td>\n",
              "      <td>18.101412</td>\n",
              "      <td>0.927001</td>\n",
              "      <td>0.006759</td>\n",
              "      <td>0.924212</td>\n",
              "      <td>0.946793</td>\n",
              "      <td>0.935324</td>\n",
              "    </tr>\n",
              "    <tr>\n",
              "      <th>8</th>\n",
              "      <td>linear</td>\n",
              "      <td>0.10</td>\n",
              "      <td>1.000</td>\n",
              "      <td>0.928690</td>\n",
              "      <td>0.927001</td>\n",
              "      <td>17.752649</td>\n",
              "      <td>0.927001</td>\n",
              "      <td>0.006541</td>\n",
              "      <td>0.924343</td>\n",
              "      <td>0.946621</td>\n",
              "      <td>0.935304</td>\n",
              "    </tr>\n",
              "    <tr>\n",
              "      <th>9</th>\n",
              "      <td>linear</td>\n",
              "      <td>0.10</td>\n",
              "      <td>10.000</td>\n",
              "      <td>0.928609</td>\n",
              "      <td>0.927001</td>\n",
              "      <td>17.704405</td>\n",
              "      <td>0.927001</td>\n",
              "      <td>0.006126</td>\n",
              "      <td>0.924593</td>\n",
              "      <td>0.946294</td>\n",
              "      <td>0.935277</td>\n",
              "    </tr>\n",
              "    <tr>\n",
              "      <th>10</th>\n",
              "      <td>rbf</td>\n",
              "      <td>0.01</td>\n",
              "      <td>0.001</td>\n",
              "      <td>0.556943</td>\n",
              "      <td>0.556941</td>\n",
              "      <td>88.611491</td>\n",
              "      <td>0.556941</td>\n",
              "      <td>0.011719</td>\n",
              "      <td>0.556941</td>\n",
              "      <td>1.000000</td>\n",
              "      <td>0.715357</td>\n",
              "    </tr>\n",
              "    <tr>\n",
              "      <th>11</th>\n",
              "      <td>rbf</td>\n",
              "      <td>0.01</td>\n",
              "      <td>0.010</td>\n",
              "      <td>0.917162</td>\n",
              "      <td>0.915965</td>\n",
              "      <td>65.413343</td>\n",
              "      <td>0.915965</td>\n",
              "      <td>0.006878</td>\n",
              "      <td>0.901551</td>\n",
              "      <td>0.953431</td>\n",
              "      <td>0.926714</td>\n",
              "    </tr>\n",
              "    <tr>\n",
              "      <th>12</th>\n",
              "      <td>rbf</td>\n",
              "      <td>0.01</td>\n",
              "      <td>0.100</td>\n",
              "      <td>0.926961</td>\n",
              "      <td>0.924831</td>\n",
              "      <td>30.967383</td>\n",
              "      <td>0.924831</td>\n",
              "      <td>0.007152</td>\n",
              "      <td>0.917426</td>\n",
              "      <td>0.950869</td>\n",
              "      <td>0.933794</td>\n",
              "    </tr>\n",
              "    <tr>\n",
              "      <th>13</th>\n",
              "      <td>rbf</td>\n",
              "      <td>0.01</td>\n",
              "      <td>1.000</td>\n",
              "      <td>0.940570</td>\n",
              "      <td>0.936952</td>\n",
              "      <td>19.892454</td>\n",
              "      <td>0.936952</td>\n",
              "      <td>0.005832</td>\n",
              "      <td>0.929956</td>\n",
              "      <td>0.959244</td>\n",
              "      <td>0.944329</td>\n",
              "    </tr>\n",
              "    <tr>\n",
              "      <th>14</th>\n",
              "      <td>rbf</td>\n",
              "      <td>0.01</td>\n",
              "      <td>10.000</td>\n",
              "      <td>0.959103</td>\n",
              "      <td>0.950881</td>\n",
              "      <td>16.050052</td>\n",
              "      <td>0.950881</td>\n",
              "      <td>0.006395</td>\n",
              "      <td>0.945397</td>\n",
              "      <td>0.967834</td>\n",
              "      <td>0.956457</td>\n",
              "    </tr>\n",
              "    <tr>\n",
              "      <th>15</th>\n",
              "      <td>rbf</td>\n",
              "      <td>0.10</td>\n",
              "      <td>0.001</td>\n",
              "      <td>0.556943</td>\n",
              "      <td>0.556941</td>\n",
              "      <td>88.668781</td>\n",
              "      <td>0.556941</td>\n",
              "      <td>0.011719</td>\n",
              "      <td>0.556941</td>\n",
              "      <td>1.000000</td>\n",
              "      <td>0.715357</td>\n",
              "    </tr>\n",
              "    <tr>\n",
              "      <th>16</th>\n",
              "      <td>rbf</td>\n",
              "      <td>0.10</td>\n",
              "      <td>0.010</td>\n",
              "      <td>0.772501</td>\n",
              "      <td>0.761460</td>\n",
              "      <td>80.823172</td>\n",
              "      <td>0.761460</td>\n",
              "      <td>0.024327</td>\n",
              "      <td>0.706891</td>\n",
              "      <td>0.978879</td>\n",
              "      <td>0.820671</td>\n",
              "    </tr>\n",
              "    <tr>\n",
              "      <th>17</th>\n",
              "      <td>rbf</td>\n",
              "      <td>0.10</td>\n",
              "      <td>0.100</td>\n",
              "      <td>0.938258</td>\n",
              "      <td>0.917318</td>\n",
              "      <td>51.928243</td>\n",
              "      <td>0.917318</td>\n",
              "      <td>0.018440</td>\n",
              "      <td>0.892712</td>\n",
              "      <td>0.969167</td>\n",
              "      <td>0.929114</td>\n",
              "    </tr>\n",
              "    <tr>\n",
              "      <th>18</th>\n",
              "      <td>rbf</td>\n",
              "      <td>0.10</td>\n",
              "      <td>1.000</td>\n",
              "      <td>0.976612</td>\n",
              "      <td>0.963272</td>\n",
              "      <td>32.440847</td>\n",
              "      <td>0.963272</td>\n",
              "      <td>0.009159</td>\n",
              "      <td>0.959188</td>\n",
              "      <td>0.975801</td>\n",
              "      <td>0.967369</td>\n",
              "    </tr>\n",
              "    <tr>\n",
              "      <th>19</th>\n",
              "      <td>rbf</td>\n",
              "      <td>0.10</td>\n",
              "      <td>10.000</td>\n",
              "      <td>0.987487</td>\n",
              "      <td>0.969964</td>\n",
              "      <td>28.746186</td>\n",
              "      <td>0.969964</td>\n",
              "      <td>0.010411</td>\n",
              "      <td>0.964586</td>\n",
              "      <td>0.982258</td>\n",
              "      <td>0.973295</td>\n",
              "    </tr>\n",
              "  </tbody>\n",
              "</table>\n",
              "</div>"
            ],
            "text/plain": [
              "    kernel  gamma  param_reg  ...  precision_score  recall_score  f1_score\n",
              "0   linear   0.01      0.001  ...         0.913842      0.946836  0.929987\n",
              "1   linear   0.01      0.010  ...         0.918782      0.949391  0.933785\n",
              "2   linear   0.01      0.100  ...         0.924212      0.946793  0.935324\n",
              "3   linear   0.01      1.000  ...         0.924343      0.946621  0.935304\n",
              "4   linear   0.01     10.000  ...         0.924593      0.946294  0.935277\n",
              "5   linear   0.10      0.001  ...         0.913842      0.946836  0.929987\n",
              "6   linear   0.10      0.010  ...         0.918782      0.949391  0.933785\n",
              "7   linear   0.10      0.100  ...         0.924212      0.946793  0.935324\n",
              "8   linear   0.10      1.000  ...         0.924343      0.946621  0.935304\n",
              "9   linear   0.10     10.000  ...         0.924593      0.946294  0.935277\n",
              "10     rbf   0.01      0.001  ...         0.556941      1.000000  0.715357\n",
              "11     rbf   0.01      0.010  ...         0.901551      0.953431  0.926714\n",
              "12     rbf   0.01      0.100  ...         0.917426      0.950869  0.933794\n",
              "13     rbf   0.01      1.000  ...         0.929956      0.959244  0.944329\n",
              "14     rbf   0.01     10.000  ...         0.945397      0.967834  0.956457\n",
              "15     rbf   0.10      0.001  ...         0.556941      1.000000  0.715357\n",
              "16     rbf   0.10      0.010  ...         0.706891      0.978879  0.820671\n",
              "17     rbf   0.10      0.100  ...         0.892712      0.969167  0.929114\n",
              "18     rbf   0.10      1.000  ...         0.959188      0.975801  0.967369\n",
              "19     rbf   0.10     10.000  ...         0.964586      0.982258  0.973295\n",
              "\n",
              "[20 rows x 11 columns]"
            ]
          },
          "metadata": {
            "tags": []
          },
          "execution_count": 51
        }
      ]
    },
    {
      "cell_type": "code",
      "metadata": {
        "colab": {
          "base_uri": "https://localhost:8080/",
          "height": 77
        },
        "id": "hSj3wjstD5qU",
        "outputId": "a52cefbc-e755-4755-e145-e34a44706dca"
      },
      "source": [
        "# vamos a realizar los experimentos\n",
        "from sklearn.metrics import recall_score\n",
        "\n",
        "resultadosSVC, matrisSVM  = experiementarSVC(x = X,y=Y,\n",
        "                                 kernels=['rbf'],\n",
        "                                 gammas = [0.01],\n",
        "                                 params_reg = [10]\n",
        "                                )\n",
        "resultadosSVC"
      ],
      "execution_count": null,
      "outputs": [
        {
          "output_type": "execute_result",
          "data": {
            "text/html": [
              "<div>\n",
              "<style scoped>\n",
              "    .dataframe tbody tr th:only-of-type {\n",
              "        vertical-align: middle;\n",
              "    }\n",
              "\n",
              "    .dataframe tbody tr th {\n",
              "        vertical-align: top;\n",
              "    }\n",
              "\n",
              "    .dataframe thead th {\n",
              "        text-align: right;\n",
              "    }\n",
              "</style>\n",
              "<table border=\"1\" class=\"dataframe\">\n",
              "  <thead>\n",
              "    <tr style=\"text-align: right;\">\n",
              "      <th></th>\n",
              "      <th>kernel</th>\n",
              "      <th>gamma</th>\n",
              "      <th>param_reg</th>\n",
              "      <th>error de entrenamiento</th>\n",
              "      <th>error de prueba</th>\n",
              "      <th>% de vectores de soporte</th>\n",
              "      <th>accuracy real</th>\n",
              "      <th>Intervalo de confianza (prueba)</th>\n",
              "      <th>precision_score</th>\n",
              "      <th>recall_score</th>\n",
              "      <th>f1_score</th>\n",
              "    </tr>\n",
              "  </thead>\n",
              "  <tbody>\n",
              "    <tr>\n",
              "      <th>0</th>\n",
              "      <td>rbf</td>\n",
              "      <td>0.01</td>\n",
              "      <td>10.0</td>\n",
              "      <td>0.959103</td>\n",
              "      <td>0.950881</td>\n",
              "      <td>16.050052</td>\n",
              "      <td>0.950881</td>\n",
              "      <td>0.006395</td>\n",
              "      <td>0.945397</td>\n",
              "      <td>0.967834</td>\n",
              "      <td>0.956457</td>\n",
              "    </tr>\n",
              "  </tbody>\n",
              "</table>\n",
              "</div>"
            ],
            "text/plain": [
              "  kernel  gamma  param_reg  ...  precision_score  recall_score  f1_score\n",
              "0    rbf   0.01       10.0  ...         0.945397      0.967834  0.956457\n",
              "\n",
              "[1 rows x 11 columns]"
            ]
          },
          "metadata": {
            "tags": []
          },
          "execution_count": 52
        }
      ]
    },
    {
      "cell_type": "code",
      "metadata": {
        "colab": {
          "base_uri": "https://localhost:8080/",
          "height": 329
        },
        "id": "1QjneZVMGCKn",
        "outputId": "f52ca484-b68d-437d-c458-30a5b76dd5b7"
      },
      "source": [
        "calcularMatrizCF(matrisSVM, \"Matriz de confusión SVM\")\r\n"
      ],
      "execution_count": null,
      "outputs": [
        {
          "output_type": "stream",
          "text": [
            "[[0.92956309 0.07043691]\n",
            " [0.03215852 0.96784148]]\n"
          ],
          "name": "stdout"
        },
        {
          "output_type": "display_data",
          "data": {
            "image/png": "[encoded data removed]",
            "text/plain": [
              "<Figure size 432x288 with 2 Axes>"
            ]
          },
          "metadata": {
            "tags": []
          }
        }
      ]
    },
    {
      "cell_type": "code",
      "metadata": {
        "id": "2nyI45l5gtCN"
      },
      "source": [
        ""
      ],
      "execution_count": null,
      "outputs": []
    },
    {
      "cell_type": "markdown",
      "metadata": {
        "id": "MImqVswOTzKM"
      },
      "source": [
        "# MLP (Multi Layer Perceptron)"
      ]
    },
    {
      "cell_type": "code",
      "metadata": {
        "id": "VpKRiklly7xU"
      },
      "source": [
        "from sklearn.neural_network import MLPClassifier\r\n",
        "from sklearn.preprocessing import StandardScaler\r\n",
        "from sklearn.metrics import accuracy_score\r\n",
        "from sklearn.metrics import precision_score\r\n",
        "from sklearn.metrics import recall_score\r\n",
        "from sklearn.metrics import f1_score\r\n",
        "from sklearn.metrics import classification_report\r\n",
        "from sklearn.metrics import confusion_matrix\r\n",
        "from sklearn.metrics import confusion_matrix\r\n"
      ],
      "execution_count": null,
      "outputs": []
    },
    {
      "cell_type": "code",
      "metadata": {
        "id": "DU9pZD-2T27m"
      },
      "source": [
        "#import warnings\n",
        "def experimetar_mlpc(X,Y, num_hidden_layers, num_neurons):\n",
        "    #warnings.filterwarnings(\"ignore\")\n",
        "    #Validamos el modelo\n",
        "    Folds = 10\n",
        "    skf = KFold(n_splits=Folds)\n",
        "    resultados = pd.DataFrame()\n",
        "    idx = 0\n",
        "    for hidden_layers in num_hidden_layers:\n",
        "        #Macc = []\n",
        "        #Mpre = []\n",
        "        #Mrec = []\n",
        "        #Mf1 = []\n",
        "        for neurons in num_neurons:\n",
        "            Macc = []\n",
        "            Mpre = []\n",
        "            Mrec = []\n",
        "            Mf1 = []\n",
        "            EficienciaVal = []\n",
        "            for j, (train, test) in enumerate(skf.split(X, Y)):\n",
        "                # para almacenar errores intermedios\n",
        "                Error = np.zeros(Folds)\n",
        "                Xtrain= X[train,:]\n",
        "                Ytrain = Y[train]\n",
        "                Xtest = X[test, :]\n",
        "                Ytest = Y[test]\n",
        "                #Normalizamos los datos\n",
        "                scaler = StandardScaler().fit(X= Xtrain)       \n",
        "                Xtrain = scaler.transform(Xtrain)\n",
        "                Xtest = scaler.transform(Xtest)\n",
        "                #Haga el llamado a la función para crear y entrenar el modelo usando los datos de entrenamiento\n",
        "                # prestar atención a los parametros, correctos.\n",
        "                hidden_layer_sizes = tuple(hidden_layers * [neurons])\n",
        "                #print(hidden_layer_sizes)\n",
        "                mlp = MLPClassifier(activation='tanh', hidden_layer_sizes= hidden_layer_sizes, max_iter= 1000)\n",
        "                # entrenar el MLP\n",
        "                mlp.fit(X=Xtrain, y=Ytrain)\n",
        "                #Use para el modelo para hacer predicciones sobre el conjunto Xtest\n",
        "                Yest = mlp.predict(Xtest)\n",
        "                #Mida el error absoluto medio para cada una de las dos salidas\n",
        "                #Observe bien la documentación. recordar que esta resolviendo\n",
        "                # un problema de multiples salidas\n",
        "                #Error[j] = accuracy_score(Ytest, Yest)\n",
        "                Macc.append(accuracy_score(Ytest, Yest))\n",
        "                Mpre.append(precision_score(Ytest, Yest))\n",
        "                Mrec.append(recall_score(Ytest, Yest))\n",
        "                Mf1.append(f1_score(Ytest, Yest))\n",
        "                EficienciaVal.append(np.mean(Yest.ravel() == Ytest.ravel()))\n",
        "\n",
        "            resultados.loc[idx,'capas ocultas'] = hidden_layers\n",
        "            resultados.loc[idx,'neuronas en capas ocultas'] = neurons \n",
        "            resultados.loc[idx,'accuracy real'] = np.mean(Macc)\n",
        "            resultados.loc[idx,'Intervalo de confianza (prueba)'] = np.std(EficienciaVal)\n",
        "            resultados.loc[idx,'precision_score'] = np.mean(Mpre)\n",
        "            resultados.loc[idx,'recall_score'] = np.mean(Mrec)\n",
        "            resultados.loc[idx,'f1_score'] = np.mean(Mf1)\n",
        "\n",
        "            idx+=1\n",
        "    return (resultados)"
      ],
      "execution_count": null,
      "outputs": []
    },
    {
      "cell_type": "code",
      "metadata": {
        "colab": {
          "background_save": true
        },
        "id": "ltIPu24U9H8b",
        "outputId": "c528f60c-fb22-441d-fd90-f2e10250982f"
      },
      "source": [
        "resultados_mlpc = experimetar_mlpc(X, Y, [1,2,12,20], [12,16,20,24,30,40,50])\r\n",
        "resultados_mlpc"
      ],
      "execution_count": null,
      "outputs": [
        {
          "output_type": "execute_result",
          "data": {
            "text/html": [
              "<div>\n",
              "<style scoped>\n",
              "    .dataframe tbody tr th:only-of-type {\n",
              "        vertical-align: middle;\n",
              "    }\n",
              "\n",
              "    .dataframe tbody tr th {\n",
              "        vertical-align: top;\n",
              "    }\n",
              "\n",
              "    .dataframe thead th {\n",
              "        text-align: right;\n",
              "    }\n",
              "</style>\n",
              "<table border=\"1\" class=\"dataframe\">\n",
              "  <thead>\n",
              "    <tr style=\"text-align: right;\">\n",
              "      <th></th>\n",
              "      <th>capas ocultas</th>\n",
              "      <th>neuronas en capas ocultas</th>\n",
              "      <th>accuracy real</th>\n",
              "      <th>Intervalo de confianza (prueba)</th>\n",
              "      <th>precision_score</th>\n",
              "      <th>recall_score</th>\n",
              "      <th>f1_score</th>\n",
              "    </tr>\n",
              "  </thead>\n",
              "  <tbody>\n",
              "    <tr>\n",
              "      <th>0</th>\n",
              "      <td>1.0</td>\n",
              "      <td>12.0</td>\n",
              "      <td>0.959743</td>\n",
              "      <td>0.012058</td>\n",
              "      <td>0.959797</td>\n",
              "      <td>0.968466</td>\n",
              "      <td>0.964065</td>\n",
              "    </tr>\n",
              "    <tr>\n",
              "      <th>1</th>\n",
              "      <td>1.0</td>\n",
              "      <td>16.0</td>\n",
              "      <td>0.962003</td>\n",
              "      <td>0.013650</td>\n",
              "      <td>0.960874</td>\n",
              "      <td>0.971467</td>\n",
              "      <td>0.966081</td>\n",
              "    </tr>\n",
              "    <tr>\n",
              "      <th>2</th>\n",
              "      <td>1.0</td>\n",
              "      <td>20.0</td>\n",
              "      <td>0.963541</td>\n",
              "      <td>0.014993</td>\n",
              "      <td>0.961467</td>\n",
              "      <td>0.973839</td>\n",
              "      <td>0.967542</td>\n",
              "    </tr>\n",
              "    <tr>\n",
              "      <th>3</th>\n",
              "      <td>1.0</td>\n",
              "      <td>24.0</td>\n",
              "      <td>0.967611</td>\n",
              "      <td>0.012893</td>\n",
              "      <td>0.963162</td>\n",
              "      <td>0.979353</td>\n",
              "      <td>0.971150</td>\n",
              "    </tr>\n",
              "    <tr>\n",
              "      <th>4</th>\n",
              "      <td>1.0</td>\n",
              "      <td>30.0</td>\n",
              "      <td>0.968335</td>\n",
              "      <td>0.012270</td>\n",
              "      <td>0.966155</td>\n",
              "      <td>0.977587</td>\n",
              "      <td>0.971785</td>\n",
              "    </tr>\n",
              "    <tr>\n",
              "      <th>5</th>\n",
              "      <td>1.0</td>\n",
              "      <td>40.0</td>\n",
              "      <td>0.968154</td>\n",
              "      <td>0.013052</td>\n",
              "      <td>0.964196</td>\n",
              "      <td>0.979368</td>\n",
              "      <td>0.971672</td>\n",
              "    </tr>\n",
              "    <tr>\n",
              "      <th>6</th>\n",
              "      <td>1.0</td>\n",
              "      <td>50.0</td>\n",
              "      <td>0.969240</td>\n",
              "      <td>0.011744</td>\n",
              "      <td>0.966362</td>\n",
              "      <td>0.978858</td>\n",
              "      <td>0.972532</td>\n",
              "    </tr>\n",
              "    <tr>\n",
              "      <th>7</th>\n",
              "      <td>2.0</td>\n",
              "      <td>12.0</td>\n",
              "      <td>0.957842</td>\n",
              "      <td>0.014764</td>\n",
              "      <td>0.956208</td>\n",
              "      <td>0.968889</td>\n",
              "      <td>0.962431</td>\n",
              "    </tr>\n",
              "    <tr>\n",
              "      <th>8</th>\n",
              "      <td>2.0</td>\n",
              "      <td>16.0</td>\n",
              "      <td>0.967792</td>\n",
              "      <td>0.013963</td>\n",
              "      <td>0.964128</td>\n",
              "      <td>0.978708</td>\n",
              "      <td>0.971303</td>\n",
              "    </tr>\n",
              "    <tr>\n",
              "      <th>9</th>\n",
              "      <td>2.0</td>\n",
              "      <td>20.0</td>\n",
              "      <td>0.967250</td>\n",
              "      <td>0.011596</td>\n",
              "      <td>0.963503</td>\n",
              "      <td>0.978185</td>\n",
              "      <td>0.970751</td>\n",
              "    </tr>\n",
              "    <tr>\n",
              "      <th>10</th>\n",
              "      <td>2.0</td>\n",
              "      <td>24.0</td>\n",
              "      <td>0.968336</td>\n",
              "      <td>0.010830</td>\n",
              "      <td>0.964844</td>\n",
              "      <td>0.978865</td>\n",
              "      <td>0.971761</td>\n",
              "    </tr>\n",
              "    <tr>\n",
              "      <th>11</th>\n",
              "      <td>2.0</td>\n",
              "      <td>30.0</td>\n",
              "      <td>0.966889</td>\n",
              "      <td>0.010248</td>\n",
              "      <td>0.963425</td>\n",
              "      <td>0.977755</td>\n",
              "      <td>0.970483</td>\n",
              "    </tr>\n",
              "    <tr>\n",
              "      <th>12</th>\n",
              "      <td>2.0</td>\n",
              "      <td>40.0</td>\n",
              "      <td>0.968246</td>\n",
              "      <td>0.012218</td>\n",
              "      <td>0.968973</td>\n",
              "      <td>0.974313</td>\n",
              "      <td>0.971546</td>\n",
              "    </tr>\n",
              "    <tr>\n",
              "      <th>13</th>\n",
              "      <td>2.0</td>\n",
              "      <td>50.0</td>\n",
              "      <td>0.966617</td>\n",
              "      <td>0.010803</td>\n",
              "      <td>0.965483</td>\n",
              "      <td>0.975147</td>\n",
              "      <td>0.970194</td>\n",
              "    </tr>\n",
              "    <tr>\n",
              "      <th>14</th>\n",
              "      <td>12.0</td>\n",
              "      <td>12.0</td>\n",
              "      <td>0.959018</td>\n",
              "      <td>0.013358</td>\n",
              "      <td>0.956841</td>\n",
              "      <td>0.970021</td>\n",
              "      <td>0.963342</td>\n",
              "    </tr>\n",
              "    <tr>\n",
              "      <th>15</th>\n",
              "      <td>12.0</td>\n",
              "      <td>16.0</td>\n",
              "      <td>0.959923</td>\n",
              "      <td>0.013999</td>\n",
              "      <td>0.958878</td>\n",
              "      <td>0.969767</td>\n",
              "      <td>0.964205</td>\n",
              "    </tr>\n",
              "    <tr>\n",
              "      <th>16</th>\n",
              "      <td>12.0</td>\n",
              "      <td>20.0</td>\n",
              "      <td>0.964085</td>\n",
              "      <td>0.011489</td>\n",
              "      <td>0.957439</td>\n",
              "      <td>0.979323</td>\n",
              "      <td>0.968189</td>\n",
              "    </tr>\n",
              "    <tr>\n",
              "      <th>17</th>\n",
              "      <td>12.0</td>\n",
              "      <td>24.0</td>\n",
              "      <td>0.964264</td>\n",
              "      <td>0.013924</td>\n",
              "      <td>0.957008</td>\n",
              "      <td>0.980201</td>\n",
              "      <td>0.968395</td>\n",
              "    </tr>\n",
              "    <tr>\n",
              "      <th>18</th>\n",
              "      <td>12.0</td>\n",
              "      <td>30.0</td>\n",
              "      <td>0.964264</td>\n",
              "      <td>0.014696</td>\n",
              "      <td>0.960192</td>\n",
              "      <td>0.976611</td>\n",
              "      <td>0.968198</td>\n",
              "    </tr>\n",
              "    <tr>\n",
              "      <th>19</th>\n",
              "      <td>12.0</td>\n",
              "      <td>40.0</td>\n",
              "      <td>0.967974</td>\n",
              "      <td>0.011584</td>\n",
              "      <td>0.961747</td>\n",
              "      <td>0.981489</td>\n",
              "      <td>0.971500</td>\n",
              "    </tr>\n",
              "    <tr>\n",
              "      <th>20</th>\n",
              "      <td>12.0</td>\n",
              "      <td>50.0</td>\n",
              "      <td>0.969059</td>\n",
              "      <td>0.011616</td>\n",
              "      <td>0.967508</td>\n",
              "      <td>0.977396</td>\n",
              "      <td>0.972352</td>\n",
              "    </tr>\n",
              "    <tr>\n",
              "      <th>21</th>\n",
              "      <td>20.0</td>\n",
              "      <td>12.0</td>\n",
              "      <td>0.950696</td>\n",
              "      <td>0.011592</td>\n",
              "      <td>0.945638</td>\n",
              "      <td>0.967574</td>\n",
              "      <td>0.956276</td>\n",
              "    </tr>\n",
              "    <tr>\n",
              "      <th>22</th>\n",
              "      <td>20.0</td>\n",
              "      <td>16.0</td>\n",
              "      <td>0.957028</td>\n",
              "      <td>0.011798</td>\n",
              "      <td>0.957317</td>\n",
              "      <td>0.966356</td>\n",
              "      <td>0.961598</td>\n",
              "    </tr>\n",
              "    <tr>\n",
              "      <th>23</th>\n",
              "      <td>20.0</td>\n",
              "      <td>20.0</td>\n",
              "      <td>0.961098</td>\n",
              "      <td>0.014928</td>\n",
              "      <td>0.955730</td>\n",
              "      <td>0.975618</td>\n",
              "      <td>0.965466</td>\n",
              "    </tr>\n",
              "    <tr>\n",
              "      <th>24</th>\n",
              "      <td>20.0</td>\n",
              "      <td>24.0</td>\n",
              "      <td>0.961098</td>\n",
              "      <td>0.013572</td>\n",
              "      <td>0.954357</td>\n",
              "      <td>0.976815</td>\n",
              "      <td>0.965398</td>\n",
              "    </tr>\n",
              "    <tr>\n",
              "      <th>25</th>\n",
              "      <td>20.0</td>\n",
              "      <td>30.0</td>\n",
              "      <td>0.964266</td>\n",
              "      <td>0.008942</td>\n",
              "      <td>0.961207</td>\n",
              "      <td>0.975418</td>\n",
              "      <td>0.968141</td>\n",
              "    </tr>\n",
              "    <tr>\n",
              "      <th>26</th>\n",
              "      <td>20.0</td>\n",
              "      <td>40.0</td>\n",
              "      <td>0.966436</td>\n",
              "      <td>0.010818</td>\n",
              "      <td>0.960629</td>\n",
              "      <td>0.980056</td>\n",
              "      <td>0.970197</td>\n",
              "    </tr>\n",
              "    <tr>\n",
              "      <th>27</th>\n",
              "      <td>20.0</td>\n",
              "      <td>50.0</td>\n",
              "      <td>0.966526</td>\n",
              "      <td>0.013558</td>\n",
              "      <td>0.960420</td>\n",
              "      <td>0.980579</td>\n",
              "      <td>0.970293</td>\n",
              "    </tr>\n",
              "  </tbody>\n",
              "</table>\n",
              "</div>"
            ],
            "text/plain": [
              "    capas ocultas  neuronas en capas ocultas  ...  recall_score  f1_score\n",
              "0             1.0                       12.0  ...      0.968466  0.964065\n",
              "1             1.0                       16.0  ...      0.971467  0.966081\n",
              "2             1.0                       20.0  ...      0.973839  0.967542\n",
              "3             1.0                       24.0  ...      0.979353  0.971150\n",
              "4             1.0                       30.0  ...      0.977587  0.971785\n",
              "5             1.0                       40.0  ...      0.979368  0.971672\n",
              "6             1.0                       50.0  ...      0.978858  0.972532\n",
              "7             2.0                       12.0  ...      0.968889  0.962431\n",
              "8             2.0                       16.0  ...      0.978708  0.971303\n",
              "9             2.0                       20.0  ...      0.978185  0.970751\n",
              "10            2.0                       24.0  ...      0.978865  0.971761\n",
              "11            2.0                       30.0  ...      0.977755  0.970483\n",
              "12            2.0                       40.0  ...      0.974313  0.971546\n",
              "13            2.0                       50.0  ...      0.975147  0.970194\n",
              "14           12.0                       12.0  ...      0.970021  0.963342\n",
              "15           12.0                       16.0  ...      0.969767  0.964205\n",
              "16           12.0                       20.0  ...      0.979323  0.968189\n",
              "17           12.0                       24.0  ...      0.980201  0.968395\n",
              "18           12.0                       30.0  ...      0.976611  0.968198\n",
              "19           12.0                       40.0  ...      0.981489  0.971500\n",
              "20           12.0                       50.0  ...      0.977396  0.972352\n",
              "21           20.0                       12.0  ...      0.967574  0.956276\n",
              "22           20.0                       16.0  ...      0.966356  0.961598\n",
              "23           20.0                       20.0  ...      0.975618  0.965466\n",
              "24           20.0                       24.0  ...      0.976815  0.965398\n",
              "25           20.0                       30.0  ...      0.975418  0.968141\n",
              "26           20.0                       40.0  ...      0.980056  0.970197\n",
              "27           20.0                       50.0  ...      0.980579  0.970293\n",
              "\n",
              "[28 rows x 7 columns]"
            ]
          },
          "metadata": {
            "tags": []
          },
          "execution_count": 0
        }
      ]
    },
    {
      "cell_type": "code",
      "metadata": {
        "colab": {
          "base_uri": "https://localhost:8080/",
          "height": 97
        },
        "id": "Nh5EI-YNBPLh",
        "outputId": "15937c20-1ced-464d-db4d-fa66ed855045"
      },
      "source": [
        "resultados_mlpc = experimetar_mlpc(X, Y, [2], [40])\r\n",
        "resultados_mlpc"
      ],
      "execution_count": null,
      "outputs": [
        {
          "output_type": "execute_result",
          "data": {
            "text/html": [
              "<div>\n",
              "<style scoped>\n",
              "    .dataframe tbody tr th:only-of-type {\n",
              "        vertical-align: middle;\n",
              "    }\n",
              "\n",
              "    .dataframe tbody tr th {\n",
              "        vertical-align: top;\n",
              "    }\n",
              "\n",
              "    .dataframe thead th {\n",
              "        text-align: right;\n",
              "    }\n",
              "</style>\n",
              "<table border=\"1\" class=\"dataframe\">\n",
              "  <thead>\n",
              "    <tr style=\"text-align: right;\">\n",
              "      <th></th>\n",
              "      <th>capas ocultas</th>\n",
              "      <th>neuronas en capas ocultas</th>\n",
              "      <th>accuracy real</th>\n",
              "      <th>Intervalo de confianza (prueba)</th>\n",
              "      <th>precision_score</th>\n",
              "      <th>recall_score</th>\n",
              "      <th>f1_score</th>\n",
              "    </tr>\n",
              "  </thead>\n",
              "  <tbody>\n",
              "    <tr>\n",
              "      <th>0</th>\n",
              "      <td>2.0</td>\n",
              "      <td>40.0</td>\n",
              "      <td>0.968878</td>\n",
              "      <td>0.01142</td>\n",
              "      <td>0.966846</td>\n",
              "      <td>0.977728</td>\n",
              "      <td>0.972202</td>\n",
              "    </tr>\n",
              "  </tbody>\n",
              "</table>\n",
              "</div>"
            ],
            "text/plain": [
              "   capas ocultas  neuronas en capas ocultas  ...  recall_score  f1_score\n",
              "0            2.0                       40.0  ...      0.977728  0.972202\n",
              "\n",
              "[1 rows x 7 columns]"
            ]
          },
          "metadata": {
            "tags": []
          },
          "execution_count": 9
        }
      ]
    },
    {
      "cell_type": "code",
      "metadata": {
        "colab": {
          "base_uri": "https://localhost:8080/",
          "height": 329
        },
        "id": "osx-WzANjIQA",
        "outputId": "a20a9c76-547f-44a0-f3f5-0727310ad035"
      },
      "source": [
        "calcularMatrizCF(matrisMLP, \"Matriz de confusión MLP\")"
      ],
      "execution_count": null,
      "outputs": [
        {
          "output_type": "stream",
          "text": [
            "[[0.95467538 0.04532462]\n",
            " [0.02176385 0.97823615]]\n"
          ],
          "name": "stdout"
        },
        {
          "output_type": "display_data",
          "data": {
            "image/png": "[encoded data removed]",
            "text/plain": [
              "<Figure size 432x288 with 2 Axes>"
            ]
          },
          "metadata": {
            "tags": [],
            "needs_background": "light"
          }
        }
      ]
    },
    {
      "cell_type": "markdown",
      "metadata": {
        "id": "2YxT6h0bWWAB"
      },
      "source": [
        "# RF (Random Forest)\n"
      ]
    },
    {
      "cell_type": "code",
      "metadata": {
        "id": "JqjHkDikWYg6"
      },
      "source": [
        "#ejercicio de código\n",
        "def experimentar_rf(num_trees,numero_de_variables, X, Y):\n",
        "    folds = 10\n",
        "    skf = KFold(n_splits=folds)\n",
        "    resultados = pd.DataFrame()\n",
        "    idx = 0\n",
        "    conf_matrix_list_of_arrays = np.zeros(2)\n",
        "    for trees in num_trees:\n",
        "        for num_variables in numero_de_variables:\n",
        "            ## para almacenar los errores intermedios\n",
        "            EficienciaTrain = []\n",
        "            EficienciaVal = []\n",
        "            Macc = []\n",
        "            Mpre = []\n",
        "            Mrec = []\n",
        "            Mf1 = []\n",
        "            for train, test in skf.split(X, Y):\n",
        "                Xtrain = X[train,:]\n",
        "                Ytrain = Y[train]\n",
        "                Xtest = X[test,:]\n",
        "                Ytest = Y[test]\n",
        "                #Haga el llamado a la función para crear y entrenar el modelo usando los datos de entrenamiento\n",
        "                modelo = RandomForestClassifier(n_estimators=trees, max_features=num_variables, criterion=\"gini\")\n",
        "                modelo.fit(Xtrain,Ytrain)\n",
        "                #predecir muestras de entrenamiento\n",
        "                Ytrain_pred = modelo.predict(Xtrain)\n",
        "                #predecir muestras de pruebas\n",
        "                Yest = modelo.predict(Xtest)\n",
        "                #Evaluamos las predicciones del modelo con los datos de test\n",
        "                EficienciaTrain.append(np.mean(Ytrain_pred.ravel() == Ytrain.ravel()))\n",
        "                EficienciaVal.append(np.mean(Yest.ravel() == Ytest.ravel()))\n",
        "                conf_matrix = confusion_matrix(Ytest, modelo.predict(Xtest))\n",
        "                conf_matrix_list_of_arrays = conf_matrix_list_of_arrays + conf_matrix\n",
        "                Macc.append(accuracy_score(Ytest, Yest))\n",
        "                Mpre.append(precision_score(Ytest, Yest))\n",
        "                Mrec.append(recall_score(Ytest, Yest))\n",
        "                Mf1.append(f1_score(Ytest, Yest))\n",
        "\n",
        "\n",
        "\n",
        "            resultados.loc[idx,'número de arboles'] = trees\n",
        "            resultados.loc[idx,'variables para la selección del mejor umbral'] = num_variables\n",
        "            resultados.loc[idx,'eficiencia de entrenamiento'] = np.mean(EficienciaTrain)\n",
        "            resultados.loc[idx,'desviacion estandar entrenamiento'] = np.std(EficienciaTrain)\n",
        "            resultados.loc[idx,'eficiencia de prueba'] = np.mean(EficienciaVal)\n",
        "            resultados.loc[idx,'Intervalo de confianza (prueba)'] = np.std(EficienciaVal)\n",
        "            resultados.loc[idx,'accuracy real'] = np.mean(Macc)\n",
        "            resultados.loc[idx,'precision_score'] = np.mean(Mpre)\n",
        "            resultados.loc[idx,'recall_score'] = np.mean(Mrec)\n",
        "            resultados.loc[idx,'f1_score'] = np.mean(Mf1)\n",
        "            idx= idx +1\n",
        "        print(f\"termina para {trees} arboles\")\n",
        "        \n",
        "    return (resultados, conf_matrix_list_of_arrays)"
      ],
      "execution_count": null,
      "outputs": []
    },
    {
      "cell_type": "code",
      "metadata": {
        "colab": {
          "base_uri": "https://localhost:8080/",
          "height": 1000
        },
        "id": "gbxibfrGWg_s",
        "outputId": "1f2d89e0-54da-4e32-bb0f-108c579eb2b0"
      },
      "source": [
        "arboles = [5,10,20,50,100, 150]\n",
        "variables_seleccion = [5,10,15,20,25]\n",
        "resultados_rf, matrisRF= experimentar_rf(arboles, variables_seleccion, X, Y)\n",
        "resultados_rf"
      ],
      "execution_count": null,
      "outputs": [
        {
          "output_type": "stream",
          "text": [
            "termina para 5 arboles\n",
            "termina para 10 arboles\n",
            "termina para 20 arboles\n",
            "termina para 50 arboles\n",
            "termina para 100 arboles\n",
            "termina para 150 arboles\n"
          ],
          "name": "stdout"
        },
        {
          "output_type": "execute_result",
          "data": {
            "text/html": [
              "<div>\n",
              "<style scoped>\n",
              "    .dataframe tbody tr th:only-of-type {\n",
              "        vertical-align: middle;\n",
              "    }\n",
              "\n",
              "    .dataframe tbody tr th {\n",
              "        vertical-align: top;\n",
              "    }\n",
              "\n",
              "    .dataframe thead th {\n",
              "        text-align: right;\n",
              "    }\n",
              "</style>\n",
              "<table border=\"1\" class=\"dataframe\">\n",
              "  <thead>\n",
              "    <tr style=\"text-align: right;\">\n",
              "      <th></th>\n",
              "      <th>número de arboles</th>\n",
              "      <th>variables para la selección del mejor umbral</th>\n",
              "      <th>eficiencia de entrenamiento</th>\n",
              "      <th>desviacion estandar entrenamiento</th>\n",
              "      <th>eficiencia de prueba</th>\n",
              "      <th>Intervalo de confianza (prueba)</th>\n",
              "      <th>accuracy real</th>\n",
              "      <th>precision_score</th>\n",
              "      <th>recall_score</th>\n",
              "      <th>f1_score</th>\n",
              "    </tr>\n",
              "  </thead>\n",
              "  <tbody>\n",
              "    <tr>\n",
              "      <th>0</th>\n",
              "      <td>5.0</td>\n",
              "      <td>5.0</td>\n",
              "      <td>0.987567</td>\n",
              "      <td>0.000672</td>\n",
              "      <td>0.967703</td>\n",
              "      <td>0.012349</td>\n",
              "      <td>0.967703</td>\n",
              "      <td>0.963868</td>\n",
              "      <td>0.978969</td>\n",
              "      <td>0.971288</td>\n",
              "    </tr>\n",
              "    <tr>\n",
              "      <th>1</th>\n",
              "      <td>5.0</td>\n",
              "      <td>10.0</td>\n",
              "      <td>0.987467</td>\n",
              "      <td>0.000924</td>\n",
              "      <td>0.966977</td>\n",
              "      <td>0.014879</td>\n",
              "      <td>0.966977</td>\n",
              "      <td>0.964771</td>\n",
              "      <td>0.976464</td>\n",
              "      <td>0.970527</td>\n",
              "    </tr>\n",
              "    <tr>\n",
              "      <th>2</th>\n",
              "      <td>5.0</td>\n",
              "      <td>15.0</td>\n",
              "      <td>0.987597</td>\n",
              "      <td>0.000403</td>\n",
              "      <td>0.966797</td>\n",
              "      <td>0.014207</td>\n",
              "      <td>0.966797</td>\n",
              "      <td>0.964674</td>\n",
              "      <td>0.976317</td>\n",
              "      <td>0.970380</td>\n",
              "    </tr>\n",
              "    <tr>\n",
              "      <th>3</th>\n",
              "      <td>5.0</td>\n",
              "      <td>20.0</td>\n",
              "      <td>0.987296</td>\n",
              "      <td>0.000599</td>\n",
              "      <td>0.969060</td>\n",
              "      <td>0.010971</td>\n",
              "      <td>0.969060</td>\n",
              "      <td>0.967212</td>\n",
              "      <td>0.977760</td>\n",
              "      <td>0.972411</td>\n",
              "    </tr>\n",
              "    <tr>\n",
              "      <th>4</th>\n",
              "      <td>5.0</td>\n",
              "      <td>25.0</td>\n",
              "      <td>0.987587</td>\n",
              "      <td>0.000176</td>\n",
              "      <td>0.967250</td>\n",
              "      <td>0.012766</td>\n",
              "      <td>0.967250</td>\n",
              "      <td>0.965573</td>\n",
              "      <td>0.976143</td>\n",
              "      <td>0.970763</td>\n",
              "    </tr>\n",
              "    <tr>\n",
              "      <th>5</th>\n",
              "      <td>10.0</td>\n",
              "      <td>5.0</td>\n",
              "      <td>0.989246</td>\n",
              "      <td>0.000436</td>\n",
              "      <td>0.970597</td>\n",
              "      <td>0.012062</td>\n",
              "      <td>0.970597</td>\n",
              "      <td>0.968560</td>\n",
              "      <td>0.979079</td>\n",
              "      <td>0.973737</td>\n",
              "    </tr>\n",
              "    <tr>\n",
              "      <th>6</th>\n",
              "      <td>10.0</td>\n",
              "      <td>10.0</td>\n",
              "      <td>0.989105</td>\n",
              "      <td>0.000400</td>\n",
              "      <td>0.970778</td>\n",
              "      <td>0.011917</td>\n",
              "      <td>0.970778</td>\n",
              "      <td>0.968131</td>\n",
              "      <td>0.979854</td>\n",
              "      <td>0.973900</td>\n",
              "    </tr>\n",
              "    <tr>\n",
              "      <th>7</th>\n",
              "      <td>10.0</td>\n",
              "      <td>15.0</td>\n",
              "      <td>0.989035</td>\n",
              "      <td>0.000507</td>\n",
              "      <td>0.969240</td>\n",
              "      <td>0.012631</td>\n",
              "      <td>0.969240</td>\n",
              "      <td>0.967482</td>\n",
              "      <td>0.977748</td>\n",
              "      <td>0.972535</td>\n",
              "    </tr>\n",
              "    <tr>\n",
              "      <th>8</th>\n",
              "      <td>10.0</td>\n",
              "      <td>20.0</td>\n",
              "      <td>0.989135</td>\n",
              "      <td>0.000393</td>\n",
              "      <td>0.969149</td>\n",
              "      <td>0.013267</td>\n",
              "      <td>0.969149</td>\n",
              "      <td>0.966892</td>\n",
              "      <td>0.978246</td>\n",
              "      <td>0.972462</td>\n",
              "    </tr>\n",
              "    <tr>\n",
              "      <th>9</th>\n",
              "      <td>10.0</td>\n",
              "      <td>25.0</td>\n",
              "      <td>0.989035</td>\n",
              "      <td>0.000316</td>\n",
              "      <td>0.969421</td>\n",
              "      <td>0.012388</td>\n",
              "      <td>0.969421</td>\n",
              "      <td>0.968857</td>\n",
              "      <td>0.976653</td>\n",
              "      <td>0.972684</td>\n",
              "    </tr>\n",
              "    <tr>\n",
              "      <th>10</th>\n",
              "      <td>20.0</td>\n",
              "      <td>5.0</td>\n",
              "      <td>0.989648</td>\n",
              "      <td>0.000333</td>\n",
              "      <td>0.972316</td>\n",
              "      <td>0.011267</td>\n",
              "      <td>0.972316</td>\n",
              "      <td>0.968554</td>\n",
              "      <td>0.982335</td>\n",
              "      <td>0.975347</td>\n",
              "    </tr>\n",
              "    <tr>\n",
              "      <th>11</th>\n",
              "      <td>20.0</td>\n",
              "      <td>10.0</td>\n",
              "      <td>0.989658</td>\n",
              "      <td>0.000398</td>\n",
              "      <td>0.971592</td>\n",
              "      <td>0.011590</td>\n",
              "      <td>0.971592</td>\n",
              "      <td>0.967490</td>\n",
              "      <td>0.982138</td>\n",
              "      <td>0.974702</td>\n",
              "    </tr>\n",
              "    <tr>\n",
              "      <th>12</th>\n",
              "      <td>20.0</td>\n",
              "      <td>15.0</td>\n",
              "      <td>0.989608</td>\n",
              "      <td>0.000390</td>\n",
              "      <td>0.971139</td>\n",
              "      <td>0.012614</td>\n",
              "      <td>0.971139</td>\n",
              "      <td>0.967007</td>\n",
              "      <td>0.981820</td>\n",
              "      <td>0.974308</td>\n",
              "    </tr>\n",
              "    <tr>\n",
              "      <th>13</th>\n",
              "      <td>20.0</td>\n",
              "      <td>20.0</td>\n",
              "      <td>0.989587</td>\n",
              "      <td>0.000390</td>\n",
              "      <td>0.969963</td>\n",
              "      <td>0.013907</td>\n",
              "      <td>0.969963</td>\n",
              "      <td>0.966712</td>\n",
              "      <td>0.980042</td>\n",
              "      <td>0.973258</td>\n",
              "    </tr>\n",
              "    <tr>\n",
              "      <th>14</th>\n",
              "      <td>20.0</td>\n",
              "      <td>25.0</td>\n",
              "      <td>0.989557</td>\n",
              "      <td>0.000432</td>\n",
              "      <td>0.970235</td>\n",
              "      <td>0.012737</td>\n",
              "      <td>0.970235</td>\n",
              "      <td>0.965760</td>\n",
              "      <td>0.981535</td>\n",
              "      <td>0.973541</td>\n",
              "    </tr>\n",
              "    <tr>\n",
              "      <th>15</th>\n",
              "      <td>50.0</td>\n",
              "      <td>5.0</td>\n",
              "      <td>0.989879</td>\n",
              "      <td>0.000342</td>\n",
              "      <td>0.972497</td>\n",
              "      <td>0.011390</td>\n",
              "      <td>0.972497</td>\n",
              "      <td>0.968556</td>\n",
              "      <td>0.982625</td>\n",
              "      <td>0.975497</td>\n",
              "    </tr>\n",
              "    <tr>\n",
              "      <th>16</th>\n",
              "      <td>50.0</td>\n",
              "      <td>10.0</td>\n",
              "      <td>0.989859</td>\n",
              "      <td>0.000369</td>\n",
              "      <td>0.972044</td>\n",
              "      <td>0.011669</td>\n",
              "      <td>0.972044</td>\n",
              "      <td>0.968712</td>\n",
              "      <td>0.981673</td>\n",
              "      <td>0.975101</td>\n",
              "    </tr>\n",
              "    <tr>\n",
              "      <th>17</th>\n",
              "      <td>50.0</td>\n",
              "      <td>15.0</td>\n",
              "      <td>0.989849</td>\n",
              "      <td>0.000291</td>\n",
              "      <td>0.971683</td>\n",
              "      <td>0.011252</td>\n",
              "      <td>0.971683</td>\n",
              "      <td>0.968711</td>\n",
              "      <td>0.981045</td>\n",
              "      <td>0.974778</td>\n",
              "    </tr>\n",
              "    <tr>\n",
              "      <th>18</th>\n",
              "      <td>50.0</td>\n",
              "      <td>20.0</td>\n",
              "      <td>0.989869</td>\n",
              "      <td>0.000301</td>\n",
              "      <td>0.970597</td>\n",
              "      <td>0.012041</td>\n",
              "      <td>0.970597</td>\n",
              "      <td>0.967632</td>\n",
              "      <td>0.980219</td>\n",
              "      <td>0.973802</td>\n",
              "    </tr>\n",
              "    <tr>\n",
              "      <th>19</th>\n",
              "      <td>50.0</td>\n",
              "      <td>25.0</td>\n",
              "      <td>0.989829</td>\n",
              "      <td>0.000327</td>\n",
              "      <td>0.970416</td>\n",
              "      <td>0.012951</td>\n",
              "      <td>0.970416</td>\n",
              "      <td>0.967600</td>\n",
              "      <td>0.979898</td>\n",
              "      <td>0.973644</td>\n",
              "    </tr>\n",
              "    <tr>\n",
              "      <th>20</th>\n",
              "      <td>100.0</td>\n",
              "      <td>5.0</td>\n",
              "      <td>0.989889</td>\n",
              "      <td>0.000318</td>\n",
              "      <td>0.972587</td>\n",
              "      <td>0.010881</td>\n",
              "      <td>0.972587</td>\n",
              "      <td>0.969622</td>\n",
              "      <td>0.981679</td>\n",
              "      <td>0.975552</td>\n",
              "    </tr>\n",
              "    <tr>\n",
              "      <th>21</th>\n",
              "      <td>100.0</td>\n",
              "      <td>10.0</td>\n",
              "      <td>0.989889</td>\n",
              "      <td>0.000318</td>\n",
              "      <td>0.971773</td>\n",
              "      <td>0.011294</td>\n",
              "      <td>0.971773</td>\n",
              "      <td>0.968051</td>\n",
              "      <td>0.981851</td>\n",
              "      <td>0.974858</td>\n",
              "    </tr>\n",
              "    <tr>\n",
              "      <th>22</th>\n",
              "      <td>100.0</td>\n",
              "      <td>15.0</td>\n",
              "      <td>0.989889</td>\n",
              "      <td>0.000318</td>\n",
              "      <td>0.972316</td>\n",
              "      <td>0.011238</td>\n",
              "      <td>0.972316</td>\n",
              "      <td>0.968341</td>\n",
              "      <td>0.982656</td>\n",
              "      <td>0.975374</td>\n",
              "    </tr>\n",
              "    <tr>\n",
              "      <th>23</th>\n",
              "      <td>100.0</td>\n",
              "      <td>20.0</td>\n",
              "      <td>0.989869</td>\n",
              "      <td>0.000327</td>\n",
              "      <td>0.970778</td>\n",
              "      <td>0.011681</td>\n",
              "      <td>0.970778</td>\n",
              "      <td>0.966673</td>\n",
              "      <td>0.981518</td>\n",
              "      <td>0.973993</td>\n",
              "    </tr>\n",
              "    <tr>\n",
              "      <th>24</th>\n",
              "      <td>100.0</td>\n",
              "      <td>25.0</td>\n",
              "      <td>0.989889</td>\n",
              "      <td>0.000318</td>\n",
              "      <td>0.971411</td>\n",
              "      <td>0.012303</td>\n",
              "      <td>0.971411</td>\n",
              "      <td>0.967191</td>\n",
              "      <td>0.982157</td>\n",
              "      <td>0.974568</td>\n",
              "    </tr>\n",
              "    <tr>\n",
              "      <th>25</th>\n",
              "      <td>150.0</td>\n",
              "      <td>5.0</td>\n",
              "      <td>0.989889</td>\n",
              "      <td>0.000318</td>\n",
              "      <td>0.971863</td>\n",
              "      <td>0.011233</td>\n",
              "      <td>0.971863</td>\n",
              "      <td>0.968383</td>\n",
              "      <td>0.981663</td>\n",
              "      <td>0.974919</td>\n",
              "    </tr>\n",
              "    <tr>\n",
              "      <th>26</th>\n",
              "      <td>150.0</td>\n",
              "      <td>10.0</td>\n",
              "      <td>0.989889</td>\n",
              "      <td>0.000318</td>\n",
              "      <td>0.971502</td>\n",
              "      <td>0.010593</td>\n",
              "      <td>0.971502</td>\n",
              "      <td>0.968062</td>\n",
              "      <td>0.981352</td>\n",
              "      <td>0.974605</td>\n",
              "    </tr>\n",
              "    <tr>\n",
              "      <th>27</th>\n",
              "      <td>150.0</td>\n",
              "      <td>15.0</td>\n",
              "      <td>0.989889</td>\n",
              "      <td>0.000318</td>\n",
              "      <td>0.972135</td>\n",
              "      <td>0.012126</td>\n",
              "      <td>0.972135</td>\n",
              "      <td>0.968457</td>\n",
              "      <td>0.982163</td>\n",
              "      <td>0.975202</td>\n",
              "    </tr>\n",
              "    <tr>\n",
              "      <th>28</th>\n",
              "      <td>150.0</td>\n",
              "      <td>20.0</td>\n",
              "      <td>0.989889</td>\n",
              "      <td>0.000318</td>\n",
              "      <td>0.971140</td>\n",
              "      <td>0.012238</td>\n",
              "      <td>0.971140</td>\n",
              "      <td>0.967532</td>\n",
              "      <td>0.981354</td>\n",
              "      <td>0.974317</td>\n",
              "    </tr>\n",
              "    <tr>\n",
              "      <th>29</th>\n",
              "      <td>150.0</td>\n",
              "      <td>25.0</td>\n",
              "      <td>0.989889</td>\n",
              "      <td>0.000318</td>\n",
              "      <td>0.970507</td>\n",
              "      <td>0.012303</td>\n",
              "      <td>0.970507</td>\n",
              "      <td>0.967457</td>\n",
              "      <td>0.980223</td>\n",
              "      <td>0.973745</td>\n",
              "    </tr>\n",
              "  </tbody>\n",
              "</table>\n",
              "</div>"
            ],
            "text/plain": [
              "    número de arboles  ...  f1_score\n",
              "0                 5.0  ...  0.971288\n",
              "1                 5.0  ...  0.970527\n",
              "2                 5.0  ...  0.970380\n",
              "3                 5.0  ...  0.972411\n",
              "4                 5.0  ...  0.970763\n",
              "5                10.0  ...  0.973737\n",
              "6                10.0  ...  0.973900\n",
              "7                10.0  ...  0.972535\n",
              "8                10.0  ...  0.972462\n",
              "9                10.0  ...  0.972684\n",
              "10               20.0  ...  0.975347\n",
              "11               20.0  ...  0.974702\n",
              "12               20.0  ...  0.974308\n",
              "13               20.0  ...  0.973258\n",
              "14               20.0  ...  0.973541\n",
              "15               50.0  ...  0.975497\n",
              "16               50.0  ...  0.975101\n",
              "17               50.0  ...  0.974778\n",
              "18               50.0  ...  0.973802\n",
              "19               50.0  ...  0.973644\n",
              "20              100.0  ...  0.975552\n",
              "21              100.0  ...  0.974858\n",
              "22              100.0  ...  0.975374\n",
              "23              100.0  ...  0.973993\n",
              "24              100.0  ...  0.974568\n",
              "25              150.0  ...  0.974919\n",
              "26              150.0  ...  0.974605\n",
              "27              150.0  ...  0.975202\n",
              "28              150.0  ...  0.974317\n",
              "29              150.0  ...  0.973745\n",
              "\n",
              "[30 rows x 10 columns]"
            ]
          },
          "metadata": {
            "tags": []
          },
          "execution_count": 39
        }
      ]
    },
    {
      "cell_type": "code",
      "metadata": {
        "colab": {
          "base_uri": "https://localhost:8080/",
          "height": 112
        },
        "id": "8ifqbv55a4wU",
        "outputId": "28b613b0-ad43-488a-d42a-75f39432b69e"
      },
      "source": [
        "arboles = [50]\n",
        "variables_seleccion = [5]\n",
        "resultados_rf, matrisRF = experimentar_rf(arboles, variables_seleccion, X, Y)\n",
        "resultados_rf"
      ],
      "execution_count": null,
      "outputs": [
        {
          "output_type": "stream",
          "text": [
            "termina para 50 arboles\n"
          ],
          "name": "stdout"
        },
        {
          "output_type": "execute_result",
          "data": {
            "text/html": [
              "<div>\n",
              "<style scoped>\n",
              "    .dataframe tbody tr th:only-of-type {\n",
              "        vertical-align: middle;\n",
              "    }\n",
              "\n",
              "    .dataframe tbody tr th {\n",
              "        vertical-align: top;\n",
              "    }\n",
              "\n",
              "    .dataframe thead th {\n",
              "        text-align: right;\n",
              "    }\n",
              "</style>\n",
              "<table border=\"1\" class=\"dataframe\">\n",
              "  <thead>\n",
              "    <tr style=\"text-align: right;\">\n",
              "      <th></th>\n",
              "      <th>número de arboles</th>\n",
              "      <th>variables para la selección del mejor umbral</th>\n",
              "      <th>eficiencia de entrenamiento</th>\n",
              "      <th>desviacion estandar entrenamiento</th>\n",
              "      <th>eficiencia de prueba</th>\n",
              "      <th>Intervalo de confianza (prueba)</th>\n",
              "      <th>accuracy real</th>\n",
              "      <th>precision_score</th>\n",
              "      <th>recall_score</th>\n",
              "      <th>f1_score</th>\n",
              "    </tr>\n",
              "  </thead>\n",
              "  <tbody>\n",
              "    <tr>\n",
              "      <th>0</th>\n",
              "      <td>50.0</td>\n",
              "      <td>5.0</td>\n",
              "      <td>0.989879</td>\n",
              "      <td>0.000305</td>\n",
              "      <td>0.972135</td>\n",
              "      <td>0.01103</td>\n",
              "      <td>0.972135</td>\n",
              "      <td>0.968366</td>\n",
              "      <td>0.982164</td>\n",
              "      <td>0.975172</td>\n",
              "    </tr>\n",
              "  </tbody>\n",
              "</table>\n",
              "</div>"
            ],
            "text/plain": [
              "   número de arboles  ...  f1_score\n",
              "0               50.0  ...  0.975172\n",
              "\n",
              "[1 rows x 10 columns]"
            ]
          },
          "metadata": {
            "tags": []
          },
          "execution_count": 40
        }
      ]
    },
    {
      "cell_type": "code",
      "metadata": {
        "colab": {
          "base_uri": "https://localhost:8080/",
          "height": 330
        },
        "id": "3cO-hUU1Z1gp",
        "outputId": "305e44e4-4a41-4843-9db5-51cf5b70ab4f"
      },
      "source": [
        "calcularMatrizCF(matrisRF, \"Matriz de confusión RF\")"
      ],
      "execution_count": null,
      "outputs": [
        {
          "output_type": "stream",
          "text": [
            "[[0.95957534 0.04042466]\n",
            " [0.01786584 0.98213416]]\n"
          ],
          "name": "stdout"
        },
        {
          "output_type": "display_data",
          "data": {
            "image/png": "[encoded data removed]",
            "text/plain": [
              "<Figure size 432x288 with 2 Axes>"
            ]
          },
          "metadata": {
            "tags": []
          }
        }
      ]
    },
    {
      "cell_type": "markdown",
      "metadata": {
        "id": "2UqRMtKFjxNr"
      },
      "source": [
        "# ANALISIS DISCRIMINATIVO CUADRATICO\n"
      ]
    },
    {
      "cell_type": "code",
      "metadata": {
        "id": "rkxXIQdLj6Pu"
      },
      "source": [
        "#ejercicio de código\n",
        "def experiementarQDA(x, y, params_reg,tol):\n",
        "\n",
        "    idx = 0\n",
        "    kf = KFold(n_splits=10) \n",
        "    # crear una lista con la combinaciones de los elementos de cada list\n",
        "    resultados = pd.DataFrame()\n",
        "    tol_regs = list(itertools.product(tol ,params_reg))\n",
        "    conf_matrix_list_of_arrays = np.zeros(2)\n",
        "    for params in tol_regs:\n",
        "        tol, param_reg = params\n",
        "        errores_train = []\n",
        "        errores_test = []\n",
        "        pct_support_vectors = []\n",
        "        EficienciaVal = []\n",
        "        Macc = []\n",
        "        Mpre = []\n",
        "        Mrec = []\n",
        "        Mf1 = []\n",
        "        for train_index, test_index in kf.split(x,y):\n",
        "            X_train, X_test = x[train_index], x[test_index]\n",
        "            y_train, y_test = y[train_index], y[test_index]  \n",
        "            # normalizar los datos\n",
        "            scaler = StandardScaler().fit(X= X_train)  \n",
        "            X_train = scaler.fit_transform(X_train)\n",
        "            X_test = scaler.transform(X_test)\n",
        "            clf = QuadraticDiscriminantAnalysis(priors=None, reg_param=param_reg, tol=tol) \n",
        "            # Entrenar el modelo\n",
        "            clf.fit(X_train, y_train)\n",
        "            # calculo de errores\n",
        "            y_test_pred = clf.predict(X_test)\n",
        "            y_train_pred = clf.predict(X_train)\n",
        "            conf_matrix = confusion_matrix(y_test, y_test_pred)\n",
        "            conf_matrix_list_of_arrays = conf_matrix_list_of_arrays + conf_matrix\n",
        "            # error y pct de vectores de soporte\n",
        "            errores_train.append(accuracy_score(y_true = y_train, y_pred = y_train_pred))\n",
        "            errores_test.append(accuracy_score(y_true = y_test, y_pred = y_test_pred))\n",
        "            # contar muestras de entrenamiento\n",
        "            #ypredict.append((y_test_pred))\n",
        "            #ytesetes.append((y_test))\n",
        "            Macc.append(accuracy_score(y_test, y_test_pred))\n",
        "            Mpre.append(precision_score(y_test, y_test_pred))\n",
        "            Mrec.append(recall_score(y_test, y_test_pred))\n",
        "            EficienciaVal.append(np.mean(y_test_pred.ravel() == y_test.ravel()))\n",
        "            Mf1.append(f1_score(y_test, y_test_pred))\n",
        "            clear_output(wait=True)\n",
        "\n",
        "    \n",
        "\n",
        "        resultados.loc[idx,'param_reg'] = param_reg\n",
        "        resultados.loc[idx,'tol'] = tol\n",
        "        resultados.loc[idx,'error de entrenamiento'] = np.mean(errores_train)\n",
        "        resultados.loc[idx,'error de prueba'] = np.mean(errores_test)\n",
        "        resultados.loc[idx,'accuracy real'] = np.mean(Macc)\n",
        "        resultados.loc[idx,'Intervalo de confianza (prueba)'] = np.std(EficienciaVal)\n",
        "        resultados.loc[idx,'precision_score'] = np.mean(Mpre)\n",
        "        resultados.loc[idx,'recall_score'] = np.mean(Mrec)\n",
        "        resultados.loc[idx,'f1_score'] = np.mean(Mf1)\n",
        "        \n",
        "        idx+=1\n",
        "    return (resultados, conf_matrix_list_of_arrays)"
      ],
      "execution_count": null,
      "outputs": []
    },
    {
      "cell_type": "code",
      "metadata": {
        "colab": {
          "base_uri": "https://localhost:8080/",
          "height": 331
        },
        "id": "GjTxkmZ4niGI",
        "outputId": "de2029aa-7876-4441-cb0a-b84300d40aee"
      },
      "source": [
        "resultadosQDA, matrisQDA = experiementarQDA(x =X ,y=Y,params_reg = [0.001, 0.01,0.1,0.2,0.3,0.4,0.5, 1],\n",
        "                                 tol = [1]\n",
        "                                )\n",
        "\n",
        "resultadosQDA"
      ],
      "execution_count": null,
      "outputs": [
        {
          "output_type": "execute_result",
          "data": {
            "text/html": [
              "<div>\n",
              "<style scoped>\n",
              "    .dataframe tbody tr th:only-of-type {\n",
              "        vertical-align: middle;\n",
              "    }\n",
              "\n",
              "    .dataframe tbody tr th {\n",
              "        vertical-align: top;\n",
              "    }\n",
              "\n",
              "    .dataframe thead th {\n",
              "        text-align: right;\n",
              "    }\n",
              "</style>\n",
              "<table border=\"1\" class=\"dataframe\">\n",
              "  <thead>\n",
              "    <tr style=\"text-align: right;\">\n",
              "      <th></th>\n",
              "      <th>param_reg</th>\n",
              "      <th>tol</th>\n",
              "      <th>error de entrenamiento</th>\n",
              "      <th>error de prueba</th>\n",
              "      <th>accuracy real</th>\n",
              "      <th>Intervalo de confianza (prueba)</th>\n",
              "      <th>precision_score</th>\n",
              "      <th>recall_score</th>\n",
              "      <th>f1_score</th>\n",
              "    </tr>\n",
              "  </thead>\n",
              "  <tbody>\n",
              "    <tr>\n",
              "      <th>0</th>\n",
              "      <td>0.001</td>\n",
              "      <td>1.0</td>\n",
              "      <td>0.878486</td>\n",
              "      <td>0.871467</td>\n",
              "      <td>0.871467</td>\n",
              "      <td>0.016607</td>\n",
              "      <td>0.979737</td>\n",
              "      <td>0.785913</td>\n",
              "      <td>0.871776</td>\n",
              "    </tr>\n",
              "    <tr>\n",
              "      <th>1</th>\n",
              "      <td>0.010</td>\n",
              "      <td>1.0</td>\n",
              "      <td>0.903583</td>\n",
              "      <td>0.897878</td>\n",
              "      <td>0.897878</td>\n",
              "      <td>0.011073</td>\n",
              "      <td>0.964103</td>\n",
              "      <td>0.848514</td>\n",
              "      <td>0.902436</td>\n",
              "    </tr>\n",
              "    <tr>\n",
              "      <th>2</th>\n",
              "      <td>0.100</td>\n",
              "      <td>1.0</td>\n",
              "      <td>0.919795</td>\n",
              "      <td>0.915878</td>\n",
              "      <td>0.915878</td>\n",
              "      <td>0.009351</td>\n",
              "      <td>0.945142</td>\n",
              "      <td>0.901379</td>\n",
              "      <td>0.922670</td>\n",
              "    </tr>\n",
              "    <tr>\n",
              "      <th>3</th>\n",
              "      <td>0.200</td>\n",
              "      <td>1.0</td>\n",
              "      <td>0.924318</td>\n",
              "      <td>0.919496</td>\n",
              "      <td>0.919496</td>\n",
              "      <td>0.008692</td>\n",
              "      <td>0.940914</td>\n",
              "      <td>0.912873</td>\n",
              "      <td>0.926612</td>\n",
              "    </tr>\n",
              "    <tr>\n",
              "      <th>4</th>\n",
              "      <td>0.300</td>\n",
              "      <td>1.0</td>\n",
              "      <td>0.926559</td>\n",
              "      <td>0.923295</td>\n",
              "      <td>0.923295</td>\n",
              "      <td>0.007052</td>\n",
              "      <td>0.939136</td>\n",
              "      <td>0.922144</td>\n",
              "      <td>0.930503</td>\n",
              "    </tr>\n",
              "    <tr>\n",
              "      <th>5</th>\n",
              "      <td>0.400</td>\n",
              "      <td>1.0</td>\n",
              "      <td>0.927514</td>\n",
              "      <td>0.923746</td>\n",
              "      <td>0.923746</td>\n",
              "      <td>0.006417</td>\n",
              "      <td>0.936192</td>\n",
              "      <td>0.926346</td>\n",
              "      <td>0.931173</td>\n",
              "    </tr>\n",
              "    <tr>\n",
              "      <th>6</th>\n",
              "      <td>0.500</td>\n",
              "      <td>1.0</td>\n",
              "      <td>0.927132</td>\n",
              "      <td>0.924198</td>\n",
              "      <td>0.924198</td>\n",
              "      <td>0.004581</td>\n",
              "      <td>0.932425</td>\n",
              "      <td>0.931517</td>\n",
              "      <td>0.931909</td>\n",
              "    </tr>\n",
              "    <tr>\n",
              "      <th>7</th>\n",
              "      <td>1.000</td>\n",
              "      <td>1.0</td>\n",
              "      <td>0.912408</td>\n",
              "      <td>0.909542</td>\n",
              "      <td>0.909542</td>\n",
              "      <td>0.006123</td>\n",
              "      <td>0.910001</td>\n",
              "      <td>0.929872</td>\n",
              "      <td>0.919682</td>\n",
              "    </tr>\n",
              "  </tbody>\n",
              "</table>\n",
              "</div>"
            ],
            "text/plain": [
              "   param_reg  tol  ...  recall_score  f1_score\n",
              "0      0.001  1.0  ...      0.785913  0.871776\n",
              "1      0.010  1.0  ...      0.848514  0.902436\n",
              "2      0.100  1.0  ...      0.901379  0.922670\n",
              "3      0.200  1.0  ...      0.912873  0.926612\n",
              "4      0.300  1.0  ...      0.922144  0.930503\n",
              "5      0.400  1.0  ...      0.926346  0.931173\n",
              "6      0.500  1.0  ...      0.931517  0.931909\n",
              "7      1.000  1.0  ...      0.929872  0.919682\n",
              "\n",
              "[8 rows x 9 columns]"
            ]
          },
          "metadata": {
            "tags": []
          },
          "execution_count": 11
        }
      ]
    },
    {
      "cell_type": "code",
      "metadata": {
        "colab": {
          "base_uri": "https://localhost:8080/",
          "height": 114
        },
        "id": "VwooLPFYZ18Q",
        "outputId": "ad0d2756-209d-4552-ca3a-a52f23e1de2f"
      },
      "source": [
        "resultadosQDA, matrisQDA = experiementarQDA(x =X ,y=Y,params_reg = [0.4],\r\n",
        "                                 tol = [1]\r\n",
        "                                )\r\n",
        "\r\n",
        "resultadosQDA"
      ],
      "execution_count": null,
      "outputs": [
        {
          "output_type": "execute_result",
          "data": {
            "text/html": [
              "<div>\n",
              "<style scoped>\n",
              "    .dataframe tbody tr th:only-of-type {\n",
              "        vertical-align: middle;\n",
              "    }\n",
              "\n",
              "    .dataframe tbody tr th {\n",
              "        vertical-align: top;\n",
              "    }\n",
              "\n",
              "    .dataframe thead th {\n",
              "        text-align: right;\n",
              "    }\n",
              "</style>\n",
              "<table border=\"1\" class=\"dataframe\">\n",
              "  <thead>\n",
              "    <tr style=\"text-align: right;\">\n",
              "      <th></th>\n",
              "      <th>param_reg</th>\n",
              "      <th>tol</th>\n",
              "      <th>error de entrenamiento</th>\n",
              "      <th>error de prueba</th>\n",
              "      <th>accuracy real</th>\n",
              "      <th>Intervalo de confianza (prueba)</th>\n",
              "      <th>precision_score</th>\n",
              "      <th>recall_score</th>\n",
              "      <th>f1_score</th>\n",
              "    </tr>\n",
              "  </thead>\n",
              "  <tbody>\n",
              "    <tr>\n",
              "      <th>0</th>\n",
              "      <td>0.4</td>\n",
              "      <td>1.0</td>\n",
              "      <td>0.927514</td>\n",
              "      <td>0.923746</td>\n",
              "      <td>0.923746</td>\n",
              "      <td>0.006417</td>\n",
              "      <td>0.936192</td>\n",
              "      <td>0.926346</td>\n",
              "      <td>0.931173</td>\n",
              "    </tr>\n",
              "  </tbody>\n",
              "</table>\n",
              "</div>"
            ],
            "text/plain": [
              "   param_reg  tol  ...  recall_score  f1_score\n",
              "0        0.4  1.0  ...      0.926346  0.931173\n",
              "\n",
              "[1 rows x 9 columns]"
            ]
          },
          "metadata": {
            "tags": []
          },
          "execution_count": 8
        }
      ]
    },
    {
      "cell_type": "code",
      "metadata": {
        "colab": {
          "base_uri": "https://localhost:8080/",
          "height": 329
        },
        "id": "_PtAQdjdZyRN",
        "outputId": "1e9d1f2c-cc97-4eeb-d1f2-ca10d3f28dd6"
      },
      "source": [
        "calcularMatrizCF(matrisQDA, \"Matriz de confusión QDA\")"
      ],
      "execution_count": null,
      "outputs": [
        {
          "output_type": "stream",
          "text": [
            "[[0.92057983 0.07942017]\n",
            " [0.07373721 0.92626279]]\n"
          ],
          "name": "stdout"
        },
        {
          "output_type": "display_data",
          "data": {
            "image/png": "[encoded data removed]",
            "text/plain": [
              "<Figure size 432x288 with 2 Axes>"
            ]
          },
          "metadata": {
            "tags": [],
            "needs_background": "light"
          }
        }
      ]
    },
    {
      "cell_type": "markdown",
      "metadata": {
        "id": "sTF21sJoe97m"
      },
      "source": [
        "# Fisher"
      ]
    },
    {
      "cell_type": "code",
      "metadata": {
        "id": "zOUSiqnJfBxW"
      },
      "source": [
        "def fisher_index(X, plot=True):\r\n",
        "    C = X.shape[1]\r\n",
        "    indexes = np.zeros(30)\r\n",
        "\r\n",
        "    j = 0\r\n",
        "    for i in range(C):\r\n",
        "        if_j = 0\r\n",
        "        for k in range(C):\r\n",
        "            if i == k:\r\n",
        "                continue\r\n",
        "            mean_i = np.mean(X[:,i])\r\n",
        "            mean_k = np.mean(X[:,k])\r\n",
        "            std_i = np.std(X[:,i])\r\n",
        "            std_k = np.std(X[:,k])\r\n",
        "\r\n",
        "            if_j += ((mean_i - mean_k)**2 )/(std_i**2 + std_k**2)\r\n",
        "        indexes[j] = if_j\r\n",
        "        j += 1\r\n",
        "\r\n",
        "    indexes = indexes / np.max(indexes)\r\n",
        "  \r\n",
        "    if plot == True:\r\n",
        "        x = np.array(np.linspace(0, C, C))\r\n",
        "        y = indexes\r\n",
        "        plt.stem(x, y)\r\n",
        "        plt.xlabel('Variables')\r\n",
        "        plt.ylabel('Índice de fisher')\r\n",
        "        plt.show()    \r\n",
        "    return indexes"
      ],
      "execution_count": null,
      "outputs": []
    },
    {
      "cell_type": "code",
      "metadata": {
        "colab": {
          "base_uri": "https://localhost:8080/",
          "height": 418
        },
        "id": "DLKOavNHfC-1",
        "outputId": "2cd198db-d986-454f-961d-13f0153d5f48"
      },
      "source": [
        "fisher_index(X)"
      ],
      "execution_count": null,
      "outputs": [
        {
          "output_type": "stream",
          "text": [
            "/usr/local/lib/python3.6/dist-packages/ipykernel_launcher.py:25: UserWarning: In Matplotlib 3.3 individual lines on a stem plot will be added as a LineCollection instead of individual lines. This significantly improves the performance of a stem plot. To remove this warning and switch to the new behaviour, set the \"use_line_collection\" keyword argument to True.\n"
          ],
          "name": "stderr"
        },
        {
          "output_type": "display_data",
          "data": {
            "image/png": "[encoded data removed]",
            "text/plain": [
              "<Figure size 432x288 with 1 Axes>"
            ]
          },
          "metadata": {
            "tags": []
          }
        },
        {
          "output_type": "execute_result",
          "data": {
            "text/plain": [
              "array([0.11432823, 0.7443279 , 0.2855361 , 0.25051737, 0.2882878 ,\n",
              "       1.        , 0.17944489, 0.1233251 , 0.33648393, 0.19983022,\n",
              "       0.2752413 , 0.23051129, 0.11851811, 0.27486757, 0.27835047,\n",
              "       0.70620837, 0.20405376, 0.25448533, 0.34135898, 0.3104852 ,\n",
              "       0.58563319, 0.19121134, 0.38263848, 0.13954604, 0.11915269,\n",
              "       0.13612598, 0.48906469, 0.26894946, 0.19470889, 0.26711878])"
            ]
          },
          "metadata": {
            "tags": []
          },
          "execution_count": 12
        }
      ]
    },
    {
      "cell_type": "markdown",
      "metadata": {
        "id": "8S7dGwaPhK8V"
      },
      "source": [
        "otro Fisher"
      ]
    },
    {
      "cell_type": "code",
      "metadata": {
        "id": "nM5k4zKvhM_D"
      },
      "source": [
        "def fisherr_index(X, plot=True):\r\n",
        "    C = X.shape[1]\r\n",
        "    indexes = np.zeros(30)\r\n",
        "\r\n",
        "    j = 0\r\n",
        "    for i in range(C):\r\n",
        "        if_j = 0\r\n",
        "        for k in range(C):\r\n",
        "            if i == k:\r\n",
        "                continue\r\n",
        "            mean_i = np.mean(X[:,i])\r\n",
        "            mean_k = np.mean(X[:,k])\r\n",
        "            std_i = np.std(X[:,i])\r\n",
        "            std_k = np.std(X[:,k])\r\n",
        "\r\n",
        "            if_j += ((mean_i - mean_k)**2 )/(std_i**2 + std_k**2)\r\n",
        "        indexes[j] = if_j\r\n",
        "        j += 1\r\n",
        "\r\n",
        "    indexes = indexes / np.max(indexes)\r\n",
        "  \r\n",
        "    if plot == True:\r\n",
        "        x = np.array(np.linspace(0, C, C))\r\n",
        "        y = indexes\r\n",
        "        plt.stem(x, y)\r\n",
        "        plt.xlabel('Variables')\r\n",
        "        plt.ylabel('Índice de fisher')\r\n",
        "        plt.show()    \r\n",
        "    return indexes"
      ],
      "execution_count": null,
      "outputs": []
    },
    {
      "cell_type": "code",
      "metadata": {
        "colab": {
          "base_uri": "https://localhost:8080/",
          "height": 418
        },
        "id": "P8l8VgvWhOyK",
        "outputId": "42c2bc36-e5b0-4d85-ef70-ddd38f32377d"
      },
      "source": [
        "fisherr_index(X)"
      ],
      "execution_count": null,
      "outputs": [
        {
          "output_type": "stream",
          "text": [
            "/usr/local/lib/python3.6/dist-packages/ipykernel_launcher.py:25: UserWarning: In Matplotlib 3.3 individual lines on a stem plot will be added as a LineCollection instead of individual lines. This significantly improves the performance of a stem plot. To remove this warning and switch to the new behaviour, set the \"use_line_collection\" keyword argument to True.\n"
          ],
          "name": "stderr"
        },
        {
          "output_type": "display_data",
          "data": {
            "image/png": "[encoded data removed]",
            "text/plain": [
              "<Figure size 432x288 with 1 Axes>"
            ]
          },
          "metadata": {
            "tags": [],
            "needs_background": "light"
          }
        },
        {
          "output_type": "execute_result",
          "data": {
            "text/plain": [
              "array([0.11432823, 0.7443279 , 0.2855361 , 0.25051737, 0.2882878 ,\n",
              "       1.        , 0.17944489, 0.1233251 , 0.33648393, 0.19983022,\n",
              "       0.2752413 , 0.23051129, 0.11851811, 0.27486757, 0.27835047,\n",
              "       0.70620837, 0.20405376, 0.25448533, 0.34135898, 0.3104852 ,\n",
              "       0.58563319, 0.19121134, 0.38263848, 0.13954604, 0.11915269,\n",
              "       0.13612598, 0.48906469, 0.26894946, 0.19470889, 0.26711878])"
            ]
          },
          "metadata": {
            "tags": []
          },
          "execution_count": 14
        }
      ]
    },
    {
      "cell_type": "code",
      "metadata": {
        "colab": {
          "base_uri": "https://localhost:8080/",
          "height": 560
        },
        "id": "ZIcmtjU7iq2T",
        "outputId": "0898921a-66bc-457d-a8d1-4e8e9f68a3e0"
      },
      "source": [
        "#  looking at correlations matrix, defined via Pearson function  \r\n",
        "corr = data.corr() # .corr is used to find corelation\r\n",
        "f,ax = plt.subplots(figsize=(8, 7))\r\n",
        "sns.heatmap(corr, cbar = True,  square = True, annot = False, fmt= '.1f', \r\n",
        "            xticklabels= True, yticklabels= True\r\n",
        "            ,cmap=\"coolwarm\", linewidths=.5, ax=ax)\r\n",
        "plt.title('CORRELATION MATRIX - HEATMAP', size=18);"
      ],
      "execution_count": null,
      "outputs": [
        {
          "output_type": "display_data",
          "data": {
            "image/png": "[encoded data removed]",
            "text/plain": [
              "<Figure size 576x504 with 2 Axes>"
            ]
          },
          "metadata": {
            "tags": [],
            "needs_background": "light"
          }
        }
      ]
    },
    {
      "cell_type": "markdown",
      "metadata": {
        "id": "gisTBtC-hLvl"
      },
      "source": [
        "Matriz de correlacion:"
      ]
    },
    {
      "cell_type": "code",
      "metadata": {
        "colab": {
          "base_uri": "https://localhost:8080/",
          "height": 1000
        },
        "id": "AYBy5PwkpQ6w",
        "outputId": "f63b34ba-ed65-4a51-fc90-a40104bec820"
      },
      "source": [
        "corr = data.corr()\r\n",
        "fig,ax= plt.subplots(figsize=(20,20))\r\n",
        "sns.heatmap(corr,annot=True,linewidth=2.5,ax=ax)"
      ],
      "execution_count": null,
      "outputs": [
        {
          "output_type": "execute_result",
          "data": {
            "text/plain": [
              "<matplotlib.axes._subplots.AxesSubplot at 0x7fbcfe0e6710>"
            ]
          },
          "metadata": {
            "tags": []
          },
          "execution_count": 21
        },
        {
          "output_type": "display_data",
          "data": {
            "image/png": "[encoded data removed]",
            "text/plain": [
              "<Figure size 1440x1440 with 2 Axes>"
            ]
          },
          "metadata": {
            "tags": [],
            "needs_background": "light"
          }
        }
      ]
    },
    {
      "cell_type": "code",
      "metadata": {
        "colab": {
          "base_uri": "https://localhost:8080/"
        },
        "id": "-YRG9SAGgRzz",
        "outputId": "eda660e7-b89b-4c81-c465-8f9442862b1f"
      },
      "source": [
        "from sklearn.feature_selection import SelectKBest, f_classif\n",
        "valores = f_classif( X , Y )\n",
        "print(valores)\n",
        "\n",
        "X_new = SelectKBest(f_classif, k=26).fit(X, Y)\n",
        "caracteristicas=[1,2,3,4,5,6,7,8,9,10,11,12,13,14,15,16,17,18,19,20,21,22,23,24,25,26,27,28,29,30]\n",
        "atrib = X_new.get_support()\n",
        "params=X_new.get_params()\n",
        "atributos = [caracteristicas[i] for i in list(atrib.nonzero()[0])]\n",
        "print(atrib)\n",
        "atributos"
      ],
      "execution_count": null,
      "outputs": [
        {
          "output_type": "stream",
          "text": [
            "(array([9.88738910e+01, 3.65752191e+01, 5.12947635e+01, 3.10738508e+01,\n",
            "       1.64996172e+01, 1.52904344e+03, 1.07977853e+03, 1.15435705e+04,\n",
            "       5.93762202e+02, 8.63615779e-04, 1.46794252e+01, 1.75837733e+01,\n",
            "       7.58253010e+02, 1.02092399e+04, 7.25777602e+02, 5.69825002e+02,\n",
            "       3.68216614e+00, 4.05887211e+01, 4.47331565e+00, 1.93817066e+01,\n",
            "       1.76991679e+00, 8.15329090e-05, 1.27287860e-01, 1.65602039e+02,\n",
            "       6.37342109e+01, 1.50419302e+03, 1.22376589e+02, 1.86899510e+02,\n",
            "       1.17403410e+01, 7.09384162e+01]), array([3.36748822e-023, 1.51636985e-009, 8.45398042e-013, 2.54221526e-008,\n",
            "       4.89959389e-005, 2.26899384e-313, 4.91845052e-226, 0.00000000e+000,\n",
            "       8.62648646e-128, 9.76556200e-001, 1.28134936e-004, 2.77067436e-005,\n",
            "       1.68006812e-161, 0.00000000e+000, 6.95866379e-155, 7.62556416e-123,\n",
            "       5.50230799e-002, 1.95357594e-010, 3.44504376e-002, 1.08032432e-005,\n",
            "       1.83419824e-001, 9.92795716e-001, 7.21267631e-001, 1.25817957e-037,\n",
            "       1.56483583e-015, 1.27077473e-308, 2.68712286e-028, 3.32715482e-042,\n",
            "       6.13824206e-004, 4.14094706e-017]))\n",
            "[ True  True  True  True  True  True  True  True  True False  True  True\n",
            "  True  True  True  True  True  True  True  True False False False  True\n",
            "  True  True  True  True  True  True]\n"
          ],
          "name": "stdout"
        },
        {
          "output_type": "execute_result",
          "data": {
            "text/plain": [
              "[1,\n",
              " 2,\n",
              " 3,\n",
              " 4,\n",
              " 5,\n",
              " 6,\n",
              " 7,\n",
              " 8,\n",
              " 9,\n",
              " 11,\n",
              " 12,\n",
              " 13,\n",
              " 14,\n",
              " 15,\n",
              " 16,\n",
              " 17,\n",
              " 18,\n",
              " 19,\n",
              " 20,\n",
              " 24,\n",
              " 25,\n",
              " 26,\n",
              " 27,\n",
              " 28,\n",
              " 29,\n",
              " 30]"
            ]
          },
          "metadata": {
            "tags": []
          },
          "execution_count": 36
        }
      ]
    },
    {
      "cell_type": "markdown",
      "metadata": {
        "id": "LPnzvi4RZE1d"
      },
      "source": [
        "# Seleccion caracteristicas\r\n"
      ]
    },
    {
      "cell_type": "markdown",
      "metadata": {
        "id": "H1BvXxkyFk-a"
      },
      "source": [
        "Probando Forward y Backward con el modelo SVC"
      ]
    },
    {
      "cell_type": "markdown",
      "metadata": {
        "id": "wpDP4HHGFvHj"
      },
      "source": [
        "Sequential Forward Selection (SFS):"
      ]
    },
    {
      "cell_type": "code",
      "metadata": {
        "colab": {
          "base_uri": "https://localhost:8080/"
        },
        "id": "p3aootEZDP62",
        "outputId": "5162612d-4ff3-45cd-b8d4-75290e5a3dde"
      },
      "source": [
        "\r\n",
        "from mlxtend.feature_selection import SequentialFeatureSelector as SFS\r\n",
        "\r\n",
        "resultadosCaracteristicas = pd.DataFrame()\r\n",
        "caracteristicas = [15,20,26,27,28,29,30]\r\n",
        "indexx = 0\r\n",
        "for carac in caracteristicas:\r\n",
        "    svm = SVC(kernel='rbf', gamma=0.01, C= 10)\r\n",
        "    # Sequential Forward Selection\r\n",
        "    sfs = SFS(svm, \r\n",
        "              k_features=carac, \r\n",
        "              forward=True, \r\n",
        "              floating=False, \r\n",
        "              scoring='accuracy',\r\n",
        "              cv=10,\r\n",
        "              n_jobs=-1)\r\n",
        "    sfs = sfs.fit(X,Y)\r\n",
        "    resultadosCaracteristicas.loc[indexx,'Nombre'] = \"Sequential Forward Selection\"\r\n",
        "    resultadosCaracteristicas.loc[indexx,'caracteristicas'] = carac\r\n",
        "    resultadosCaracteristicas.loc[indexx,'caracteristicas elegidas'] = str(sfs.k_feature_idx_)\r\n",
        "    resultadosCaracteristicas.loc[indexx,'CV score'] = sfs.k_score_\r\n",
        "    indexx+=1"
      ],
      "execution_count": null,
      "outputs": [
        {
          "output_type": "stream",
          "text": [
            "/usr/local/lib/python3.6/dist-packages/sklearn/externals/joblib/__init__.py:15: FutureWarning: sklearn.externals.joblib is deprecated in 0.21 and will be removed in 0.23. Please import this functionality directly from joblib, which can be installed with: pip install joblib. If this warning is raised when loading pickled models, you may need to re-serialize those models with scikit-learn 0.21+.\n",
            "  warnings.warn(msg, category=FutureWarning)\n"
          ],
          "name": "stderr"
        },
        {
          "output_type": "stream",
          "text": [
            "    Nombre                          caracteristicas  caracteristicas elegidas                                                                                          CV score\n",
            "--  ----------------------------  -----------------  --------------------------------------------------------------------------------------------------------------  ----------\n",
            " 0  Sequential Forward Selection                 15  (1, 2, 5, 6, 7, 8, 12, 13, 14, 15, 16, 18, 25, 27, 28)                                                            0.934329\n",
            " 1  Sequential Forward Selection                 20  (0, 1, 2, 5, 6, 7, 8, 12, 13, 14, 15, 16, 18, 19, 23, 24, 25, 26, 27, 28)                                         0.942198\n",
            " 2  Sequential Forward Selection                 26  (0, 1, 2, 3, 5, 6, 7, 8, 10, 11, 12, 13, 14, 15, 16, 17, 18, 19, 20, 21, 23, 24, 25, 26, 27, 28)                  0.945182\n",
            " 3  Sequential Forward Selection                 27  (0, 1, 2, 3, 4, 5, 6, 7, 8, 10, 11, 12, 13, 14, 15, 16, 17, 18, 19, 20, 21, 23, 24, 25, 26, 27, 28)               0.945273\n",
            " 4  Sequential Forward Selection                 28  (0, 1, 2, 3, 4, 5, 6, 7, 8, 10, 11, 12, 13, 14, 15, 16, 17, 18, 19, 20, 21, 22, 23, 24, 25, 26, 27, 28)           0.945183\n",
            " 5  Sequential Forward Selection                 29  (0, 1, 2, 3, 4, 5, 6, 7, 8, 10, 11, 12, 13, 14, 15, 16, 17, 18, 19, 20, 21, 22, 23, 24, 25, 26, 27, 28, 29)       0.945725\n",
            " 6  Sequential Forward Selection                 30  (0, 1, 2, 3, 4, 5, 6, 7, 8, 9, 10, 11, 12, 13, 14, 15, 16, 17, 18, 19, 20, 21, 22, 23, 24, 25, 26, 27, 28, 29)    0.945092\n"
          ],
          "name": "stdout"
        }
      ]
    },
    {
      "cell_type": "markdown",
      "metadata": {
        "id": "MykzoEeNF1qy"
      },
      "source": [
        " Sequential Backward Selection (SBS):"
      ]
    },
    {
      "cell_type": "code",
      "metadata": {
        "id": "C5kj7utTqxFz",
        "colab": {
          "base_uri": "https://localhost:8080/"
        },
        "outputId": "9a851743-66b0-4079-a38e-4d4cca084ab7"
      },
      "source": [
        "\r\n",
        "resultadosCaracteristicas = pd.DataFrame()\r\n",
        "caracteristicas = [15,20,26,27,28,29,30]\r\n",
        "indexx = 0\r\n",
        "\r\n",
        "\r\n",
        "svm = SVC(kernel='rbf', gamma=0.01, C= 10)\r\n",
        "# Sequential Backward Selection\r\n",
        "for carac in caracteristicas:\r\n",
        "    sbs = SFS(svm, \r\n",
        "              k_features=carac, \r\n",
        "              forward=False, \r\n",
        "              floating=False, \r\n",
        "              scoring='accuracy',\r\n",
        "              cv=10,\r\n",
        "              n_jobs=-1)\r\n",
        "    sbs = sbs.fit(X,Y)\r\n",
        "    resultadosCaracteristicas.loc[indexx,'Nombre'] = \"Sequential Backward Selection\"\r\n",
        "    resultadosCaracteristicas.loc[indexx,'caracteristicas'] = carac\r\n",
        "    resultadosCaracteristicas.loc[indexx,'caracteristicas elegidas'] = str(sbs.k_feature_idx_)\r\n",
        "    resultadosCaracteristicas.loc[indexx,'CV score'] = sbs.k_score_\r\n",
        "    indexx+=1\r\n",
        "###################################################\r\n",
        "\r\n",
        "\r\n",
        "print(tabulate(resultadosCaracteristicas, headers='keys', tablefmt='asciitable'))"
      ],
      "execution_count": null,
      "outputs": [
        {
          "output_type": "stream",
          "text": [
            "    Nombre                           caracteristicas  caracteristicas elegidas                                                                                          CV score\n",
            "--  -----------------------------  -----------------  --------------------------------------------------------------------------------------------------------------  ----------\n",
            " 0  Sequential Backward Selection                 15  (0, 1, 5, 6, 7, 8, 13, 14, 15, 16, 23, 24, 25, 27, 28)                                                            0.937856\n",
            " 1  Sequential Backward Selection                 20  (0, 1, 2, 3, 5, 6, 7, 8, 13, 14, 15, 16, 19, 23, 24, 25, 26, 27, 28, 29)                                          0.942379\n",
            " 2  Sequential Backward Selection                 26  (0, 1, 2, 3, 5, 6, 7, 8, 11, 12, 13, 14, 15, 16, 17, 18, 19, 21, 22, 23, 24, 25, 26, 27, 28, 29)                  0.945273\n",
            " 3  Sequential Backward Selection                 27  (0, 1, 2, 3, 5, 6, 7, 8, 10, 11, 12, 13, 14, 15, 16, 17, 18, 19, 21, 22, 23, 24, 25, 26, 27, 28, 29)              0.945273\n",
            " 4  Sequential Backward Selection                 28  (0, 1, 2, 3, 5, 6, 7, 8, 10, 11, 12, 13, 14, 15, 16, 17, 18, 19, 20, 21, 22, 23, 24, 25, 26, 27, 28, 29)          0.945635\n",
            " 5  Sequential Backward Selection                 29  (0, 1, 2, 3, 4, 5, 6, 7, 8, 10, 11, 12, 13, 14, 15, 16, 17, 18, 19, 20, 21, 22, 23, 24, 25, 26, 27, 28, 29)       0.945725\n",
            " 6  Sequential Backward Selection                 30  (0, 1, 2, 3, 4, 5, 6, 7, 8, 9, 10, 11, 12, 13, 14, 15, 16, 17, 18, 19, 20, 21, 22, 23, 24, 25, 26, 27, 28, 29)    0\n"
          ],
          "name": "stdout"
        }
      ]
    },
    {
      "cell_type": "markdown",
      "metadata": {
        "id": "X-mc_iklGErq"
      },
      "source": [
        "Sequential Forward Floating Selection (SFFS):"
      ]
    },
    {
      "cell_type": "code",
      "metadata": {
        "colab": {
          "base_uri": "https://localhost:8080/"
        },
        "id": "jK-rC3Gpg-Mp",
        "outputId": "8c8fa16f-9158-4257-a7fa-38a02c80592a"
      },
      "source": [
        "from mlxtend.feature_selection import SequentialFeatureSelector as SFS\r\n",
        "###################################################\r\n",
        "from tabulate import tabulate\r\n",
        "resultadosCaracteristicas = pd.DataFrame()\r\n",
        "caracteristicas = [26,27,28,29]\r\n",
        "indexx = 0\r\n",
        "# Sequential Forward Floating Selection\r\n",
        "for carac in caracteristicas:\r\n",
        "    svm = SVC(kernel='rbf', gamma=0.01, C= 10)\r\n",
        "    sffs = SFS(svm, \r\n",
        "              k_features=carac, \r\n",
        "              forward=True, \r\n",
        "              floating=True, \r\n",
        "              scoring='accuracy',\r\n",
        "              cv=10,\r\n",
        "              n_jobs=-1)\r\n",
        "    sffs = sffs.fit(X,Y)\r\n",
        "    resultadosCaracteristicas.loc[indexx,'Nombre'] = \"Sequential Forward Floating Selection\"\r\n",
        "    resultadosCaracteristicas.loc[indexx,'caracteristicas'] = carac\r\n",
        "    resultadosCaracteristicas.loc[indexx,'caracteristicas elegidas'] = str(sffs.k_feature_idx_)\r\n",
        "    resultadosCaracteristicas.loc[indexx,'CV score'] = sffs.k_score_\r\n",
        "    indexx+=1\r\n",
        "print(tabulate(resultadosCaracteristicas, headers='keys', tablefmt='asciitable'))"
      ],
      "execution_count": null,
      "outputs": [
        {
          "output_type": "stream",
          "text": [
            "/usr/local/lib/python3.6/dist-packages/sklearn/externals/joblib/__init__.py:15: FutureWarning: sklearn.externals.joblib is deprecated in 0.21 and will be removed in 0.23. Please import this functionality directly from joblib, which can be installed with: pip install joblib. If this warning is raised when loading pickled models, you may need to re-serialize those models with scikit-learn 0.21+.\n",
            "  warnings.warn(msg, category=FutureWarning)\n",
            "\n",
            "STOPPING EARLY DUE TO KEYBOARD INTERRUPT..."
          ],
          "name": "stderr"
        },
        {
          "output_type": "stream",
          "text": [
            "    Nombre                                   caracteristicas  caracteristicas elegidas                                                                               CV score\n",
            "--  -------------------------------------  -----------------  ---------------------------------------------------------------------------------------------------  ----------\n",
            " 0  Sequential Forward Floating Selection                 26  (0, 1, 2, 3, 5, 6, 7, 8, 10, 11, 12, 13, 14, 15, 16, 17, 18, 19, 20, 21, 23, 24, 25, 26, 27, 28)       0.945182\n",
            " 1  Sequential Forward Floating Selection                 27  (0, 1, 2, 3, 4, 5, 6, 7, 8, 10, 11, 12, 13, 14, 15, 16, 17, 18, 19, 20, 21, 23, 24, 25, 26, 27, 28)    0.945273\n",
            " 2  Sequential Forward Floating Selection                 28  (0, 1, 2, 3, 4, 5, 6, 7, 8, 11, 13, 14, 16, 17, 18, 19, 20, 21, 22, 24, 25, 27, 28)                    0.941565\n",
            " 3  Sequential Forward Floating Selection                 29  ()                                                                                                     0\n"
          ],
          "name": "stdout"
        },
        {
          "output_type": "stream",
          "text": [
            "\n",
            "STOPPING EARLY DUE TO KEYBOARD INTERRUPT..."
          ],
          "name": "stderr"
        }
      ]
    },
    {
      "cell_type": "markdown",
      "metadata": {
        "id": "ggqWP8UwLCme"
      },
      "source": [
        "Debido al tiempo de ejecucion, se realizan el 28 y 29 SFFS para SVC de manera independiente"
      ]
    },
    {
      "cell_type": "markdown",
      "metadata": {
        "id": "6Y9YAuMLLa37"
      },
      "source": [
        "\r\n",
        "Para 28 caracteristicas:"
      ]
    },
    {
      "cell_type": "code",
      "metadata": {
        "colab": {
          "base_uri": "https://localhost:8080/"
        },
        "id": "lSn88h3KFXQJ",
        "outputId": "30b20dc2-7826-4add-8fe6-9879a8c31840"
      },
      "source": [
        "    svm = SVC(kernel='rbf', gamma=0.01, C= 10)\r\n",
        "    sffs = SFS(svm, \r\n",
        "              k_features=28, \r\n",
        "              forward=True, \r\n",
        "              floating=True, \r\n",
        "              scoring='accuracy',\r\n",
        "              cv=10,\r\n",
        "              n_jobs=-1)\r\n",
        "    sffs = sffs.fit(X,Y)\r\n",
        "resultadosCaracteristicas = pd.DataFrame()\r\n",
        "resultadosCaracteristicas.loc[0,'Nombre'] = \"Sequential Forward Floating Selection\"\r\n",
        "resultadosCaracteristicas.loc[0,'caracteristicas'] = 28\r\n",
        "resultadosCaracteristicas.loc[0,'caracteristicas elegidas'] = str(sffs.k_feature_idx_)\r\n",
        "resultadosCaracteristicas.loc[0,'CV score'] = sffs.k_score_\r\n",
        "print(tabulate(resultadosCaracteristicas, headers='keys', tablefmt='asciitable'))"
      ],
      "execution_count": null,
      "outputs": [
        {
          "output_type": "stream",
          "text": [
            "    Nombre                                   caracteristicas  caracteristicas elegidas                                                                                   CV score\n",
            "--  -------------------------------------  -----------------  -------------------------------------------------------------------------------------------------------  ----------\n",
            " 0  Sequential Forward Floating Selection                 28  (0, 1, 2, 3, 4, 5, 6, 7, 8, 10, 11, 12, 13, 14, 15, 16, 17, 18, 19, 20, 21, 22, 23, 24, 25, 26, 27, 28)    0.945183\n"
          ],
          "name": "stdout"
        }
      ]
    },
    {
      "cell_type": "markdown",
      "metadata": {
        "id": "X_XgHXI4lHyl"
      },
      "source": [
        "Para 29 caracteristicas:"
      ]
    },
    {
      "cell_type": "code",
      "metadata": {
        "id": "KXSOsEc6kxLc"
      },
      "source": [
        "    svm = SVC(kernel='rbf', gamma=0.01, C= 10)\r\n",
        "    sffs = SFS(svm, \r\n",
        "              k_features=29, \r\n",
        "              forward=True, \r\n",
        "              floating=True, \r\n",
        "              scoring='accuracy',\r\n",
        "              cv=10,\r\n",
        "              n_jobs=-1)\r\n",
        "    sffs = sffs.fit(X,Y)\r\n"
      ],
      "execution_count": null,
      "outputs": []
    },
    {
      "cell_type": "code",
      "metadata": {
        "colab": {
          "base_uri": "https://localhost:8080/"
        },
        "id": "YgFOciQ_Xbmv",
        "outputId": "f862e6ed-054e-408c-8f39-b3aeb5c50e1c"
      },
      "source": [
        "resultadosCaracteristicas = pd.DataFrame()\r\n",
        "resultadosCaracteristicas.loc[0,'Nombre'] = \"Sequential Forward Floating Selection\"\r\n",
        "resultadosCaracteristicas.loc[0,'caracteristicas'] = 29\r\n",
        "resultadosCaracteristicas.loc[0,'caracteristicas elegidas'] = str(sffs.k_feature_idx_)\r\n",
        "resultadosCaracteristicas.loc[0,'CV score'] = sffs.k_score_\r\n",
        "print(tabulate(resultadosCaracteristicas, headers='keys', tablefmt='asciitable'))"
      ],
      "execution_count": null,
      "outputs": [
        {
          "output_type": "stream",
          "text": [
            "    Nombre                                   caracteristicas  caracteristicas elegidas                                                                                       CV score\n",
            "--  -------------------------------------  -----------------  -----------------------------------------------------------------------------------------------------------  ----------\n",
            " 0  Sequential Forward Floating Selection                 29  (0, 1, 2, 3, 4, 5, 6, 7, 8, 10, 11, 12, 13, 14, 15, 16, 17, 18, 19, 20, 21, 22, 23, 24, 25, 26, 27, 28, 29)    0.945725\n"
          ],
          "name": "stdout"
        }
      ]
    },
    {
      "cell_type": "markdown",
      "metadata": {
        "id": "gWtnrsG2F685"
      },
      "source": [
        "Sequential Backward Floating Selection (SBFS):\r\n"
      ]
    },
    {
      "cell_type": "markdown",
      "metadata": {
        "id": "qPy_IRWOIhbF"
      },
      "source": [
        "SVM (SBFS):"
      ]
    },
    {
      "cell_type": "code",
      "metadata": {
        "colab": {
          "base_uri": "https://localhost:8080/"
        },
        "id": "ZcHWVU90iIoF",
        "outputId": "6af4c298-9707-4f43-ce5b-9b6664add2b4"
      },
      "source": [
        "###################################################\r\n",
        "from mlxtend.feature_selection import SequentialFeatureSelector as SFS\r\n",
        "from tabulate import tabulate\r\n",
        "resultadosCaracteristicas = pd.DataFrame()\r\n",
        "caracteristicas = [26,27,28,29]\r\n",
        "indexx = 0\r\n",
        "# Sequential Backward Floating Selection\r\n",
        "for carac in caracteristicas:\r\n",
        "    svm = SVC(kernel='rbf', gamma=0.01, C= 10)\r\n",
        "    sbfs = SFS(svm, \r\n",
        "              k_features=carac, \r\n",
        "              forward=False, \r\n",
        "              floating=True, \r\n",
        "              scoring='accuracy',\r\n",
        "              cv=10,\r\n",
        "              n_jobs=-1)\r\n",
        "    sbfs = sbfs.fit(X,Y)\r\n",
        "    resultadosCaracteristicas.loc[indexx,'Nombre'] = \"Sequential Backward Floating Selection\"\r\n",
        "    resultadosCaracteristicas.loc[indexx,'caracteristicas'] = carac\r\n",
        "    resultadosCaracteristicas.loc[indexx,'caracteristicas elegidas'] = str(sbfs.k_feature_idx_)\r\n",
        "    resultadosCaracteristicas.loc[indexx,'CV score'] = sbfs.k_score_\r\n",
        "    indexx+=1\r\n",
        "print(tabulate(resultadosCaracteristicas, headers='keys', tablefmt='asciitable'))"
      ],
      "execution_count": null,
      "outputs": [
        {
          "output_type": "stream",
          "text": [
            "    Nombre                                    caracteristicas  caracteristicas elegidas                                                                                       CV score\n",
            "--  --------------------------------------  -----------------  -----------------------------------------------------------------------------------------------------------  ----------\n",
            " 0  Sequential Backward Floating Selection                 26  (0, 1, 2, 3, 5, 6, 7, 8, 11, 12, 13, 14, 15, 16, 17, 18, 19, 21, 22, 23, 24, 25, 26, 27, 28, 29)               0.945273\n",
            " 1  Sequential Backward Floating Selection                 27  (0, 1, 2, 3, 5, 6, 7, 8, 10, 11, 12, 13, 14, 15, 16, 17, 18, 19, 21, 22, 23, 24, 25, 26, 27, 28, 29)           0.945273\n",
            " 2  Sequential Backward Floating Selection                 28  (0, 1, 2, 3, 5, 6, 7, 8, 10, 11, 12, 13, 14, 15, 16, 17, 18, 19, 20, 21, 22, 23, 24, 25, 26, 27, 28, 29)       0.945635\n",
            " 3  Sequential Backward Floating Selection                 29  (0, 1, 2, 3, 4, 5, 6, 7, 8, 10, 11, 12, 13, 14, 15, 16, 17, 18, 19, 20, 21, 22, 23, 24, 25, 26, 27, 28, 29)    0.945725\n"
          ],
          "name": "stdout"
        }
      ]
    },
    {
      "cell_type": "markdown",
      "metadata": {
        "id": "AsmDf6DOGJQA"
      },
      "source": [
        "RANDOM FOREST (SBFS):"
      ]
    },
    {
      "cell_type": "code",
      "metadata": {
        "colab": {
          "base_uri": "https://localhost:8080/"
        },
        "id": "euptqJeZq1ih",
        "outputId": "0804d942-eebd-45e8-ea48-0ce4852a0cd6"
      },
      "source": [
        "########################Sequential Backward Floating Selection\r\n",
        "###################################################\r\n",
        "from mlxtend.feature_selection import SequentialFeatureSelector as SFS\r\n",
        "from tabulate import tabulate\r\n",
        "resultadosCaracteristicas = pd.DataFrame()\r\n",
        "caracteristicas = [26,27,28,29]\r\n",
        "indexx = 0\r\n",
        "# Sequential Backward Floating Selection\r\n",
        "for carac in caracteristicas:\r\n",
        "    rf = RandomForestClassifier(n_estimators=50, max_features=5, criterion=\"gini\")\r\n",
        "    sbfs = SFS(rf, \r\n",
        "              k_features=carac, \r\n",
        "              forward=False, \r\n",
        "              floating=True, \r\n",
        "              scoring='accuracy',\r\n",
        "              cv=10,\r\n",
        "              n_jobs=-1)\r\n",
        "    sbfs = sbfs.fit(X,Y)\r\n",
        "    resultadosCaracteristicas.loc[indexx,'Nombre'] = \"Sequential Backward Floating Selection\"\r\n",
        "    resultadosCaracteristicas.loc[indexx,'caracteristicas'] = carac\r\n",
        "    resultadosCaracteristicas.loc[indexx,'caracteristicas elegidas'] = str(sbfs.k_feature_idx_)\r\n",
        "    resultadosCaracteristicas.loc[indexx,'CV score'] = sbfs.k_score_\r\n",
        "    indexx+=1\r\n",
        "print(tabulate(resultadosCaracteristicas, headers='keys', tablefmt='asciitable'))"
      ],
      "execution_count": null,
      "outputs": [
        {
          "output_type": "stream",
          "text": [
            "    Nombre                                    caracteristicas  caracteristicas elegidas                                                                                       CV score\n",
            "--  --------------------------------------  -----------------  -----------------------------------------------------------------------------------------------------------  ----------\n",
            " 0  Sequential Backward Floating Selection                 26  (0, 1, 3, 4, 5, 6, 7, 8, 11, 12, 13, 14, 15, 16, 17, 19, 20, 21, 22, 23, 24, 25, 26, 27, 28, 29)               0.972859\n",
            " 1  Sequential Backward Floating Selection                 27  (0, 1, 2, 3, 4, 5, 6, 7, 8, 10, 11, 12, 13, 14, 15, 16, 17, 18, 21, 22, 23, 24, 25, 26, 27, 28, 29)            0.972769\n",
            " 2  Sequential Backward Floating Selection                 28  (0, 1, 3, 4, 5, 6, 7, 8, 10, 11, 12, 13, 14, 15, 16, 17, 18, 19, 20, 21, 22, 23, 24, 25, 26, 27, 28, 29)       0.973673\n",
            " 3  Sequential Backward Floating Selection                 29  (0, 1, 2, 4, 5, 6, 7, 8, 9, 10, 11, 12, 13, 14, 15, 16, 17, 18, 19, 20, 21, 22, 23, 24, 25, 26, 27, 28, 29)    0.97304\n"
          ],
          "name": "stdout"
        }
      ]
    },
    {
      "cell_type": "code",
      "metadata": {
        "colab": {
          "base_uri": "https://localhost:8080/"
        },
        "id": "Eop11KIagF6i",
        "outputId": "5a6d4636-0757-41f8-e44e-28111d71bfbb"
      },
      "source": [
        "########################Sequential Backward Floating Selection\r\n",
        "###################################################\r\n",
        "from mlxtend.feature_selection import SequentialFeatureSelector as SFS\r\n",
        "from tabulate import tabulate\r\n",
        "resultadosCaracteristicas = pd.DataFrame()\r\n",
        "caracteristicas = [30]\r\n",
        "indexx = 0\r\n",
        "# Sequential Backward Floating Selection\r\n",
        "for carac in caracteristicas:\r\n",
        "    rf = RandomForestClassifier(n_estimators=50, max_features=5, criterion=\"gini\")\r\n",
        "    sbfs = SFS(rf, \r\n",
        "              k_features=carac, \r\n",
        "              forward=False, \r\n",
        "              floating=True, \r\n",
        "              scoring='accuracy',\r\n",
        "              cv=2,\r\n",
        "              n_jobs=-1)\r\n",
        "    sbfs = sbfs.fit(X_test,Y_test)\r\n",
        "    resultadosCaracteristicas.loc[indexx,'Nombre'] = \"Sequential Backward Floating Selection\"\r\n",
        "    resultadosCaracteristicas.loc[indexx,'caracteristicas'] = carac\r\n",
        "    resultadosCaracteristicas.loc[indexx,'caracteristicas elegidas'] = str(sbfs.k_feature_idx_)\r\n",
        "    resultadosCaracteristicas.loc[indexx,'CV score'] = sbfs.k_score_\r\n",
        "    indexx+=1\r\n",
        "print(tabulate(resultadosCaracteristicas, headers='keys', tablefmt='asciitable'))"
      ],
      "execution_count": null,
      "outputs": [
        {
          "output_type": "stream",
          "text": [
            "    Nombre                                    caracteristicas  caracteristicas elegidas                                                                                          CV score\n",
            "--  --------------------------------------  -----------------  --------------------------------------------------------------------------------------------------------------  ----------\n",
            " 0  Sequential Backward Floating Selection                 30  (0, 1, 2, 3, 4, 5, 6, 7, 8, 9, 10, 11, 12, 13, 14, 15, 16, 17, 18, 19, 20, 21, 22, 23, 24, 25, 26, 27, 28, 29)           0\n"
          ],
          "name": "stdout"
        }
      ]
    },
    {
      "cell_type": "code",
      "metadata": {
        "colab": {
          "base_uri": "https://localhost:8080/"
        },
        "id": "t4bobspigYiK",
        "outputId": "6631804a-a905-4ecf-ce56-80f12545d3b2"
      },
      "source": [
        "sbfs.est_"
      ],
      "execution_count": null,
      "outputs": [
        {
          "output_type": "execute_result",
          "data": {
            "text/plain": [
              "RandomForestClassifier(bootstrap=True, ccp_alpha=0.0, class_weight=None,\n",
              "                       criterion='gini', max_depth=None, max_features=5,\n",
              "                       max_leaf_nodes=None, max_samples=None,\n",
              "                       min_impurity_decrease=0.0, min_impurity_split=None,\n",
              "                       min_samples_leaf=1, min_samples_split=2,\n",
              "                       min_weight_fraction_leaf=0.0, n_estimators=50,\n",
              "                       n_jobs=None, oob_score=False, random_state=None,\n",
              "                       verbose=0, warm_start=False)"
            ]
          },
          "metadata": {
            "tags": []
          },
          "execution_count": 13
        }
      ]
    },
    {
      "cell_type": "markdown",
      "metadata": {
        "id": "a9Lffxp6aiNE"
      },
      "source": [
        ""
      ]
    },
    {
      "cell_type": "markdown",
      "metadata": {
        "id": "ceZuKyYYHUzM"
      },
      "source": [
        "MLP (SBFS):"
      ]
    },
    {
      "cell_type": "code",
      "metadata": {
        "id": "6r2IpOy7wqZ9",
        "colab": {
          "base_uri": "https://localhost:8080/"
        },
        "outputId": "1fe05d28-d7f5-4ac9-e46d-643dc0fe7a5e"
      },
      "source": [
        "########################Sequential Backward Floating Selection \r\n",
        "###################################################\r\n",
        "from mlxtend.feature_selection import SequentialFeatureSelector as SFS\r\n",
        "from tabulate import tabulate\r\n",
        "resultadosCaracteristicas = pd.DataFrame()\r\n",
        "caracteristicas = [26,27,28,29]\r\n",
        "indexx = 0\r\n",
        "# Sequential Backward Floating Selection\r\n",
        "for carac in caracteristicas:\r\n",
        "    hidden_layer_sizes = tuple(2 * [40])\r\n",
        "    mlp = MLPClassifier(activation='tanh', hidden_layer_sizes= hidden_layer_sizes, max_iter= 1000)\r\n",
        "    sbfs = SFS(mlp, \r\n",
        "              k_features=carac, \r\n",
        "              forward=False, \r\n",
        "              floating=True, \r\n",
        "              scoring='accuracy',\r\n",
        "              cv=10,\r\n",
        "              n_jobs=-1)\r\n",
        "    sbfs = sbfs.fit(X,Y)\r\n",
        "    resultadosCaracteristicas.loc[indexx,'Nombre'] = \"Sequential Backward Floating Selection\"\r\n",
        "    resultadosCaracteristicas.loc[indexx,'caracteristicas'] = carac\r\n",
        "    resultadosCaracteristicas.loc[indexx,'caracteristicas elegidas'] = str(sbfs.k_feature_idx_)\r\n",
        "    resultadosCaracteristicas.loc[indexx,'CV score'] = sbfs.k_score_\r\n",
        "    indexx+=1\r\n",
        "print(tabulate(resultadosCaracteristicas, headers='keys', tablefmt='asciitable'))"
      ],
      "execution_count": null,
      "outputs": [
        {
          "output_type": "stream",
          "text": [
            "/usr/local/lib/python3.6/dist-packages/sklearn/externals/joblib/__init__.py:15: FutureWarning: sklearn.externals.joblib is deprecated in 0.21 and will be removed in 0.23. Please import this functionality directly from joblib, which can be installed with: pip install joblib. If this warning is raised when loading pickled models, you may need to re-serialize those models with scikit-learn 0.21+.\n",
            "  warnings.warn(msg, category=FutureWarning)\n"
          ],
          "name": "stderr"
        },
        {
          "output_type": "stream",
          "text": [
            "    Nombre                                    caracteristicas  caracteristicas elegidas                                                                                      CV score\n",
            "--  --------------------------------------  -----------------  ----------------------------------------------------------------------------------------------------------  ----------\n",
            " 0  Sequential Backward Floating Selection                 26  (0, 1, 3, 4, 5, 6, 7, 8, 9, 11, 12, 13, 14, 15, 18, 19, 20, 21, 22, 23, 24, 25, 26, 27, 28, 29)               0.969331\n",
            " 1  Sequential Backward Floating Selection                 27  (0, 1, 2, 3, 4, 5, 6, 7, 8, 9, 11, 12, 13, 14, 15, 16, 17, 18, 19, 20, 23, 24, 25, 26, 27, 28, 29)            0.970417\n",
            " 2  Sequential Backward Floating Selection                 28  (0, 1, 2, 3, 4, 5, 6, 7, 8, 9, 10, 11, 12, 13, 14, 15, 16, 17, 19, 20, 21, 22, 23, 24, 25, 26, 27, 28)        0.970779\n",
            " 3  Sequential Backward Floating Selection                 29  (0, 1, 2, 3, 4, 5, 6, 7, 8, 9, 10, 11, 12, 13, 14, 15, 16, 17, 18, 20, 21, 22, 23, 24, 25, 26, 27, 28, 29)    0.970869\n"
          ],
          "name": "stdout"
        }
      ]
    },
    {
      "cell_type": "code",
      "metadata": {
        "id": "ZLB649ahDO1m"
      },
      "source": [
        ""
      ],
      "execution_count": null,
      "outputs": []
    },
    {
      "cell_type": "code",
      "metadata": {
        "colab": {
          "base_uri": "https://localhost:8080/"
        },
        "id": "eC0rifWOZIU7",
        "outputId": "a1ca4306-d58e-46df-d274-f34b5d65ae29"
      },
      "source": [
        "from mlxtend.feature_selection import SequentialFeatureSelector as SFS\r\n",
        "rf = RandomForestClassifier(n_estimators=50, max_features=5, criterion=\"gini\")\r\n",
        "\r\n",
        "sfs = SFS(rf, \r\n",
        "          k_features=30, \r\n",
        "          forward=True, \r\n",
        "          floating=False, \r\n",
        "          scoring='accuracy',\r\n",
        "          cv=4,\r\n",
        "          n_jobs=-1)\r\n",
        "sfs = sfs.fit(X_test, Y_test)\r\n",
        "\r\n",
        "print('\\nSequential Forward Selection (k=29):')\r\n",
        "print(sfs.k_feature_idx_)\r\n",
        "print(sfs.k_feature_names_)\r\n",
        "print('CV Score:')\r\n",
        "print(sfs.k_score_)"
      ],
      "execution_count": null,
      "outputs": [
        {
          "output_type": "stream",
          "text": [
            "/usr/local/lib/python3.6/dist-packages/mlxtend/feature_selection/sequential_feature_selector.py:510: RuntimeWarning: Mean of empty slice\n",
            "  all_avg_scores.append(np.nanmean(cv_scores))\n"
          ],
          "name": "stderr"
        },
        {
          "output_type": "stream",
          "text": [
            "\n",
            "Sequential Forward Selection (k=29):\n",
            "(0, 1, 2, 3, 4, 5, 6, 7, 8, 9, 10, 11, 12, 13, 14, 15, 16, 17, 18, 19, 20, 21, 22, 23, 24, 25, 26, 27, 28, 29)\n",
            "('0', '1', '2', '3', '4', '5', '6', '7', '8', '9', '10', '11', '12', '13', '14', '15', '16', '17', '18', '19', '20', '21', '22', '23', '24', '25', '26', '27', '28', '29')\n",
            "CV Score:\n",
            "0.9107142857142857\n"
          ],
          "name": "stdout"
        }
      ]
    },
    {
      "cell_type": "code",
      "metadata": {
        "id": "FLoyywJ66SlY",
        "colab": {
          "base_uri": "https://localhost:8080/"
        },
        "outputId": "281a0fbd-354a-493c-8961-df429b90043b"
      },
      "source": [
        "data.columns.get_loc(\"Favicon\") "
      ],
      "execution_count": null,
      "outputs": [
        {
          "output_type": "execute_result",
          "data": {
            "text/plain": [
              "9"
            ]
          },
          "metadata": {
            "tags": []
          },
          "execution_count": 17
        }
      ]
    },
    {
      "cell_type": "markdown",
      "metadata": {
        "id": "rfk0iFQJcM_l"
      },
      "source": [
        "MEDIDAS DE DESEMPEÑO PARA LOS MEJORES ACCURACY DE LOS 3 MEJORES MODELOS\r\n"
      ]
    },
    {
      "cell_type": "markdown",
      "metadata": {
        "id": "XA3xCuUYHO9B"
      },
      "source": [
        "PARA SVM:"
      ]
    },
    {
      "cell_type": "code",
      "metadata": {
        "colab": {
          "base_uri": "https://localhost:8080/"
        },
        "id": "pP_KUyY7EST3",
        "outputId": "d27eb9eb-485f-4bee-bc1b-51aebcdd22a2"
      },
      "source": [
        "X_svm_sbfs = data.drop([\"Favicon\", \"Result\"], axis=1).values\r\n",
        "print (X_svm_sbfs.shape , Y.shape)\r\n"
      ],
      "execution_count": null,
      "outputs": [
        {
          "output_type": "stream",
          "text": [
            "(11055, 29) (11055,)\n"
          ],
          "name": "stdout"
        }
      ]
    },
    {
      "cell_type": "code",
      "metadata": {
        "colab": {
          "base_uri": "https://localhost:8080/",
          "height": 80
        },
        "id": "qvDYteLhFKA3",
        "outputId": "07c5b44d-b818-4b11-ac86-1e1ce01ff347"
      },
      "source": [
        "resultadosSVC, other = experiementarSVC(x = X_svm_sbfs,y=Y,\r\n",
        "                                 kernels=['rbf'],\r\n",
        "                                 gammas = [0.01],\r\n",
        "                                 params_reg = [10]\r\n",
        "                                )\r\n",
        "resultadosSVC"
      ],
      "execution_count": null,
      "outputs": [
        {
          "output_type": "execute_result",
          "data": {
            "text/html": [
              "<div>\n",
              "<style scoped>\n",
              "    .dataframe tbody tr th:only-of-type {\n",
              "        vertical-align: middle;\n",
              "    }\n",
              "\n",
              "    .dataframe tbody tr th {\n",
              "        vertical-align: top;\n",
              "    }\n",
              "\n",
              "    .dataframe thead th {\n",
              "        text-align: right;\n",
              "    }\n",
              "</style>\n",
              "<table border=\"1\" class=\"dataframe\">\n",
              "  <thead>\n",
              "    <tr style=\"text-align: right;\">\n",
              "      <th></th>\n",
              "      <th>kernel</th>\n",
              "      <th>gamma</th>\n",
              "      <th>param_reg</th>\n",
              "      <th>error de entrenamiento</th>\n",
              "      <th>error de prueba</th>\n",
              "      <th>% de vectores de soporte</th>\n",
              "      <th>accuracy real</th>\n",
              "      <th>Intervalo de confianza (prueba)</th>\n",
              "      <th>precision_score</th>\n",
              "      <th>recall_score</th>\n",
              "      <th>f1_score</th>\n",
              "    </tr>\n",
              "  </thead>\n",
              "  <tbody>\n",
              "    <tr>\n",
              "      <th>0</th>\n",
              "      <td>rbf</td>\n",
              "      <td>0.01</td>\n",
              "      <td>10.0</td>\n",
              "      <td>0.958591</td>\n",
              "      <td>0.95061</td>\n",
              "      <td>16.03598</td>\n",
              "      <td>0.95061</td>\n",
              "      <td>0.005931</td>\n",
              "      <td>0.944689</td>\n",
              "      <td>0.968184</td>\n",
              "      <td>0.95626</td>\n",
              "    </tr>\n",
              "  </tbody>\n",
              "</table>\n",
              "</div>"
            ],
            "text/plain": [
              "  kernel  gamma  param_reg  ...  precision_score  recall_score  f1_score\n",
              "0    rbf   0.01       10.0  ...         0.944689      0.968184   0.95626\n",
              "\n",
              "[1 rows x 11 columns]"
            ]
          },
          "metadata": {
            "tags": []
          },
          "execution_count": 38
        }
      ]
    },
    {
      "cell_type": "markdown",
      "metadata": {
        "id": "TMMaH5i1HQ8W"
      },
      "source": [
        "PARA RF:"
      ]
    },
    {
      "cell_type": "code",
      "metadata": {
        "colab": {
          "base_uri": "https://localhost:8080/"
        },
        "id": "GKw7BY63HUS_",
        "outputId": "d3f8a800-7512-4228-f604-ce6f994c7a76"
      },
      "source": [
        "svm = SVC(kernel='rbf', gamma=0.01, C= 10)\r\n",
        "svm.fit(X=X_svm_sbfs, y=Y)\r\n",
        "y_test_pred = svm.predict(X=X_svm_sbfs)\r\n",
        "print(accuracy_score(Y, y_test_pred))"
      ],
      "execution_count": null,
      "outputs": [
        {
          "output_type": "stream",
          "text": [
            "0.9511533242876526\n"
          ],
          "name": "stdout"
        }
      ]
    },
    {
      "cell_type": "markdown",
      "metadata": {
        "id": "v97dJYHnHtua"
      },
      "source": [
        "# PCA\r\n"
      ]
    },
    {
      "cell_type": "markdown",
      "metadata": {
        "id": "4UJZwpCtIcNU"
      },
      "source": [
        "\r\n",
        "\r\n",
        "```\r\n",
        "# Esto tiene formato de código\r\n",
        "```\r\n",
        "\r\n",
        "PCA EN RANDOM FOREST"
      ]
    },
    {
      "cell_type": "code",
      "metadata": {
        "id": "jk0cycIuHvoN"
      },
      "source": [
        "\r\n",
        "import time\r\n",
        "from sklearn.decomposition import PCA\r\n",
        "def entrenamiento_sin_seleccion_caracteristicas_rf(splits, X, Y):\r\n",
        "\r\n",
        "    #Implemetamos la metodología de validación\r\n",
        "    Errores = np.ones(splits)\r\n",
        "    Score = np.ones(splits)\r\n",
        "    times = np.ones(splits)\r\n",
        "    j = 0\r\n",
        "    kf = KFold(n_splits=splits)\r\n",
        "    Mpre = []\r\n",
        "    Mrec = []\r\n",
        "    Mf1 = []\r\n",
        "    for train_index, test_index in kf.split(X):\r\n",
        "        X_train, X_test = X[train_index], X[test_index]\r\n",
        "        y_train, y_test = Y[train_index], Y[test_index]\r\n",
        "        scaler = StandardScaler()\r\n",
        "        X_train = scaler.fit_transform(X_train)\r\n",
        "        X_test = scaler.transform(X_test)\r\n",
        "        #Creamos el clasificador SVM.\r\n",
        "        clf = RandomForestClassifier(n_estimators=50, max_features=5, criterion=\"gini\")\r\n",
        "        #Aquí se entran y se valida el modelo sin hacer selección de características\r\n",
        "        tiempo_i = time.time()\r\n",
        "        clf.fit(X_train,y_train)\r\n",
        "        y_test_pred =clf.predict(X_test)\r\n",
        "        # Validación del modelo\r\n",
        "        Errores[j] = accuracy_score(y_true=y_test, y_pred=y_test_pred)\r\n",
        "        Mpre.append(precision_score(y_test, y_test_pred))\r\n",
        "        Mrec.append(recall_score(y_test, y_test_pred))\r\n",
        "        Mf1.append(f1_score(y_test, y_test_pred))\r\n",
        "        times[j] = time.time()-tiempo_i\r\n",
        "        j+=1\r\n",
        "\r\n",
        "    return np.mean(Errores), np.std(Errores), np.mean(times), np.mean(Mpre), np.mean(Mrec), np.mean(Mf1)\r\n",
        "#ejercicio de código\r\n",
        "def entrenamiento_pca_ext_caracteristicas_rf(n_comp, X, Y):\r\n",
        "\r\n",
        "    #Implemetamos la metodología de validación \r\n",
        "    Errores = np.ones(10)\r\n",
        "    times = np.ones(10)\r\n",
        "    j = 0\r\n",
        "    kf = KFold(n_splits=10)\r\n",
        "    Mpre = []\r\n",
        "    Mrec = []\r\n",
        "    Mf1 = []\r\n",
        "    for train_index, test_index in kf.split(X):  \r\n",
        "        X_train, X_test = X[train_index], X[test_index]\r\n",
        "        y_train, y_test = Y[train_index], Y[test_index]\r\n",
        "        \r\n",
        "        # ¿es necesario estandarizacion de datos?\r\n",
        "        scaler = StandardScaler()\r\n",
        "        X_train = scaler.fit_transform(X_train)\r\n",
        "        X_test = scaler.transform(X_test)\r\n",
        " \r\n",
        "        #dejar el mismo nombre del objeto \r\n",
        "        pca = PCA(n_components=n_comp)\r\n",
        "        # para calcular costo computacional\r\n",
        "        tiempo_i = time.time()\r\n",
        "        # es recomendable usar el metodo que ajusta y transforma\r\n",
        "        X_train_pca = pca.fit_transform(X=X_train)\r\n",
        "        # aca solo usar el metodo de transformar (ya que en el anterior el pca se ajusto)\r\n",
        "        X_test_pca = pca.transform(X=X_test)\r\n",
        "        # entrenar el modelo usando las caractieristicas transformadas por PCA\r\n",
        "        clf = RandomForestClassifier(n_estimators=50, max_features=5, criterion=\"gini\")\r\n",
        "        clf.fit(X=X_train_pca, y=y_train)\r\n",
        "        y_test_pred =clf.predict(X_test_pca)\r\n",
        "        Errores[j] = accuracy_score(y_true=y_test, y_pred= y_test_pred)\r\n",
        "        Mpre.append(precision_score(y_test, y_test_pred))\r\n",
        "        Mrec.append(recall_score(y_test, y_test_pred))\r\n",
        "        Mf1.append(f1_score(y_test, y_test_pred))\r\n",
        "        tiempo_o = time.time()-tiempo_i\r\n",
        "        times[j] = tiempo_o\r\n",
        "        j+=1\r\n",
        "\r\n",
        "\r\n",
        "    return np.mean(Errores), np.std(Errores), np.mean(times), np.mean(Mpre), np.mean(Mrec), np.mean(Mf1)\r\n",
        "#ejercicio de código\r\n",
        "def experimentar_PCA_RF(n_feats, X, Y):\r\n",
        "\r\n",
        "    df = pd.DataFrame()\r\n",
        "    idx = 0\r\n",
        "    split_number = 10\r\n",
        "    #Sin selección de características\r\n",
        "    error, ic_error, t_ex, presicion, recall, f1s= entrenamiento_sin_seleccion_caracteristicas_rf(split_number, X,Y)  \r\n",
        "    df.loc[idx,'CON_SEL'] = 'NO'\r\n",
        "    df.loc[idx,'NUM_VAR'] = X.shape[1] # se usan todas las caracteristicas\r\n",
        "    df.loc[idx,'T_EJECUCION'] = t_ex\r\n",
        "    df.loc[idx,'ACCURACY'] = error\r\n",
        "    df.loc[idx,'INTERVALO DE CONFIANZA'] = ic_error\r\n",
        "    df.loc[idx,'precision_score'] = presicion\r\n",
        "    df.loc[idx,'recall_score'] = recall\r\n",
        "    df.loc[idx,'f1_score'] = f1s\r\n",
        "    idx+=1\r\n",
        "    print(\"termina experimento sin selección\")\r\n",
        "    #Con selección de características\r\n",
        "    \r\n",
        "    for f in n_feats:\r\n",
        "        #Implemetamos la metodología de validación \r\n",
        "        error,ic_error,t_ex, presicion, recall, f1s  = entrenamiento_pca_ext_caracteristicas_rf(n_comp=f, X=X,Y=Y)\r\n",
        "        df.loc[idx,'CON_SEL'] = 'SI'\r\n",
        "        df.loc[idx,'NUM_VAR'] = f # se usan todas las caracteristicas\r\n",
        "        df.loc[idx,'T_EJECUCION'] = t_ex\r\n",
        "        df.loc[idx,'ACCURACY'] = error\r\n",
        "        df.loc[idx,'INTERVALO DE CONFIANZA'] = ic_error\r\n",
        "        df.loc[idx,'precision_score'] = presicion\r\n",
        "        df.loc[idx,'recall_score'] = recall\r\n",
        "        df.loc[idx,'f1_score'] = f1s\r\n",
        "        idx+=1\r\n",
        "    return df\r\n"
      ],
      "execution_count": null,
      "outputs": []
    },
    {
      "cell_type": "code",
      "metadata": {
        "colab": {
          "base_uri": "https://localhost:8080/",
          "height": 872
        },
        "id": "ksWCYwwMIHo6",
        "outputId": "5cf5be1b-86cb-4b3a-813e-03c4334369bd"
      },
      "source": [
        "RFresultadosPCA = experimentar_PCA_RF([5,6,7,8,9,10,11,12,13,14,15,16,17,18,19,20,21,22,23,24,25,26,27,28,29], X, Y)\r\n",
        "RFresultadosPCA"
      ],
      "execution_count": null,
      "outputs": [
        {
          "output_type": "stream",
          "text": [
            "termina experimento sin selección\n"
          ],
          "name": "stdout"
        },
        {
          "output_type": "execute_result",
          "data": {
            "text/html": [
              "<div>\n",
              "<style scoped>\n",
              "    .dataframe tbody tr th:only-of-type {\n",
              "        vertical-align: middle;\n",
              "    }\n",
              "\n",
              "    .dataframe tbody tr th {\n",
              "        vertical-align: top;\n",
              "    }\n",
              "\n",
              "    .dataframe thead th {\n",
              "        text-align: right;\n",
              "    }\n",
              "</style>\n",
              "<table border=\"1\" class=\"dataframe\">\n",
              "  <thead>\n",
              "    <tr style=\"text-align: right;\">\n",
              "      <th></th>\n",
              "      <th>CON_SEL</th>\n",
              "      <th>NUM_VAR</th>\n",
              "      <th>T_EJECUCION</th>\n",
              "      <th>ACCURACY</th>\n",
              "      <th>INTERVALO DE CONFIANZA</th>\n",
              "      <th>precision_score</th>\n",
              "      <th>recall_score</th>\n",
              "      <th>f1_score</th>\n",
              "    </tr>\n",
              "  </thead>\n",
              "  <tbody>\n",
              "    <tr>\n",
              "      <th>0</th>\n",
              "      <td>NO</td>\n",
              "      <td>30.0</td>\n",
              "      <td>0.365073</td>\n",
              "      <td>0.972316</td>\n",
              "      <td>0.010686</td>\n",
              "      <td>0.968968</td>\n",
              "      <td>0.981804</td>\n",
              "      <td>0.975299</td>\n",
              "    </tr>\n",
              "    <tr>\n",
              "      <th>1</th>\n",
              "      <td>SI</td>\n",
              "      <td>5.0</td>\n",
              "      <td>1.731079</td>\n",
              "      <td>0.947616</td>\n",
              "      <td>0.024045</td>\n",
              "      <td>0.944772</td>\n",
              "      <td>0.962726</td>\n",
              "      <td>0.953508</td>\n",
              "    </tr>\n",
              "    <tr>\n",
              "      <th>2</th>\n",
              "      <td>SI</td>\n",
              "      <td>6.0</td>\n",
              "      <td>1.730734</td>\n",
              "      <td>0.953406</td>\n",
              "      <td>0.022541</td>\n",
              "      <td>0.950728</td>\n",
              "      <td>0.966970</td>\n",
              "      <td>0.958637</td>\n",
              "    </tr>\n",
              "    <tr>\n",
              "      <th>3</th>\n",
              "      <td>SI</td>\n",
              "      <td>7.0</td>\n",
              "      <td>1.778071</td>\n",
              "      <td>0.956030</td>\n",
              "      <td>0.020338</td>\n",
              "      <td>0.953637</td>\n",
              "      <td>0.968439</td>\n",
              "      <td>0.960885</td>\n",
              "    </tr>\n",
              "    <tr>\n",
              "      <th>4</th>\n",
              "      <td>SI</td>\n",
              "      <td>8.0</td>\n",
              "      <td>1.828236</td>\n",
              "      <td>0.957386</td>\n",
              "      <td>0.022048</td>\n",
              "      <td>0.952756</td>\n",
              "      <td>0.972029</td>\n",
              "      <td>0.962198</td>\n",
              "    </tr>\n",
              "    <tr>\n",
              "      <th>5</th>\n",
              "      <td>SI</td>\n",
              "      <td>9.0</td>\n",
              "      <td>1.848250</td>\n",
              "      <td>0.956663</td>\n",
              "      <td>0.020868</td>\n",
              "      <td>0.953417</td>\n",
              "      <td>0.969931</td>\n",
              "      <td>0.961496</td>\n",
              "    </tr>\n",
              "    <tr>\n",
              "      <th>6</th>\n",
              "      <td>SI</td>\n",
              "      <td>10.0</td>\n",
              "      <td>1.909356</td>\n",
              "      <td>0.956120</td>\n",
              "      <td>0.021646</td>\n",
              "      <td>0.951823</td>\n",
              "      <td>0.970722</td>\n",
              "      <td>0.961073</td>\n",
              "    </tr>\n",
              "    <tr>\n",
              "      <th>7</th>\n",
              "      <td>SI</td>\n",
              "      <td>11.0</td>\n",
              "      <td>1.936866</td>\n",
              "      <td>0.958291</td>\n",
              "      <td>0.021452</td>\n",
              "      <td>0.955386</td>\n",
              "      <td>0.970557</td>\n",
              "      <td>0.962849</td>\n",
              "    </tr>\n",
              "    <tr>\n",
              "      <th>8</th>\n",
              "      <td>SI</td>\n",
              "      <td>12.0</td>\n",
              "      <td>1.958161</td>\n",
              "      <td>0.959829</td>\n",
              "      <td>0.018970</td>\n",
              "      <td>0.956109</td>\n",
              "      <td>0.972868</td>\n",
              "      <td>0.964330</td>\n",
              "    </tr>\n",
              "    <tr>\n",
              "      <th>9</th>\n",
              "      <td>SI</td>\n",
              "      <td>13.0</td>\n",
              "      <td>1.991667</td>\n",
              "      <td>0.958834</td>\n",
              "      <td>0.019330</td>\n",
              "      <td>0.955655</td>\n",
              "      <td>0.971386</td>\n",
              "      <td>0.963360</td>\n",
              "    </tr>\n",
              "    <tr>\n",
              "      <th>10</th>\n",
              "      <td>SI</td>\n",
              "      <td>14.0</td>\n",
              "      <td>2.006160</td>\n",
              "      <td>0.959738</td>\n",
              "      <td>0.020314</td>\n",
              "      <td>0.957296</td>\n",
              "      <td>0.971218</td>\n",
              "      <td>0.964136</td>\n",
              "    </tr>\n",
              "    <tr>\n",
              "      <th>11</th>\n",
              "      <td>SI</td>\n",
              "      <td>15.0</td>\n",
              "      <td>2.036944</td>\n",
              "      <td>0.959648</td>\n",
              "      <td>0.018819</td>\n",
              "      <td>0.955388</td>\n",
              "      <td>0.973140</td>\n",
              "      <td>0.964113</td>\n",
              "    </tr>\n",
              "    <tr>\n",
              "      <th>12</th>\n",
              "      <td>SI</td>\n",
              "      <td>16.0</td>\n",
              "      <td>2.011194</td>\n",
              "      <td>0.960824</td>\n",
              "      <td>0.019321</td>\n",
              "      <td>0.959096</td>\n",
              "      <td>0.971175</td>\n",
              "      <td>0.965024</td>\n",
              "    </tr>\n",
              "    <tr>\n",
              "      <th>13</th>\n",
              "      <td>SI</td>\n",
              "      <td>17.0</td>\n",
              "      <td>2.029647</td>\n",
              "      <td>0.960734</td>\n",
              "      <td>0.018644</td>\n",
              "      <td>0.956442</td>\n",
              "      <td>0.974155</td>\n",
              "      <td>0.965122</td>\n",
              "    </tr>\n",
              "    <tr>\n",
              "      <th>14</th>\n",
              "      <td>SI</td>\n",
              "      <td>18.0</td>\n",
              "      <td>2.083738</td>\n",
              "      <td>0.962454</td>\n",
              "      <td>0.017175</td>\n",
              "      <td>0.958416</td>\n",
              "      <td>0.975155</td>\n",
              "      <td>0.966626</td>\n",
              "    </tr>\n",
              "    <tr>\n",
              "      <th>15</th>\n",
              "      <td>SI</td>\n",
              "      <td>19.0</td>\n",
              "      <td>2.059128</td>\n",
              "      <td>0.961910</td>\n",
              "      <td>0.017753</td>\n",
              "      <td>0.957310</td>\n",
              "      <td>0.975444</td>\n",
              "      <td>0.966173</td>\n",
              "    </tr>\n",
              "    <tr>\n",
              "      <th>16</th>\n",
              "      <td>SI</td>\n",
              "      <td>20.0</td>\n",
              "      <td>2.115558</td>\n",
              "      <td>0.961006</td>\n",
              "      <td>0.017703</td>\n",
              "      <td>0.957030</td>\n",
              "      <td>0.974014</td>\n",
              "      <td>0.965349</td>\n",
              "    </tr>\n",
              "    <tr>\n",
              "      <th>17</th>\n",
              "      <td>SI</td>\n",
              "      <td>21.0</td>\n",
              "      <td>2.152350</td>\n",
              "      <td>0.964354</td>\n",
              "      <td>0.015937</td>\n",
              "      <td>0.959250</td>\n",
              "      <td>0.977726</td>\n",
              "      <td>0.968334</td>\n",
              "    </tr>\n",
              "    <tr>\n",
              "      <th>18</th>\n",
              "      <td>SI</td>\n",
              "      <td>22.0</td>\n",
              "      <td>2.104795</td>\n",
              "      <td>0.963268</td>\n",
              "      <td>0.017189</td>\n",
              "      <td>0.959080</td>\n",
              "      <td>0.975951</td>\n",
              "      <td>0.967340</td>\n",
              "    </tr>\n",
              "    <tr>\n",
              "      <th>19</th>\n",
              "      <td>SI</td>\n",
              "      <td>23.0</td>\n",
              "      <td>2.095291</td>\n",
              "      <td>0.963268</td>\n",
              "      <td>0.016627</td>\n",
              "      <td>0.959127</td>\n",
              "      <td>0.975801</td>\n",
              "      <td>0.967287</td>\n",
              "    </tr>\n",
              "    <tr>\n",
              "      <th>20</th>\n",
              "      <td>SI</td>\n",
              "      <td>24.0</td>\n",
              "      <td>2.066804</td>\n",
              "      <td>0.963268</td>\n",
              "      <td>0.016254</td>\n",
              "      <td>0.959405</td>\n",
              "      <td>0.975481</td>\n",
              "      <td>0.967301</td>\n",
              "    </tr>\n",
              "    <tr>\n",
              "      <th>21</th>\n",
              "      <td>SI</td>\n",
              "      <td>25.0</td>\n",
              "      <td>2.064773</td>\n",
              "      <td>0.964534</td>\n",
              "      <td>0.015884</td>\n",
              "      <td>0.958970</td>\n",
              "      <td>0.978377</td>\n",
              "      <td>0.968513</td>\n",
              "    </tr>\n",
              "    <tr>\n",
              "      <th>22</th>\n",
              "      <td>SI</td>\n",
              "      <td>26.0</td>\n",
              "      <td>2.074828</td>\n",
              "      <td>0.964534</td>\n",
              "      <td>0.016811</td>\n",
              "      <td>0.961262</td>\n",
              "      <td>0.975745</td>\n",
              "      <td>0.968383</td>\n",
              "    </tr>\n",
              "    <tr>\n",
              "      <th>23</th>\n",
              "      <td>SI</td>\n",
              "      <td>27.0</td>\n",
              "      <td>2.082508</td>\n",
              "      <td>0.964987</td>\n",
              "      <td>0.015802</td>\n",
              "      <td>0.960895</td>\n",
              "      <td>0.977074</td>\n",
              "      <td>0.968852</td>\n",
              "    </tr>\n",
              "    <tr>\n",
              "      <th>24</th>\n",
              "      <td>SI</td>\n",
              "      <td>28.0</td>\n",
              "      <td>2.087037</td>\n",
              "      <td>0.965258</td>\n",
              "      <td>0.015372</td>\n",
              "      <td>0.959865</td>\n",
              "      <td>0.978695</td>\n",
              "      <td>0.969127</td>\n",
              "    </tr>\n",
              "    <tr>\n",
              "      <th>25</th>\n",
              "      <td>SI</td>\n",
              "      <td>29.0</td>\n",
              "      <td>2.078211</td>\n",
              "      <td>0.965620</td>\n",
              "      <td>0.015242</td>\n",
              "      <td>0.961542</td>\n",
              "      <td>0.977589</td>\n",
              "      <td>0.969423</td>\n",
              "    </tr>\n",
              "  </tbody>\n",
              "</table>\n",
              "</div>"
            ],
            "text/plain": [
              "   CON_SEL  NUM_VAR  T_EJECUCION  ...  precision_score  recall_score  f1_score\n",
              "0       NO     30.0     0.365073  ...         0.968968      0.981804  0.975299\n",
              "1       SI      5.0     1.731079  ...         0.944772      0.962726  0.953508\n",
              "2       SI      6.0     1.730734  ...         0.950728      0.966970  0.958637\n",
              "3       SI      7.0     1.778071  ...         0.953637      0.968439  0.960885\n",
              "4       SI      8.0     1.828236  ...         0.952756      0.972029  0.962198\n",
              "5       SI      9.0     1.848250  ...         0.953417      0.969931  0.961496\n",
              "6       SI     10.0     1.909356  ...         0.951823      0.970722  0.961073\n",
              "7       SI     11.0     1.936866  ...         0.955386      0.970557  0.962849\n",
              "8       SI     12.0     1.958161  ...         0.956109      0.972868  0.964330\n",
              "9       SI     13.0     1.991667  ...         0.955655      0.971386  0.963360\n",
              "10      SI     14.0     2.006160  ...         0.957296      0.971218  0.964136\n",
              "11      SI     15.0     2.036944  ...         0.955388      0.973140  0.964113\n",
              "12      SI     16.0     2.011194  ...         0.959096      0.971175  0.965024\n",
              "13      SI     17.0     2.029647  ...         0.956442      0.974155  0.965122\n",
              "14      SI     18.0     2.083738  ...         0.958416      0.975155  0.966626\n",
              "15      SI     19.0     2.059128  ...         0.957310      0.975444  0.966173\n",
              "16      SI     20.0     2.115558  ...         0.957030      0.974014  0.965349\n",
              "17      SI     21.0     2.152350  ...         0.959250      0.977726  0.968334\n",
              "18      SI     22.0     2.104795  ...         0.959080      0.975951  0.967340\n",
              "19      SI     23.0     2.095291  ...         0.959127      0.975801  0.967287\n",
              "20      SI     24.0     2.066804  ...         0.959405      0.975481  0.967301\n",
              "21      SI     25.0     2.064773  ...         0.958970      0.978377  0.968513\n",
              "22      SI     26.0     2.074828  ...         0.961262      0.975745  0.968383\n",
              "23      SI     27.0     2.082508  ...         0.960895      0.977074  0.968852\n",
              "24      SI     28.0     2.087037  ...         0.959865      0.978695  0.969127\n",
              "25      SI     29.0     2.078211  ...         0.961542      0.977589  0.969423\n",
              "\n",
              "[26 rows x 8 columns]"
            ]
          },
          "metadata": {
            "tags": []
          },
          "execution_count": 16
        }
      ]
    },
    {
      "cell_type": "markdown",
      "metadata": {
        "id": "rrosfeEmIShx"
      },
      "source": [
        "PCA EN SVM"
      ]
    },
    {
      "cell_type": "code",
      "metadata": {
        "id": "rHyQmZmGDsFD"
      },
      "source": [
        "import time\r\n",
        "from sklearn.decomposition import PCA\r\n",
        "def entrenamiento_sin_seleccion_caracteristicas(splits, X, Y):\r\n",
        "\r\n",
        "    #Implemetamos la metodología de validación\r\n",
        "    Errores = np.ones(splits)\r\n",
        "    Score = np.ones(splits)\r\n",
        "    times = np.ones(splits)\r\n",
        "    j = 0\r\n",
        "    kf = KFold(n_splits=splits)\r\n",
        "    Mpre = []\r\n",
        "    Mrec = []\r\n",
        "    Mf1 = []\r\n",
        "    for train_index, test_index in kf.split(X):\r\n",
        "        X_train, X_test = X[train_index], X[test_index]\r\n",
        "        y_train, y_test = Y[train_index], Y[test_index]\r\n",
        "        scaler = StandardScaler()\r\n",
        "        X_train = scaler.fit_transform(X_train)\r\n",
        "        X_test = scaler.transform(X_test)\r\n",
        "        #Creamos el clasificador SVM.\r\n",
        "        clf = SVC(kernel='rbf', gamma=0.01, C= 10)\r\n",
        "        #Aquí se entran y se valida el modelo sin hacer selección de características\r\n",
        "        tiempo_i = time.time()\r\n",
        "        clf.fit(X_train,y_train)\r\n",
        "        # Validación del modelo\r\n",
        "        y_test_pred =clf.predict(X_test)\r\n",
        "        Errores[j] = accuracy_score(y_true=y_test, y_pred=y_test_pred)\r\n",
        "        Mpre.append(precision_score(y_test, y_test_pred))\r\n",
        "        Mrec.append(recall_score(y_test, y_test_pred))\r\n",
        "        Mf1.append(f1_score(y_test, y_test_pred))\r\n",
        "        times[j] = time.time()-tiempo_i\r\n",
        "        j+=1\r\n",
        "\r\n",
        "    return np.mean(Errores), np.std(Errores), np.mean(times), np.mean(Mpre), np.mean(Mrec), np.mean(Mf1)\r\n",
        "#ejercicio de código\r\n",
        "def entrenamiento_pca_ext_caracteristicas(n_comp, X, Y):\r\n",
        "\r\n",
        "    #Implemetamos la metodología de validación \r\n",
        "    Errores = np.ones(10)\r\n",
        "    times = np.ones(10)\r\n",
        "    j = 0\r\n",
        "    kf = KFold(n_splits=10)\r\n",
        "    Mpre = []\r\n",
        "    Mrec = []\r\n",
        "    Mf1 = []\r\n",
        "    for train_index, test_index in kf.split(X):  \r\n",
        "        X_train, X_test = X[train_index], X[test_index]\r\n",
        "        y_train, y_test = Y[train_index], Y[test_index]\r\n",
        "        \r\n",
        "        # ¿es necesario estandarizacion de datos?\r\n",
        "        scaler = StandardScaler()\r\n",
        "        X_train = scaler.fit_transform(X_train)\r\n",
        "        X_test = scaler.transform(X_test)\r\n",
        " \r\n",
        "        #dejar el mismo nombre del objeto \r\n",
        "        pca = PCA(n_components=n_comp)\r\n",
        "        # para calcular costo computacional\r\n",
        "        tiempo_i = time.time()\r\n",
        "        # es recomendable usar el metodo que ajusta y transforma\r\n",
        "        X_train_pca = pca.fit_transform(X=X_train)\r\n",
        "        # aca solo usar el metodo de transformar (ya que en el anterior el pca se ajusto)\r\n",
        "        X_test_pca = pca.transform(X=X_test)\r\n",
        "        # entrenar el modelo usando las caractieristicas transformadas por PCA\r\n",
        "        clf = SVC(kernel='rbf', gamma=0.01, C= 10)\r\n",
        "        clf.fit(X=X_train_pca, y=y_train)\r\n",
        "        y_test_pred =clf.predict(X_test_pca)\r\n",
        "        Errores[j] = accuracy_score(y_true=y_test, y_pred=y_test_pred)\r\n",
        "        Mpre.append(precision_score(y_test, y_test_pred))\r\n",
        "        Mrec.append(recall_score(y_test, y_test_pred))\r\n",
        "        Mf1.append(f1_score(y_test, y_test_pred))\r\n",
        "        tiempo_o = time.time()-tiempo_i\r\n",
        "        times[j] = tiempo_o\r\n",
        "        j+=1\r\n",
        "\r\n",
        "\r\n",
        "    return np.mean(Errores), np.std(Errores), np.mean(times), np.mean(Mpre), np.mean(Mrec), np.mean(Mf1)\r\n",
        "#ejercicio de código\r\n",
        "def experimentar_PCA(n_feats, X, Y):\r\n",
        "\r\n",
        "    df = pd.DataFrame()\r\n",
        "    idx = 0\r\n",
        "    split_number = 10\r\n",
        "    #Sin selección de características\r\n",
        "    error, ic_error, t_ex, presicion, recall, f1s= entrenamiento_sin_seleccion_caracteristicas(split_number, X,Y)  \r\n",
        "    df.loc[idx,'CON_SEL'] = 'NO'\r\n",
        "    df.loc[idx,'NUM_VAR'] = X.shape[1] # se usan todas las caracteristicas\r\n",
        "    df.loc[idx,'T_EJECUCION'] = t_ex\r\n",
        "    df.loc[idx,'ACCURACY'] = error\r\n",
        "    df.loc[idx,'INTERVALO DE CONFIANZA'] = ic_error\r\n",
        "    df.loc[idx,'precision_score'] = presicion\r\n",
        "    df.loc[idx,'recall_score'] = recall\r\n",
        "    df.loc[idx,'f1_score'] = f1s\r\n",
        "    idx+=1\r\n",
        "    print(\"termina experimento sin selección\")\r\n",
        "    #Con selección de características\r\n",
        "    \r\n",
        "    for f in n_feats:\r\n",
        "        #Implemetamos la metodología de validación \r\n",
        "        error,ic_error,t_ex, presicion, recall, f1s  = entrenamiento_pca_ext_caracteristicas(n_comp=f, X=X,Y=Y)\r\n",
        "        df.loc[idx,'CON_SEL'] = 'SI'\r\n",
        "        df.loc[idx,'NUM_VAR'] = f # se usan todas las caracteristicas\r\n",
        "        df.loc[idx,'T_EJECUCION'] = t_ex\r\n",
        "        df.loc[idx,'ACCURACY'] = error\r\n",
        "        df.loc[idx,'INTERVALO DE CONFIANZA'] = ic_error\r\n",
        "        df.loc[idx,'precision_score'] = presicion\r\n",
        "        df.loc[idx,'recall_score'] = recall\r\n",
        "        df.loc[idx,'f1_score'] = f1s\r\n",
        "        idx+=1\r\n",
        "    return df\r\n"
      ],
      "execution_count": null,
      "outputs": []
    },
    {
      "cell_type": "code",
      "metadata": {
        "colab": {
          "base_uri": "https://localhost:8080/",
          "height": 872
        },
        "id": "sPIa0C2YEa3u",
        "outputId": "bc014811-577f-454f-f8f5-fe09afad647c"
      },
      "source": [
        "SVMresultadosPCA = experimentar_PCA([5,6,7,8,9,10,11,12,13,14,15,16,17,18,19,20,21,22,23,24,25,26,27,28,29], X, Y)\r\n",
        "SVMresultadosPCA"
      ],
      "execution_count": null,
      "outputs": [
        {
          "output_type": "stream",
          "text": [
            "termina experimento sin selección\n"
          ],
          "name": "stdout"
        },
        {
          "output_type": "execute_result",
          "data": {
            "text/html": [
              "<div>\n",
              "<style scoped>\n",
              "    .dataframe tbody tr th:only-of-type {\n",
              "        vertical-align: middle;\n",
              "    }\n",
              "\n",
              "    .dataframe tbody tr th {\n",
              "        vertical-align: top;\n",
              "    }\n",
              "\n",
              "    .dataframe thead th {\n",
              "        text-align: right;\n",
              "    }\n",
              "</style>\n",
              "<table border=\"1\" class=\"dataframe\">\n",
              "  <thead>\n",
              "    <tr style=\"text-align: right;\">\n",
              "      <th></th>\n",
              "      <th>CON_SEL</th>\n",
              "      <th>NUM_VAR</th>\n",
              "      <th>T_EJECUCION</th>\n",
              "      <th>ACCURACY</th>\n",
              "      <th>INTERVALO DE CONFIANZA</th>\n",
              "      <th>precision_score</th>\n",
              "      <th>recall_score</th>\n",
              "      <th>f1_score</th>\n",
              "    </tr>\n",
              "  </thead>\n",
              "  <tbody>\n",
              "    <tr>\n",
              "      <th>0</th>\n",
              "      <td>NO</td>\n",
              "      <td>30.0</td>\n",
              "      <td>1.870184</td>\n",
              "      <td>0.950881</td>\n",
              "      <td>0.006395</td>\n",
              "      <td>0.945397</td>\n",
              "      <td>0.967834</td>\n",
              "      <td>0.956457</td>\n",
              "    </tr>\n",
              "    <tr>\n",
              "      <th>1</th>\n",
              "      <td>SI</td>\n",
              "      <td>5.0</td>\n",
              "      <td>1.222575</td>\n",
              "      <td>0.911438</td>\n",
              "      <td>0.014631</td>\n",
              "      <td>0.914343</td>\n",
              "      <td>0.929060</td>\n",
              "      <td>0.921349</td>\n",
              "    </tr>\n",
              "    <tr>\n",
              "      <th>2</th>\n",
              "      <td>SI</td>\n",
              "      <td>6.0</td>\n",
              "      <td>1.267880</td>\n",
              "      <td>0.913157</td>\n",
              "      <td>0.015695</td>\n",
              "      <td>0.913085</td>\n",
              "      <td>0.934613</td>\n",
              "      <td>0.923241</td>\n",
              "    </tr>\n",
              "    <tr>\n",
              "      <th>3</th>\n",
              "      <td>SI</td>\n",
              "      <td>7.0</td>\n",
              "      <td>1.264377</td>\n",
              "      <td>0.919128</td>\n",
              "      <td>0.012467</td>\n",
              "      <td>0.916472</td>\n",
              "      <td>0.941335</td>\n",
              "      <td>0.928537</td>\n",
              "    </tr>\n",
              "    <tr>\n",
              "      <th>4</th>\n",
              "      <td>SI</td>\n",
              "      <td>8.0</td>\n",
              "      <td>1.300761</td>\n",
              "      <td>0.921843</td>\n",
              "      <td>0.011536</td>\n",
              "      <td>0.919363</td>\n",
              "      <td>0.942914</td>\n",
              "      <td>0.930848</td>\n",
              "    </tr>\n",
              "    <tr>\n",
              "      <th>5</th>\n",
              "      <td>SI</td>\n",
              "      <td>9.0</td>\n",
              "      <td>1.328049</td>\n",
              "      <td>0.924285</td>\n",
              "      <td>0.010623</td>\n",
              "      <td>0.922608</td>\n",
              "      <td>0.943738</td>\n",
              "      <td>0.932921</td>\n",
              "    </tr>\n",
              "    <tr>\n",
              "      <th>6</th>\n",
              "      <td>SI</td>\n",
              "      <td>10.0</td>\n",
              "      <td>1.343657</td>\n",
              "      <td>0.925914</td>\n",
              "      <td>0.009695</td>\n",
              "      <td>0.923448</td>\n",
              "      <td>0.945821</td>\n",
              "      <td>0.934394</td>\n",
              "    </tr>\n",
              "    <tr>\n",
              "      <th>7</th>\n",
              "      <td>SI</td>\n",
              "      <td>11.0</td>\n",
              "      <td>1.369280</td>\n",
              "      <td>0.930076</td>\n",
              "      <td>0.009751</td>\n",
              "      <td>0.926369</td>\n",
              "      <td>0.950403</td>\n",
              "      <td>0.938138</td>\n",
              "    </tr>\n",
              "    <tr>\n",
              "      <th>8</th>\n",
              "      <td>SI</td>\n",
              "      <td>12.0</td>\n",
              "      <td>1.489174</td>\n",
              "      <td>0.933787</td>\n",
              "      <td>0.008802</td>\n",
              "      <td>0.931576</td>\n",
              "      <td>0.951346</td>\n",
              "      <td>0.941277</td>\n",
              "    </tr>\n",
              "    <tr>\n",
              "      <th>9</th>\n",
              "      <td>SI</td>\n",
              "      <td>13.0</td>\n",
              "      <td>1.420331</td>\n",
              "      <td>0.935957</td>\n",
              "      <td>0.007771</td>\n",
              "      <td>0.932662</td>\n",
              "      <td>0.954305</td>\n",
              "      <td>0.943253</td>\n",
              "    </tr>\n",
              "    <tr>\n",
              "      <th>10</th>\n",
              "      <td>SI</td>\n",
              "      <td>14.0</td>\n",
              "      <td>1.447763</td>\n",
              "      <td>0.936680</td>\n",
              "      <td>0.007506</td>\n",
              "      <td>0.933201</td>\n",
              "      <td>0.955091</td>\n",
              "      <td>0.943903</td>\n",
              "    </tr>\n",
              "    <tr>\n",
              "      <th>11</th>\n",
              "      <td>SI</td>\n",
              "      <td>15.0</td>\n",
              "      <td>1.493801</td>\n",
              "      <td>0.938309</td>\n",
              "      <td>0.006132</td>\n",
              "      <td>0.936487</td>\n",
              "      <td>0.954268</td>\n",
              "      <td>0.945200</td>\n",
              "    </tr>\n",
              "    <tr>\n",
              "      <th>12</th>\n",
              "      <td>SI</td>\n",
              "      <td>16.0</td>\n",
              "      <td>1.534596</td>\n",
              "      <td>0.940299</td>\n",
              "      <td>0.007609</td>\n",
              "      <td>0.937111</td>\n",
              "      <td>0.957333</td>\n",
              "      <td>0.947040</td>\n",
              "    </tr>\n",
              "    <tr>\n",
              "      <th>13</th>\n",
              "      <td>SI</td>\n",
              "      <td>17.0</td>\n",
              "      <td>1.570688</td>\n",
              "      <td>0.940751</td>\n",
              "      <td>0.007316</td>\n",
              "      <td>0.937037</td>\n",
              "      <td>0.958287</td>\n",
              "      <td>0.947469</td>\n",
              "    </tr>\n",
              "    <tr>\n",
              "      <th>14</th>\n",
              "      <td>SI</td>\n",
              "      <td>18.0</td>\n",
              "      <td>1.610341</td>\n",
              "      <td>0.944911</td>\n",
              "      <td>0.006584</td>\n",
              "      <td>0.941085</td>\n",
              "      <td>0.961528</td>\n",
              "      <td>0.951131</td>\n",
              "    </tr>\n",
              "    <tr>\n",
              "      <th>15</th>\n",
              "      <td>SI</td>\n",
              "      <td>19.0</td>\n",
              "      <td>1.628751</td>\n",
              "      <td>0.945273</td>\n",
              "      <td>0.007938</td>\n",
              "      <td>0.941051</td>\n",
              "      <td>0.962345</td>\n",
              "      <td>0.951491</td>\n",
              "    </tr>\n",
              "    <tr>\n",
              "      <th>16</th>\n",
              "      <td>SI</td>\n",
              "      <td>20.0</td>\n",
              "      <td>1.667163</td>\n",
              "      <td>0.947263</td>\n",
              "      <td>0.007086</td>\n",
              "      <td>0.941482</td>\n",
              "      <td>0.965587</td>\n",
              "      <td>0.953328</td>\n",
              "    </tr>\n",
              "    <tr>\n",
              "      <th>17</th>\n",
              "      <td>SI</td>\n",
              "      <td>21.0</td>\n",
              "      <td>1.686655</td>\n",
              "      <td>0.948530</td>\n",
              "      <td>0.006238</td>\n",
              "      <td>0.942402</td>\n",
              "      <td>0.966877</td>\n",
              "      <td>0.954437</td>\n",
              "    </tr>\n",
              "    <tr>\n",
              "      <th>18</th>\n",
              "      <td>SI</td>\n",
              "      <td>22.0</td>\n",
              "      <td>1.717237</td>\n",
              "      <td>0.949162</td>\n",
              "      <td>0.006518</td>\n",
              "      <td>0.942610</td>\n",
              "      <td>0.967837</td>\n",
              "      <td>0.955010</td>\n",
              "    </tr>\n",
              "    <tr>\n",
              "      <th>19</th>\n",
              "      <td>SI</td>\n",
              "      <td>23.0</td>\n",
              "      <td>1.735608</td>\n",
              "      <td>0.948981</td>\n",
              "      <td>0.007078</td>\n",
              "      <td>0.942581</td>\n",
              "      <td>0.967532</td>\n",
              "      <td>0.954852</td>\n",
              "    </tr>\n",
              "    <tr>\n",
              "      <th>20</th>\n",
              "      <td>SI</td>\n",
              "      <td>24.0</td>\n",
              "      <td>1.715794</td>\n",
              "      <td>0.949524</td>\n",
              "      <td>0.006873</td>\n",
              "      <td>0.943893</td>\n",
              "      <td>0.967047</td>\n",
              "      <td>0.955291</td>\n",
              "    </tr>\n",
              "    <tr>\n",
              "      <th>21</th>\n",
              "      <td>SI</td>\n",
              "      <td>25.0</td>\n",
              "      <td>1.737038</td>\n",
              "      <td>0.949795</td>\n",
              "      <td>0.007044</td>\n",
              "      <td>0.943782</td>\n",
              "      <td>0.967691</td>\n",
              "      <td>0.955553</td>\n",
              "    </tr>\n",
              "    <tr>\n",
              "      <th>22</th>\n",
              "      <td>SI</td>\n",
              "      <td>26.0</td>\n",
              "      <td>1.769595</td>\n",
              "      <td>0.950700</td>\n",
              "      <td>0.006550</td>\n",
              "      <td>0.944560</td>\n",
              "      <td>0.968482</td>\n",
              "      <td>0.956336</td>\n",
              "    </tr>\n",
              "    <tr>\n",
              "      <th>23</th>\n",
              "      <td>SI</td>\n",
              "      <td>27.0</td>\n",
              "      <td>1.815797</td>\n",
              "      <td>0.950519</td>\n",
              "      <td>0.007536</td>\n",
              "      <td>0.944859</td>\n",
              "      <td>0.967830</td>\n",
              "      <td>0.956169</td>\n",
              "    </tr>\n",
              "    <tr>\n",
              "      <th>24</th>\n",
              "      <td>SI</td>\n",
              "      <td>28.0</td>\n",
              "      <td>1.833514</td>\n",
              "      <td>0.951062</td>\n",
              "      <td>0.005809</td>\n",
              "      <td>0.945265</td>\n",
              "      <td>0.968320</td>\n",
              "      <td>0.956627</td>\n",
              "    </tr>\n",
              "    <tr>\n",
              "      <th>25</th>\n",
              "      <td>SI</td>\n",
              "      <td>29.0</td>\n",
              "      <td>1.876602</td>\n",
              "      <td>0.950971</td>\n",
              "      <td>0.006248</td>\n",
              "      <td>0.945125</td>\n",
              "      <td>0.968320</td>\n",
              "      <td>0.956555</td>\n",
              "    </tr>\n",
              "  </tbody>\n",
              "</table>\n",
              "</div>"
            ],
            "text/plain": [
              "   CON_SEL  NUM_VAR  T_EJECUCION  ...  precision_score  recall_score  f1_score\n",
              "0       NO     30.0     1.870184  ...         0.945397      0.967834  0.956457\n",
              "1       SI      5.0     1.222575  ...         0.914343      0.929060  0.921349\n",
              "2       SI      6.0     1.267880  ...         0.913085      0.934613  0.923241\n",
              "3       SI      7.0     1.264377  ...         0.916472      0.941335  0.928537\n",
              "4       SI      8.0     1.300761  ...         0.919363      0.942914  0.930848\n",
              "5       SI      9.0     1.328049  ...         0.922608      0.943738  0.932921\n",
              "6       SI     10.0     1.343657  ...         0.923448      0.945821  0.934394\n",
              "7       SI     11.0     1.369280  ...         0.926369      0.950403  0.938138\n",
              "8       SI     12.0     1.489174  ...         0.931576      0.951346  0.941277\n",
              "9       SI     13.0     1.420331  ...         0.932662      0.954305  0.943253\n",
              "10      SI     14.0     1.447763  ...         0.933201      0.955091  0.943903\n",
              "11      SI     15.0     1.493801  ...         0.936487      0.954268  0.945200\n",
              "12      SI     16.0     1.534596  ...         0.937111      0.957333  0.947040\n",
              "13      SI     17.0     1.570688  ...         0.937037      0.958287  0.947469\n",
              "14      SI     18.0     1.610341  ...         0.941085      0.961528  0.951131\n",
              "15      SI     19.0     1.628751  ...         0.941051      0.962345  0.951491\n",
              "16      SI     20.0     1.667163  ...         0.941482      0.965587  0.953328\n",
              "17      SI     21.0     1.686655  ...         0.942402      0.966877  0.954437\n",
              "18      SI     22.0     1.717237  ...         0.942610      0.967837  0.955010\n",
              "19      SI     23.0     1.735608  ...         0.942581      0.967532  0.954852\n",
              "20      SI     24.0     1.715794  ...         0.943893      0.967047  0.955291\n",
              "21      SI     25.0     1.737038  ...         0.943782      0.967691  0.955553\n",
              "22      SI     26.0     1.769595  ...         0.944560      0.968482  0.956336\n",
              "23      SI     27.0     1.815797  ...         0.944859      0.967830  0.956169\n",
              "24      SI     28.0     1.833514  ...         0.945265      0.968320  0.956627\n",
              "25      SI     29.0     1.876602  ...         0.945125      0.968320  0.956555\n",
              "\n",
              "[26 rows x 8 columns]"
            ]
          },
          "metadata": {
            "tags": []
          },
          "execution_count": 20
        }
      ]
    },
    {
      "cell_type": "markdown",
      "metadata": {
        "id": "Oj4D0Q7bItl2"
      },
      "source": [
        "**PCA** EN MLP"
      ]
    },
    {
      "cell_type": "code",
      "metadata": {
        "id": "pafZLIo4J_3X"
      },
      "source": [
        "import time\r\n",
        "from sklearn.decomposition import PCA\r\n",
        "def entrenamiento_sin_seleccion_caracteristicas_MLP(splits, X, Y):\r\n",
        "\r\n",
        "    #Implemetamos la metodología de validación\r\n",
        "    Errores = np.ones(splits)\r\n",
        "    Score = np.ones(splits)\r\n",
        "    times = np.ones(splits)\r\n",
        "    j = 0\r\n",
        "    kf = KFold(n_splits=splits)\r\n",
        "    Mpre = []\r\n",
        "    Mrec = []\r\n",
        "    Mf1 = []\r\n",
        "    for train_index, test_index in kf.split(X):\r\n",
        "        X_train, X_test = X[train_index], X[test_index]\r\n",
        "        y_train, y_test = Y[train_index], Y[test_index]\r\n",
        "        scaler = StandardScaler()\r\n",
        "        X_train = scaler.fit_transform(X_train)\r\n",
        "        X_test = scaler.transform(X_test)\r\n",
        "        #Creamos el clasificador MLP.\r\n",
        "        hidden_layer_sizes = tuple(2 * [40])\r\n",
        "        clf = MLPClassifier(activation='tanh', hidden_layer_sizes= hidden_layer_sizes, max_iter= 1000)\r\n",
        "        #Aquí se entran y se valida el modelo sin hacer selección de características\r\n",
        "        tiempo_i = time.time()\r\n",
        "        clf.fit(X_train,y_train)\r\n",
        "        y_test_pred =clf.predict(X_test)\r\n",
        "        # Validación del modelo\r\n",
        "        Errores[j] = accuracy_score(y_true=y_test, y_pred=y_test_pred)\r\n",
        "        Mpre.append(precision_score(y_test, y_test_pred))\r\n",
        "        Mrec.append(recall_score(y_test, y_test_pred))\r\n",
        "        Mf1.append(f1_score(y_test, y_test_pred))\r\n",
        "        times[j] = time.time()-tiempo_i\r\n",
        "        j+=1\r\n",
        "\r\n",
        "    return np.mean(Errores), np.std(Errores), np.mean(times), np.mean(Mpre), np.mean(Mrec), np.mean(Mf1)\r\n",
        "#ejercicio de código\r\n",
        "def entrenamiento_pca_ext_caracteristicas_MLP(n_comp, X, Y):\r\n",
        "\r\n",
        "    #Implemetamos la metodología de validación \r\n",
        "    Errores = np.ones(10)\r\n",
        "    times = np.ones(10)\r\n",
        "    j = 0\r\n",
        "    kf = KFold(n_splits=10)\r\n",
        "    Mpre = []\r\n",
        "    Mrec = []\r\n",
        "    Mf1 = []\r\n",
        "    for train_index, test_index in kf.split(X):  \r\n",
        "        X_train, X_test = X[train_index], X[test_index]\r\n",
        "        y_train, y_test = Y[train_index], Y[test_index]\r\n",
        "        \r\n",
        "        # ¿es necesario estandarizacion de datos?\r\n",
        "        scaler = StandardScaler()\r\n",
        "        X_train = scaler.fit_transform(X_train)\r\n",
        "        X_test = scaler.transform(X_test)\r\n",
        " \r\n",
        "        #dejar el mismo nombre del objeto \r\n",
        "        pca = PCA(n_components=n_comp)\r\n",
        "        # para calcular costo computacional\r\n",
        "        tiempo_i = time.time()\r\n",
        "        # es recomendable usar el metodo que ajusta y transforma\r\n",
        "        X_train_pca = pca.fit_transform(X=X_train)\r\n",
        "        # aca solo usar el metodo de transformar (ya que en el anterior el pca se ajusto)\r\n",
        "        X_test_pca = pca.transform(X=X_test)\r\n",
        "        # entrenar el modelo usando las caractieristicas transformadas por PCA\r\n",
        "        hidden_layer_sizes = tuple(2 * [40])\r\n",
        "        clf = MLPClassifier(activation='tanh', hidden_layer_sizes= hidden_layer_sizes, max_iter= 1000)\r\n",
        "        clf.fit(X=X_train_pca, y=y_train)\r\n",
        "        y_test_pred =clf.predict(X_test_pca)\r\n",
        "        Errores[j] = accuracy_score(y_true=y_test, y_pred= y_test_pred)\r\n",
        "        Mpre.append(precision_score(y_test, y_test_pred))\r\n",
        "        Mrec.append(recall_score(y_test, y_test_pred))\r\n",
        "        Mf1.append(f1_score(y_test, y_test_pred))\r\n",
        "        tiempo_o = time.time()-tiempo_i\r\n",
        "        times[j] = tiempo_o\r\n",
        "        j+=1\r\n",
        "\r\n",
        "\r\n",
        "    return np.mean(Errores), np.std(Errores), np.mean(times), np.mean(Mpre), np.mean(Mrec), np.mean(Mf1)\r\n",
        "#ejercicio de código\r\n",
        "def experimentar_PCA_MLP(n_feats, X, Y):\r\n",
        "\r\n",
        "    df = pd.DataFrame()\r\n",
        "    idx = 0\r\n",
        "    split_number = 10\r\n",
        "    #Sin selección de características\r\n",
        "    error, ic_error, t_ex, presicion, recall, f1s= entrenamiento_sin_seleccion_caracteristicas_MLP(split_number, X,Y)  \r\n",
        "    df.loc[idx,'CON_SEL'] = 'NO'\r\n",
        "    df.loc[idx,'NUM_VAR'] = X.shape[1] # se usan todas las caracteristicas\r\n",
        "    df.loc[idx,'T_EJECUCION'] = t_ex\r\n",
        "    df.loc[idx,'ACCURACY'] = error\r\n",
        "    df.loc[idx,'INTERVALO DE CONFIANZA'] = ic_error\r\n",
        "    df.loc[idx,'precision_score'] = presicion\r\n",
        "    df.loc[idx,'recall_score'] = recall\r\n",
        "    df.loc[idx,'f1_score'] = f1s\r\n",
        "    idx+=1\r\n",
        "    print(\"termina experimento sin selección\")\r\n",
        "    #Con selección de características\r\n",
        "    \r\n",
        "    for f in n_feats:\r\n",
        "        #Implemetamos la metodología de validación \r\n",
        "        error,ic_error,t_ex, presicion, recall, f1s  = entrenamiento_pca_ext_caracteristicas_MLP(n_comp=f, X=X,Y=Y)\r\n",
        "        df.loc[idx,'CON_SEL'] = 'SI'\r\n",
        "        df.loc[idx,'NUM_VAR'] = f # se usan todas las caracteristicas\r\n",
        "        df.loc[idx,'T_EJECUCION'] = t_ex\r\n",
        "        df.loc[idx,'ACCURACY'] = error\r\n",
        "        df.loc[idx,'INTERVALO DE CONFIANZA'] = ic_error\r\n",
        "        df.loc[idx,'precision_score'] = presicion\r\n",
        "        df.loc[idx,'recall_score'] = recall\r\n",
        "        df.loc[idx,'f1_score'] = f1s\r\n",
        "        idx+=1\r\n",
        "    return df\r\n"
      ],
      "execution_count": null,
      "outputs": []
    },
    {
      "cell_type": "code",
      "metadata": {
        "colab": {
          "base_uri": "https://localhost:8080/",
          "height": 221
        },
        "id": "f7PCOJUBTeN4",
        "outputId": "c3080745-c705-4bcd-cd1c-3657ad86507a"
      },
      "source": [
        "MLPresultadosPCA = experimentar_PCA_MLP([26,27,28,29], X, Y)\r\n",
        "MLPresultadosPCA"
      ],
      "execution_count": null,
      "outputs": [
        {
          "output_type": "stream",
          "text": [
            "termina experimento sin selección\n"
          ],
          "name": "stdout"
        },
        {
          "output_type": "execute_result",
          "data": {
            "text/html": [
              "<div>\n",
              "<style scoped>\n",
              "    .dataframe tbody tr th:only-of-type {\n",
              "        vertical-align: middle;\n",
              "    }\n",
              "\n",
              "    .dataframe tbody tr th {\n",
              "        vertical-align: top;\n",
              "    }\n",
              "\n",
              "    .dataframe thead th {\n",
              "        text-align: right;\n",
              "    }\n",
              "</style>\n",
              "<table border=\"1\" class=\"dataframe\">\n",
              "  <thead>\n",
              "    <tr style=\"text-align: right;\">\n",
              "      <th></th>\n",
              "      <th>CON_SEL</th>\n",
              "      <th>NUM_VAR</th>\n",
              "      <th>T_EJECUCION</th>\n",
              "      <th>ACCURACY</th>\n",
              "      <th>INTERVALO DE CONFIANZA</th>\n",
              "      <th>precision_score</th>\n",
              "      <th>recall_score</th>\n",
              "      <th>f1_score</th>\n",
              "    </tr>\n",
              "  </thead>\n",
              "  <tbody>\n",
              "    <tr>\n",
              "      <th>0</th>\n",
              "      <td>NO</td>\n",
              "      <td>30.0</td>\n",
              "      <td>15.484692</td>\n",
              "      <td>0.968426</td>\n",
              "      <td>0.011796</td>\n",
              "      <td>0.965683</td>\n",
              "      <td>0.978065</td>\n",
              "      <td>0.971804</td>\n",
              "    </tr>\n",
              "    <tr>\n",
              "      <th>1</th>\n",
              "      <td>SI</td>\n",
              "      <td>26.0</td>\n",
              "      <td>16.794139</td>\n",
              "      <td>0.966345</td>\n",
              "      <td>0.013796</td>\n",
              "      <td>0.965943</td>\n",
              "      <td>0.973928</td>\n",
              "      <td>0.969860</td>\n",
              "    </tr>\n",
              "    <tr>\n",
              "      <th>2</th>\n",
              "      <td>SI</td>\n",
              "      <td>27.0</td>\n",
              "      <td>15.184544</td>\n",
              "      <td>0.968968</td>\n",
              "      <td>0.013277</td>\n",
              "      <td>0.965077</td>\n",
              "      <td>0.979854</td>\n",
              "      <td>0.972391</td>\n",
              "    </tr>\n",
              "    <tr>\n",
              "      <th>3</th>\n",
              "      <td>SI</td>\n",
              "      <td>28.0</td>\n",
              "      <td>16.793584</td>\n",
              "      <td>0.968245</td>\n",
              "      <td>0.013024</td>\n",
              "      <td>0.964483</td>\n",
              "      <td>0.979174</td>\n",
              "      <td>0.971726</td>\n",
              "    </tr>\n",
              "    <tr>\n",
              "      <th>4</th>\n",
              "      <td>SI</td>\n",
              "      <td>29.0</td>\n",
              "      <td>15.216092</td>\n",
              "      <td>0.966165</td>\n",
              "      <td>0.010832</td>\n",
              "      <td>0.965455</td>\n",
              "      <td>0.974185</td>\n",
              "      <td>0.969766</td>\n",
              "    </tr>\n",
              "  </tbody>\n",
              "</table>\n",
              "</div>"
            ],
            "text/plain": [
              "  CON_SEL  NUM_VAR  T_EJECUCION  ...  precision_score  recall_score  f1_score\n",
              "0      NO     30.0    15.484692  ...         0.965683      0.978065  0.971804\n",
              "1      SI     26.0    16.794139  ...         0.965943      0.973928  0.969860\n",
              "2      SI     27.0    15.184544  ...         0.965077      0.979854  0.972391\n",
              "3      SI     28.0    16.793584  ...         0.964483      0.979174  0.971726\n",
              "4      SI     29.0    15.216092  ...         0.965455      0.974185  0.969766\n",
              "\n",
              "[5 rows x 8 columns]"
            ]
          },
          "metadata": {
            "tags": []
          },
          "execution_count": 31
        }
      ]
    }
  ]
}